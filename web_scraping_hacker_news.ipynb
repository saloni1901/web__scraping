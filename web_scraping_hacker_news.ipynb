{
  "nbformat": 4,
  "nbformat_minor": 0,
  "metadata": {
    "colab": {
      "name": "web_scraping_hacker_news",
      "provenance": [],
      "authorship_tag": "ABX9TyNQG3iC6hFFsAT/EMjjO3yP",
      "include_colab_link": true
    },
    "kernelspec": {
      "name": "python3",
      "display_name": "Python 3"
    },
    "language_info": {
      "name": "python"
    }
  },
  "cells": [
    {
      "cell_type": "markdown",
      "metadata": {
        "id": "view-in-github",
        "colab_type": "text"
      },
      "source": [
        "<a href=\"https://colab.research.google.com/github/saloni1901/web__scraping/blob/main/web_scraping_hacker_news.ipynb\" target=\"_parent\"><img src=\"https://colab.research.google.com/assets/colab-badge.svg\" alt=\"Open In Colab\"/></a>"
      ]
    },
    {
      "cell_type": "code",
      "metadata": {
        "id": "UY0IZ822s4m7"
      },
      "source": [
        "from bs4 import BeautifulSoup #it parse (convert str to actual object so we can manupilate)"
      ],
      "execution_count": 1,
      "outputs": []
    },
    {
      "cell_type": "code",
      "metadata": {
        "id": "D5vvsg-oNGyP"
      },
      "source": [
        "import requests #help to grab html files "
      ],
      "execution_count": 4,
      "outputs": []
    },
    {
      "cell_type": "code",
      "metadata": {
        "colab": {
          "base_uri": "https://localhost:8080/"
        },
        "id": "RdbRYoTzOEUQ",
        "outputId": "fc8eb2e6-5877-40fe-ca53-972ffcdb01b5"
      },
      "source": [
        "res=requests.get('https://news.ycombinator.com/news')# to get the data from 2 page 3 page and sone just cope the url of 2nd page and whatever pages you want to get\n",
        "print(res)"
      ],
      "execution_count": 7,
      "outputs": [
        {
          "output_type": "stream",
          "text": [
            "<Response [200]>\n"
          ],
          "name": "stdout"
        }
      ]
    },
    {
      "cell_type": "code",
      "metadata": {
        "colab": {
          "base_uri": "https://localhost:8080/"
        },
        "id": "Zd4ODPPgPGDY",
        "outputId": "47bf3128-52be-4138-fe66-5d9e2606c64b"
      },
      "source": [
        "print(res.text)"
      ],
      "execution_count": 8,
      "outputs": [
        {
          "output_type": "stream",
          "text": [
            "<html lang=\"en\" op=\"news\"><head><meta name=\"referrer\" content=\"origin\"><meta name=\"viewport\" content=\"width=device-width, initial-scale=1.0\"><link rel=\"stylesheet\" type=\"text/css\" href=\"news.css?0yi3nOLZfN1JGWbReh9A\">\n",
            "        <link rel=\"shortcut icon\" href=\"favicon.ico\">\n",
            "          <link rel=\"alternate\" type=\"application/rss+xml\" title=\"RSS\" href=\"rss\">\n",
            "        <title>Hacker News</title></head><body><center><table id=\"hnmain\" border=\"0\" cellpadding=\"0\" cellspacing=\"0\" width=\"85%\" bgcolor=\"#f6f6ef\">\n",
            "        <tr><td bgcolor=\"#ff6600\"><table border=\"0\" cellpadding=\"0\" cellspacing=\"0\" width=\"100%\" style=\"padding:2px\"><tr><td style=\"width:18px;padding-right:4px\"><a href=\"https://news.ycombinator.com\"><img src=\"y18.gif\" width=\"18\" height=\"18\" style=\"border:1px white solid;\"></a></td>\n",
            "                  <td style=\"line-height:12pt; height:10px;\"><span class=\"pagetop\"><b class=\"hnname\"><a href=\"news\">Hacker News</a></b>\n",
            "              <a href=\"newest\">new</a> | <a href=\"front\">past</a> | <a href=\"newcomments\">comments</a> | <a href=\"ask\">ask</a> | <a href=\"show\">show</a> | <a href=\"jobs\">jobs</a> | <a href=\"submit\">submit</a>            </span></td><td style=\"text-align:right;padding-right:4px;\"><span class=\"pagetop\">\n",
            "                              <a href=\"login?goto=news\">login</a>\n",
            "                          </span></td>\n",
            "              </tr></table></td></tr>\n",
            "<tr id=\"pagespace\" title=\"\" style=\"height:10px\"></tr><tr><td><table border=\"0\" cellpadding=\"0\" cellspacing=\"0\" class=\"itemlist\">\n",
            "              <tr class='athing' id='27058178'>\n",
            "      <td align=\"right\" valign=\"top\" class=\"title\"><span class=\"rank\">1.</span></td>      <td valign=\"top\" class=\"votelinks\"><center><a id='up_27058178' href='vote?id=27058178&amp;how=up&amp;goto=news'><div class='votearrow' title='upvote'></div></a></center></td><td class=\"title\"><a href=\"https://techstartups.com/2021/05/05/liveleak-shuts-15-years-online/\" class=\"storylink\">LiveLeak shuts down after 15 years online</a><span class=\"sitebit comhead\"> (<a href=\"from?site=techstartups.com\"><span class=\"sitestr\">techstartups.com</span></a>)</span></td></tr><tr><td colspan=\"2\"></td><td class=\"subtext\">\n",
            "        <span class=\"score\" id=\"score_27058178\">362 points</span> by <a href=\"user?id=ro_bit\" class=\"hnuser\">ro_bit</a> <span class=\"age\"><a href=\"item?id=27058178\">4 hours ago</a></span> <span id=\"unv_27058178\"></span> | <a href=\"hide?id=27058178&amp;goto=news\">hide</a> | <a href=\"item?id=27058178\">223&nbsp;comments</a>              </td></tr>\n",
            "      <tr class=\"spacer\" style=\"height:5px\"></tr>\n",
            "                <tr class='athing' id='27059119'>\n",
            "      <td align=\"right\" valign=\"top\" class=\"title\"><span class=\"rank\">2.</span></td>      <td valign=\"top\" class=\"votelinks\"><center><a id='up_27059119' href='vote?id=27059119&amp;how=up&amp;goto=news'><div class='votearrow' title='upvote'></div></a></center></td><td class=\"title\"><a href=\"https://blog.pyston.org/2021/05/05/pyston-v2-2-faster-and-open-source/\" class=\"storylink\">Pyston v2.2: faster and open source</a><span class=\"sitebit comhead\"> (<a href=\"from?site=pyston.org\"><span class=\"sitestr\">pyston.org</span></a>)</span></td></tr><tr><td colspan=\"2\"></td><td class=\"subtext\">\n",
            "        <span class=\"score\" id=\"score_27059119\">34 points</span> by <a href=\"user?id=chenzhekl\" class=\"hnuser\">chenzhekl</a> <span class=\"age\"><a href=\"item?id=27059119\">1 hour ago</a></span> <span id=\"unv_27059119\"></span> | <a href=\"hide?id=27059119&amp;goto=news\">hide</a> | <a href=\"item?id=27059119\">6&nbsp;comments</a>              </td></tr>\n",
            "      <tr class=\"spacer\" style=\"height:5px\"></tr>\n",
            "                <tr class='athing' id='27052840'>\n",
            "      <td align=\"right\" valign=\"top\" class=\"title\"><span class=\"rank\">3.</span></td>      <td valign=\"top\" class=\"votelinks\"><center><a id='up_27052840' href='vote?id=27052840&amp;how=up&amp;goto=news'><div class='votearrow' title='upvote'></div></a></center></td><td class=\"title\"><a href=\"https://github.com/timvisee/send\" class=\"storylink\">Send: A Fork of Mozilla's Firefox Send</a><span class=\"sitebit comhead\"> (<a href=\"from?site=github.com/timvisee\"><span class=\"sitestr\">github.com/timvisee</span></a>)</span></td></tr><tr><td colspan=\"2\"></td><td class=\"subtext\">\n",
            "        <span class=\"score\" id=\"score_27052840\">517 points</span> by <a href=\"user?id=andredz\" class=\"hnuser\">andredz</a> <span class=\"age\"><a href=\"item?id=27052840\">12 hours ago</a></span> <span id=\"unv_27052840\"></span> | <a href=\"hide?id=27052840&amp;goto=news\">hide</a> | <a href=\"item?id=27052840\">103&nbsp;comments</a>              </td></tr>\n",
            "      <tr class=\"spacer\" style=\"height:5px\"></tr>\n",
            "                <tr class='athing' id='27058914'>\n",
            "      <td align=\"right\" valign=\"top\" class=\"title\"><span class=\"rank\">4.</span></td>      <td valign=\"top\" class=\"votelinks\"><center><a id='up_27058914' href='vote?id=27058914&amp;how=up&amp;goto=news'><div class='votearrow' title='upvote'></div></a></center></td><td class=\"title\"><a href=\"https://github.com/Sysinternals/ProcMon-for-Linux/\" class=\"storylink\">ProcMon for Linux (Preview)</a><span class=\"sitebit comhead\"> (<a href=\"from?site=github.com/sysinternals\"><span class=\"sitestr\">github.com/sysinternals</span></a>)</span></td></tr><tr><td colspan=\"2\"></td><td class=\"subtext\">\n",
            "        <span class=\"score\" id=\"score_27058914\">37 points</span> by <a href=\"user?id=vmarsy\" class=\"hnuser\">vmarsy</a> <span class=\"age\"><a href=\"item?id=27058914\">2 hours ago</a></span> <span id=\"unv_27058914\"></span> | <a href=\"hide?id=27058914&amp;goto=news\">hide</a> | <a href=\"item?id=27058914\">4&nbsp;comments</a>              </td></tr>\n",
            "      <tr class=\"spacer\" style=\"height:5px\"></tr>\n",
            "                <tr class='athing' id='27059194'>\n",
            "      <td align=\"right\" valign=\"top\" class=\"title\"><span class=\"rank\">5.</span></td>      <td valign=\"top\" class=\"votelinks\"><center><a id='up_27059194' href='vote?id=27059194&amp;how=up&amp;goto=news'><div class='votearrow' title='upvote'></div></a></center></td><td class=\"title\"><a href=\"https://twitter.com/CoinbaseNews/status/1390065013071781889\" class=\"storylink\">Coinbase is closing their SF office and going full remote</a><span class=\"sitebit comhead\"> (<a href=\"from?site=twitter.com/coinbasenews\"><span class=\"sitestr\">twitter.com/coinbasenews</span></a>)</span></td></tr><tr><td colspan=\"2\"></td><td class=\"subtext\">\n",
            "        <span class=\"score\" id=\"score_27059194\">53 points</span> by <a href=\"user?id=ZephyrBlu\" class=\"hnuser\">ZephyrBlu</a> <span class=\"age\"><a href=\"item?id=27059194\">1 hour ago</a></span> <span id=\"unv_27059194\"></span> | <a href=\"hide?id=27059194&amp;goto=news\">hide</a> | <a href=\"item?id=27059194\">14&nbsp;comments</a>              </td></tr>\n",
            "      <tr class=\"spacer\" style=\"height:5px\"></tr>\n",
            "                <tr class='athing' id='27054357'>\n",
            "      <td align=\"right\" valign=\"top\" class=\"title\"><span class=\"rank\">6.</span></td>      <td valign=\"top\" class=\"votelinks\"><center><a id='up_27054357' href='vote?id=27054357&amp;how=up&amp;goto=news'><div class='votearrow' title='upvote'></div></a></center></td><td class=\"title\"><a href=\"https://www.csweapons.com\" class=\"storylink\">Show HN: CS Weapons – Counter-Strike weapon data comparison app</a><span class=\"sitebit comhead\"> (<a href=\"from?site=csweapons.com\"><span class=\"sitestr\">csweapons.com</span></a>)</span></td></tr><tr><td colspan=\"2\"></td><td class=\"subtext\">\n",
            "        <span class=\"score\" id=\"score_27054357\">184 points</span> by <a href=\"user?id=vercadium\" class=\"hnuser\">vercadium</a> <span class=\"age\"><a href=\"item?id=27054357\">10 hours ago</a></span> <span id=\"unv_27054357\"></span> | <a href=\"hide?id=27054357&amp;goto=news\">hide</a> | <a href=\"item?id=27054357\">83&nbsp;comments</a>              </td></tr>\n",
            "      <tr class=\"spacer\" style=\"height:5px\"></tr>\n",
            "                <tr class='athing' id='27051468'>\n",
            "      <td align=\"right\" valign=\"top\" class=\"title\"><span class=\"rank\">7.</span></td>      <td valign=\"top\" class=\"votelinks\"><center><a id='up_27051468' href='vote?id=27051468&amp;how=up&amp;goto=news'><div class='votearrow' title='upvote'></div></a></center></td><td class=\"title\"><a href=\"https://github.com/andymatuschak/orbit\" class=\"storylink\">Orbit: an experimental platform for small tasks repeated over time</a><span class=\"sitebit comhead\"> (<a href=\"from?site=github.com/andymatuschak\"><span class=\"sitestr\">github.com/andymatuschak</span></a>)</span></td></tr><tr><td colspan=\"2\"></td><td class=\"subtext\">\n",
            "        <span class=\"score\" id=\"score_27051468\">341 points</span> by <a href=\"user?id=goerz\" class=\"hnuser\">goerz</a> <span class=\"age\"><a href=\"item?id=27051468\">13 hours ago</a></span> <span id=\"unv_27051468\"></span> | <a href=\"hide?id=27051468&amp;goto=news\">hide</a> | <a href=\"item?id=27051468\">52&nbsp;comments</a>              </td></tr>\n",
            "      <tr class=\"spacer\" style=\"height:5px\"></tr>\n",
            "                <tr class='athing' id='27053655'>\n",
            "      <td align=\"right\" valign=\"top\" class=\"title\"><span class=\"rank\">8.</span></td>      <td valign=\"top\" class=\"votelinks\"><center><a id='up_27053655' href='vote?id=27053655&amp;how=up&amp;goto=news'><div class='votearrow' title='upvote'></div></a></center></td><td class=\"title\"><a href=\"http://www.macflim.com\" class=\"storylink\">MacFlim: Full-motion video on B&W Macs</a><span class=\"sitebit comhead\"> (<a href=\"from?site=macflim.com\"><span class=\"sitestr\">macflim.com</span></a>)</span></td></tr><tr><td colspan=\"2\"></td><td class=\"subtext\">\n",
            "        <span class=\"score\" id=\"score_27053655\">167 points</span> by <a href=\"user?id=smagoun\" class=\"hnuser\">smagoun</a> <span class=\"age\"><a href=\"item?id=27053655\">11 hours ago</a></span> <span id=\"unv_27053655\"></span> | <a href=\"hide?id=27053655&amp;goto=news\">hide</a> | <a href=\"item?id=27053655\">53&nbsp;comments</a>              </td></tr>\n",
            "      <tr class=\"spacer\" style=\"height:5px\"></tr>\n",
            "                <tr class='athing' id='27054348'>\n",
            "      <td align=\"right\" valign=\"top\" class=\"title\"><span class=\"rank\">9.</span></td>      <td valign=\"top\" class=\"votelinks\"><center><a id='up_27054348' href='vote?id=27054348&amp;how=up&amp;goto=news'><div class='votearrow' title='upvote'></div></a></center></td><td class=\"title\"><a href=\"https://markodenic.com/posts/html-tips/\" class=\"storylink\">HTML Tips (2020)</a><span class=\"sitebit comhead\"> (<a href=\"from?site=markodenic.com\"><span class=\"sitestr\">markodenic.com</span></a>)</span></td></tr><tr><td colspan=\"2\"></td><td class=\"subtext\">\n",
            "        <span class=\"score\" id=\"score_27054348\">459 points</span> by <a href=\"user?id=web_master\" class=\"hnuser\">web_master</a> <span class=\"age\"><a href=\"item?id=27054348\">10 hours ago</a></span> <span id=\"unv_27054348\"></span> | <a href=\"hide?id=27054348&amp;goto=news\">hide</a> | <a href=\"item?id=27054348\">85&nbsp;comments</a>              </td></tr>\n",
            "      <tr class=\"spacer\" style=\"height:5px\"></tr>\n",
            "                <tr class='athing' id='27050801'>\n",
            "      <td align=\"right\" valign=\"top\" class=\"title\"><span class=\"rank\">10.</span></td>      <td valign=\"top\" class=\"votelinks\"><center><a id='up_27050801' href='vote?id=27050801&amp;how=up&amp;goto=news'><div class='votearrow' title='upvote'></div></a></center></td><td class=\"title\"><a href=\"http://mobileatscale.com/\" class=\"storylink\">Show HN: I wrote the book Building Mobile Apps at Scale</a><span class=\"sitebit comhead\"> (<a href=\"from?site=mobileatscale.com\"><span class=\"sitestr\">mobileatscale.com</span></a>)</span></td></tr><tr><td colspan=\"2\"></td><td class=\"subtext\">\n",
            "        <span class=\"score\" id=\"score_27050801\">300 points</span> by <a href=\"user?id=gregdoesit\" class=\"hnuser\">gregdoesit</a> <span class=\"age\"><a href=\"item?id=27050801\">14 hours ago</a></span> <span id=\"unv_27050801\"></span> | <a href=\"hide?id=27050801&amp;goto=news\">hide</a> | <a href=\"item?id=27050801\">36&nbsp;comments</a>              </td></tr>\n",
            "      <tr class=\"spacer\" style=\"height:5px\"></tr>\n",
            "                <tr class='athing' id='27052313'>\n",
            "      <td align=\"right\" valign=\"top\" class=\"title\"><span class=\"rank\">11.</span></td>      <td valign=\"top\" class=\"votelinks\"><center><a id='up_27052313' href='vote?id=27052313&amp;how=up&amp;goto=news'><div class='votearrow' title='upvote'></div></a></center></td><td class=\"title\"><a href=\"https://ptsjs.org/\" class=\"storylink\">Pts.js: a modular librairy for visualization and creative coding</a><span class=\"sitebit comhead\"> (<a href=\"from?site=ptsjs.org\"><span class=\"sitestr\">ptsjs.org</span></a>)</span></td></tr><tr><td colspan=\"2\"></td><td class=\"subtext\">\n",
            "        <span class=\"score\" id=\"score_27052313\">197 points</span> by <a href=\"user?id=sctgrhm\" class=\"hnuser\">sctgrhm</a> <span class=\"age\"><a href=\"item?id=27052313\">13 hours ago</a></span> <span id=\"unv_27052313\"></span> | <a href=\"hide?id=27052313&amp;goto=news\">hide</a> | <a href=\"item?id=27052313\">21&nbsp;comments</a>              </td></tr>\n",
            "      <tr class=\"spacer\" style=\"height:5px\"></tr>\n",
            "                <tr class='athing' id='27059053'>\n",
            "      <td align=\"right\" valign=\"top\" class=\"title\"><span class=\"rank\">12.</span></td>      <td valign=\"top\" class=\"votelinks\"><center><a id='up_27059053' href='vote?id=27059053&amp;how=up&amp;goto=news'><div class='votearrow' title='upvote'></div></a></center></td><td class=\"title\"><a href=\"https://www.washingtonpost.com/sports/2021/05/05/japan-ioc-olympic-contract/\" class=\"storylink\">Japan should cut losses and tell the IOC to take its Olympic pillage elsewhere</a><span class=\"sitebit comhead\"> (<a href=\"from?site=washingtonpost.com\"><span class=\"sitestr\">washingtonpost.com</span></a>)</span></td></tr><tr><td colspan=\"2\"></td><td class=\"subtext\">\n",
            "        <span class=\"score\" id=\"score_27059053\">41 points</span> by <a href=\"user?id=Clewza313\" class=\"hnuser\">Clewza313</a> <span class=\"age\"><a href=\"item?id=27059053\">1 hour ago</a></span> <span id=\"unv_27059053\"></span> | <a href=\"hide?id=27059053&amp;goto=news\">hide</a> | <a href=\"item?id=27059053\">29&nbsp;comments</a>              </td></tr>\n",
            "      <tr class=\"spacer\" style=\"height:5px\"></tr>\n",
            "                <tr class='athing' id='27045787'>\n",
            "      <td align=\"right\" valign=\"top\" class=\"title\"><span class=\"rank\">13.</span></td>      <td valign=\"top\" class=\"votelinks\"><center><a id='up_27045787' href='vote?id=27045787&amp;how=up&amp;goto=news'><div class='votearrow' title='upvote'></div></a></center></td><td class=\"title\"><a href=\"https://furbo.org/2013/06/28/the-origin-of-tweet/\" class=\"storylink\">The origin of “tweet” at Twitter (2013)</a><span class=\"sitebit comhead\"> (<a href=\"from?site=furbo.org\"><span class=\"sitestr\">furbo.org</span></a>)</span></td></tr><tr><td colspan=\"2\"></td><td class=\"subtext\">\n",
            "        <span class=\"score\" id=\"score_27045787\">97 points</span> by <a href=\"user?id=pcr910303\" class=\"hnuser\">pcr910303</a> <span class=\"age\"><a href=\"item?id=27045787\">11 hours ago</a></span> <span id=\"unv_27045787\"></span> | <a href=\"hide?id=27045787&amp;goto=news\">hide</a> | <a href=\"item?id=27045787\">35&nbsp;comments</a>              </td></tr>\n",
            "      <tr class=\"spacer\" style=\"height:5px\"></tr>\n",
            "                <tr class='athing' id='27058160'>\n",
            "      <td align=\"right\" valign=\"top\" class=\"title\"><span class=\"rank\">14.</span></td>      <td valign=\"top\" class=\"votelinks\"><center><a id='up_27058160' href='vote?id=27058160&amp;how=up&amp;goto=news'><div class='votearrow' title='upvote'></div></a></center></td><td class=\"title\"><a href=\"https://www.scientificamerican.com/article/major-depressive-disorders-have-an-enormous-economic-impact/\" class=\"storylink\">Major Depressive Disorders Have an Enormous Economic Impact</a><span class=\"sitebit comhead\"> (<a href=\"from?site=scientificamerican.com\"><span class=\"sitestr\">scientificamerican.com</span></a>)</span></td></tr><tr><td colspan=\"2\"></td><td class=\"subtext\">\n",
            "        <span class=\"score\" id=\"score_27058160\">105 points</span> by <a href=\"user?id=pseudolus\" class=\"hnuser\">pseudolus</a> <span class=\"age\"><a href=\"item?id=27058160\">4 hours ago</a></span> <span id=\"unv_27058160\"></span> | <a href=\"hide?id=27058160&amp;goto=news\">hide</a> | <a href=\"item?id=27058160\">76&nbsp;comments</a>              </td></tr>\n",
            "      <tr class=\"spacer\" style=\"height:5px\"></tr>\n",
            "                <tr class='athing' id='27051498'>\n",
            "      <td align=\"right\" valign=\"top\" class=\"title\"><span class=\"rank\">15.</span></td>      <td valign=\"top\" class=\"votelinks\"><center><a id='up_27051498' href='vote?id=27051498&amp;how=up&amp;goto=news'><div class='votearrow' title='upvote'></div></a></center></td><td class=\"title\"><a href=\"https://felleisen.org/matthias/7480-s21/index.html\" class=\"storylink\">History of Programming Languages</a><span class=\"sitebit comhead\"> (<a href=\"from?site=felleisen.org\"><span class=\"sitestr\">felleisen.org</span></a>)</span></td></tr><tr><td colspan=\"2\"></td><td class=\"subtext\">\n",
            "        <span class=\"score\" id=\"score_27051498\">130 points</span> by <a href=\"user?id=ingve\" class=\"hnuser\">ingve</a> <span class=\"age\"><a href=\"item?id=27051498\">13 hours ago</a></span> <span id=\"unv_27051498\"></span> | <a href=\"hide?id=27051498&amp;goto=news\">hide</a> | <a href=\"item?id=27051498\">25&nbsp;comments</a>              </td></tr>\n",
            "      <tr class=\"spacer\" style=\"height:5px\"></tr>\n",
            "                <tr class='athing' id='27036572'>\n",
            "      <td align=\"right\" valign=\"top\" class=\"title\"><span class=\"rank\">16.</span></td>      <td valign=\"top\" class=\"votelinks\"><center><a id='up_27036572' href='vote?id=27036572&amp;how=up&amp;goto=news'><div class='votearrow' title='upvote'></div></a></center></td><td class=\"title\"><a href=\"https://angelhof.github.io/files/papers/shell-2021-hotos.pdf\" class=\"storylink\">The Once and Future Shell [pdf]</a><span class=\"sitebit comhead\"> (<a href=\"from?site=angelhof.github.io\"><span class=\"sitestr\">angelhof.github.io</span></a>)</span></td></tr><tr><td colspan=\"2\"></td><td class=\"subtext\">\n",
            "        <span class=\"score\" id=\"score_27036572\">28 points</span> by <a href=\"user?id=matt_d\" class=\"hnuser\">matt_d</a> <span class=\"age\"><a href=\"item?id=27036572\">4 hours ago</a></span> <span id=\"unv_27036572\"></span> | <a href=\"hide?id=27036572&amp;goto=news\">hide</a> | <a href=\"item?id=27036572\">7&nbsp;comments</a>              </td></tr>\n",
            "      <tr class=\"spacer\" style=\"height:5px\"></tr>\n",
            "                <tr class='athing' id='27045463'>\n",
            "      <td align=\"right\" valign=\"top\" class=\"title\"><span class=\"rank\">17.</span></td>      <td valign=\"top\" class=\"votelinks\"><center><a id='up_27045463' href='vote?id=27045463&amp;how=up&amp;goto=news'><div class='votearrow' title='upvote'></div></a></center></td><td class=\"title\"><a href=\"https://en.wikipedia.org/wiki/1700_Cascadia_earthquake\" class=\"storylink\">1700 Cascadia Earthquake</a><span class=\"sitebit comhead\"> (<a href=\"from?site=wikipedia.org\"><span class=\"sitestr\">wikipedia.org</span></a>)</span></td></tr><tr><td colspan=\"2\"></td><td class=\"subtext\">\n",
            "        <span class=\"score\" id=\"score_27045463\">111 points</span> by <a href=\"user?id=Hooke\" class=\"hnuser\">Hooke</a> <span class=\"age\"><a href=\"item?id=27045463\">10 hours ago</a></span> <span id=\"unv_27045463\"></span> | <a href=\"hide?id=27045463&amp;goto=news\">hide</a> | <a href=\"item?id=27045463\">82&nbsp;comments</a>              </td></tr>\n",
            "      <tr class=\"spacer\" style=\"height:5px\"></tr>\n",
            "                <tr class='athing' id='27050731'>\n",
            "      <td align=\"right\" valign=\"top\" class=\"title\"><span class=\"rank\">18.</span></td>      <td valign=\"top\" class=\"votelinks\"><center><a id='up_27050731' href='vote?id=27050731&amp;how=up&amp;goto=news'><div class='votearrow' title='upvote'></div></a></center></td><td class=\"title\"><a href=\"https://blog.playcanvas.com/introducing-the-anim-state-graph/\" class=\"storylink\">PlayCanvas Launches Node-Based Animation Editor for WebGL</a><span class=\"sitebit comhead\"> (<a href=\"from?site=playcanvas.com\"><span class=\"sitestr\">playcanvas.com</span></a>)</span></td></tr><tr><td colspan=\"2\"></td><td class=\"subtext\">\n",
            "        <span class=\"score\" id=\"score_27050731\">130 points</span> by <a href=\"user?id=ovenchips\" class=\"hnuser\">ovenchips</a> <span class=\"age\"><a href=\"item?id=27050731\">14 hours ago</a></span> <span id=\"unv_27050731\"></span> | <a href=\"hide?id=27050731&amp;goto=news\">hide</a> | <a href=\"item?id=27050731\">17&nbsp;comments</a>              </td></tr>\n",
            "      <tr class=\"spacer\" style=\"height:5px\"></tr>\n",
            "                <tr class='athing' id='27052243'>\n",
            "      <td align=\"right\" valign=\"top\" class=\"title\"><span class=\"rank\">19.</span></td>      <td valign=\"top\" class=\"votelinks\"><center><a id='up_27052243' href='vote?id=27052243&amp;how=up&amp;goto=news'><div class='votearrow' title='upvote'></div></a></center></td><td class=\"title\"><a href=\"https://medium.com/planet-stories/a-handy-introduction-to-cloud-optimized-geotiffs-1f2c9e716ec3\" class=\"storylink\">Learning About the GeoTIFF File Format with a Hex Editor (2018)</a><span class=\"sitebit comhead\"> (<a href=\"from?site=medium.com/planet-stories\"><span class=\"sitestr\">medium.com/planet-stories</span></a>)</span></td></tr><tr><td colspan=\"2\"></td><td class=\"subtext\">\n",
            "        <span class=\"score\" id=\"score_27052243\">84 points</span> by <a href=\"user?id=oldpatricka\" class=\"hnuser\">oldpatricka</a> <span class=\"age\"><a href=\"item?id=27052243\">13 hours ago</a></span> <span id=\"unv_27052243\"></span> | <a href=\"hide?id=27052243&amp;goto=news\">hide</a> | <a href=\"item?id=27052243\">18&nbsp;comments</a>              </td></tr>\n",
            "      <tr class=\"spacer\" style=\"height:5px\"></tr>\n",
            "                <tr class='athing' id='27056300'>\n",
            "      <td align=\"right\" valign=\"top\" class=\"title\"><span class=\"rank\">20.</span></td>      <td valign=\"top\" class=\"votelinks\"><center><a id='up_27056300' href='vote?id=27056300&amp;how=up&amp;goto=news'><div class='votearrow' title='upvote'></div></a></center></td><td class=\"title\"><a href=\"https://pxlnv.com/linklog/california-exception/\" class=\"storylink\">The California Exception</a><span class=\"sitebit comhead\"> (<a href=\"from?site=pxlnv.com\"><span class=\"sitestr\">pxlnv.com</span></a>)</span></td></tr><tr><td colspan=\"2\"></td><td class=\"subtext\">\n",
            "        <span class=\"score\" id=\"score_27056300\">157 points</span> by <a href=\"user?id=MaysonL\" class=\"hnuser\">MaysonL</a> <span class=\"age\"><a href=\"item?id=27056300\">7 hours ago</a></span> <span id=\"unv_27056300\"></span> | <a href=\"hide?id=27056300&amp;goto=news\">hide</a> | <a href=\"item?id=27056300\">94&nbsp;comments</a>              </td></tr>\n",
            "      <tr class=\"spacer\" style=\"height:5px\"></tr>\n",
            "                <tr class='athing' id='27055759'>\n",
            "      <td align=\"right\" valign=\"top\" class=\"title\"><span class=\"rank\">21.</span></td>      <td></td><td class=\"title\"><a href=\"https://www.workatastartup.com/jobs/43771\" class=\"storylink\" rel=\"nofollow\">Zumo Labs (YC W20) Is Hiring a Product Manager</a><span class=\"sitebit comhead\"> (<a href=\"from?site=workatastartup.com\"><span class=\"sitestr\">workatastartup.com</span></a>)</span></td></tr><tr><td colspan=\"2\"></td><td class=\"subtext\">\n",
            "        <span class=\"age\"><a href=\"item?id=27055759\">8 hours ago</a></span> | <a href=\"hide?id=27055759&amp;goto=news\">hide</a>      </td></tr>\n",
            "      <tr class=\"spacer\" style=\"height:5px\"></tr>\n",
            "                <tr class='athing' id='27050687'>\n",
            "      <td align=\"right\" valign=\"top\" class=\"title\"><span class=\"rank\">22.</span></td>      <td valign=\"top\" class=\"votelinks\"><center><a id='up_27050687' href='vote?id=27050687&amp;how=up&amp;goto=news'><div class='votearrow' title='upvote'></div></a></center></td><td class=\"title\"><a href=\"https://github.com/slidevjs/slidev\" class=\"storylink\">Slidev – Presentation Slides for Developers</a><span class=\"sitebit comhead\"> (<a href=\"from?site=github.com/slidevjs\"><span class=\"sitestr\">github.com/slidevjs</span></a>)</span></td></tr><tr><td colspan=\"2\"></td><td class=\"subtext\">\n",
            "        <span class=\"score\" id=\"score_27050687\">109 points</span> by <a href=\"user?id=antfu\" class=\"hnuser\">antfu</a> <span class=\"age\"><a href=\"item?id=27050687\">14 hours ago</a></span> <span id=\"unv_27050687\"></span> | <a href=\"hide?id=27050687&amp;goto=news\">hide</a> | <a href=\"item?id=27050687\">21&nbsp;comments</a>              </td></tr>\n",
            "      <tr class=\"spacer\" style=\"height:5px\"></tr>\n",
            "                <tr class='athing' id='27047243'>\n",
            "      <td align=\"right\" valign=\"top\" class=\"title\"><span class=\"rank\">23.</span></td>      <td valign=\"top\" class=\"votelinks\"><center><a id='up_27047243' href='vote?id=27047243&amp;how=up&amp;goto=news'><div class='votearrow' title='upvote'></div></a></center></td><td class=\"title\"><a href=\"https://github.com/ClearURLs/Addon/\" class=\"storylink\">ClearURLs – automatically remove tracking elements from URLs</a><span class=\"sitebit comhead\"> (<a href=\"from?site=github.com/clearurls\"><span class=\"sitestr\">github.com/clearurls</span></a>)</span></td></tr><tr><td colspan=\"2\"></td><td class=\"subtext\">\n",
            "        <span class=\"score\" id=\"score_27047243\">707 points</span> by <a href=\"user?id=stanislavb\" class=\"hnuser\">stanislavb</a> <span class=\"age\"><a href=\"item?id=27047243\">22 hours ago</a></span> <span id=\"unv_27047243\"></span> | <a href=\"hide?id=27047243&amp;goto=news\">hide</a> | <a href=\"item?id=27047243\">276&nbsp;comments</a>              </td></tr>\n",
            "      <tr class=\"spacer\" style=\"height:5px\"></tr>\n",
            "                <tr class='athing' id='27048672'>\n",
            "      <td align=\"right\" valign=\"top\" class=\"title\"><span class=\"rank\">24.</span></td>      <td valign=\"top\" class=\"votelinks\"><center><a id='up_27048672' href='vote?id=27048672&amp;how=up&amp;goto=news'><div class='votearrow' title='upvote'></div></a></center></td><td class=\"title\"><a href=\"https://blubrry.com/microsoftresearch/76856095/120-advancing-excel-as-a-programming-language-with-andy-gordon-and-simon-peyton-jones/\" class=\"storylink\">Advancing Excel as a programming language [audio]</a><span class=\"sitebit comhead\"> (<a href=\"from?site=blubrry.com\"><span class=\"sitestr\">blubrry.com</span></a>)</span></td></tr><tr><td colspan=\"2\"></td><td class=\"subtext\">\n",
            "        <span class=\"score\" id=\"score_27048672\">69 points</span> by <a href=\"user?id=0-_-0\" class=\"hnuser\">0-_-0</a> <span class=\"age\"><a href=\"item?id=27048672\">10 hours ago</a></span> <span id=\"unv_27048672\"></span> | <a href=\"hide?id=27048672&amp;goto=news\">hide</a> | <a href=\"item?id=27048672\">74&nbsp;comments</a>              </td></tr>\n",
            "      <tr class=\"spacer\" style=\"height:5px\"></tr>\n",
            "                <tr class='athing' id='27055671'>\n",
            "      <td align=\"right\" valign=\"top\" class=\"title\"><span class=\"rank\">25.</span></td>      <td valign=\"top\" class=\"votelinks\"><center><a id='up_27055671' href='vote?id=27055671&amp;how=up&amp;goto=news'><div class='votearrow' title='upvote'></div></a></center></td><td class=\"title\"><a href=\"https://blog.google/inside-google/life-at-google/hybrid-approach-work/\" class=\"storylink\">A Hybrid Approach to Work</a><span class=\"sitebit comhead\"> (<a href=\"from?site=blog.google\"><span class=\"sitestr\">blog.google</span></a>)</span></td></tr><tr><td colspan=\"2\"></td><td class=\"subtext\">\n",
            "        <span class=\"score\" id=\"score_27055671\">130 points</span> by <a href=\"user?id=jader201\" class=\"hnuser\">jader201</a> <span class=\"age\"><a href=\"item?id=27055671\">8 hours ago</a></span> <span id=\"unv_27055671\"></span> | <a href=\"hide?id=27055671&amp;goto=news\">hide</a> | <a href=\"item?id=27055671\">99&nbsp;comments</a>              </td></tr>\n",
            "      <tr class=\"spacer\" style=\"height:5px\"></tr>\n",
            "                <tr class='athing' id='27057978'>\n",
            "      <td align=\"right\" valign=\"top\" class=\"title\"><span class=\"rank\">26.</span></td>      <td valign=\"top\" class=\"votelinks\"><center><a id='up_27057978' href='vote?id=27057978&amp;how=up&amp;goto=news'><div class='votearrow' title='upvote'></div></a></center></td><td class=\"title\"><a href=\"item?id=27057978\" class=\"storylink\">Ask HN: How do you generally build a product?</a></td></tr><tr><td colspan=\"2\"></td><td class=\"subtext\">\n",
            "        <span class=\"score\" id=\"score_27057978\">65 points</span> by <a href=\"user?id=tr1ll10nb1ll\" class=\"hnuser\">tr1ll10nb1ll</a> <span class=\"age\"><a href=\"item?id=27057978\">4 hours ago</a></span> <span id=\"unv_27057978\"></span> | <a href=\"hide?id=27057978&amp;goto=news\">hide</a> | <a href=\"item?id=27057978\">23&nbsp;comments</a>              </td></tr>\n",
            "      <tr class=\"spacer\" style=\"height:5px\"></tr>\n",
            "                <tr class='athing' id='27051575'>\n",
            "      <td align=\"right\" valign=\"top\" class=\"title\"><span class=\"rank\">27.</span></td>      <td valign=\"top\" class=\"votelinks\"><center><a id='up_27051575' href='vote?id=27051575&amp;how=up&amp;goto=news'><div class='votearrow' title='upvote'></div></a></center></td><td class=\"title\"><a href=\"https://technicshistory.com/2021/05/05/the-pumping-engine/\" class=\"storylink\" rel=\"nofollow\">The Pumping Engine</a><span class=\"sitebit comhead\"> (<a href=\"from?site=technicshistory.com\"><span class=\"sitestr\">technicshistory.com</span></a>)</span></td></tr><tr><td colspan=\"2\"></td><td class=\"subtext\">\n",
            "        <span class=\"score\" id=\"score_27051575\">7 points</span> by <a href=\"user?id=cfmcdonald\" class=\"hnuser\">cfmcdonald</a> <span class=\"age\"><a href=\"item?id=27051575\">3 hours ago</a></span> <span id=\"unv_27051575\"></span> | <a href=\"hide?id=27051575&amp;goto=news\">hide</a> | <a href=\"item?id=27051575\">1&nbsp;comment</a>              </td></tr>\n",
            "      <tr class=\"spacer\" style=\"height:5px\"></tr>\n",
            "                <tr class='athing' id='27053836'>\n",
            "      <td align=\"right\" valign=\"top\" class=\"title\"><span class=\"rank\">28.</span></td>      <td valign=\"top\" class=\"votelinks\"><center><a id='up_27053836' href='vote?id=27053836&amp;how=up&amp;goto=news'><div class='votearrow' title='upvote'></div></a></center></td><td class=\"title\"><a href=\"https://undark.org/2021/01/25/debate-over-melanoma-diagnosis/\" class=\"storylink\">Are we screening too much for skin cancer? It's complicated</a><span class=\"sitebit comhead\"> (<a href=\"from?site=undark.org\"><span class=\"sitestr\">undark.org</span></a>)</span></td></tr><tr><td colspan=\"2\"></td><td class=\"subtext\">\n",
            "        <span class=\"score\" id=\"score_27053836\">18 points</span> by <a href=\"user?id=laurex\" class=\"hnuser\">laurex</a> <span class=\"age\"><a href=\"item?id=27053836\">6 hours ago</a></span> <span id=\"unv_27053836\"></span> | <a href=\"hide?id=27053836&amp;goto=news\">hide</a> | <a href=\"item?id=27053836\">15&nbsp;comments</a>              </td></tr>\n",
            "      <tr class=\"spacer\" style=\"height:5px\"></tr>\n",
            "                <tr class='athing' id='27055364'>\n",
            "      <td align=\"right\" valign=\"top\" class=\"title\"><span class=\"rank\">29.</span></td>      <td valign=\"top\" class=\"votelinks\"><center><a id='up_27055364' href='vote?id=27055364&amp;how=up&amp;goto=news'><div class='votearrow' title='upvote'></div></a></center></td><td class=\"title\"><a href=\"https://blog.px.dev/open-source-release/\" class=\"storylink\">Open sourcing Pixie under Apache 2.0 license</a><span class=\"sitebit comhead\"> (<a href=\"from?site=px.dev\"><span class=\"sitestr\">px.dev</span></a>)</span></td></tr><tr><td colspan=\"2\"></td><td class=\"subtext\">\n",
            "        <span class=\"score\" id=\"score_27055364\">77 points</span> by <a href=\"user?id=nserrino\" class=\"hnuser\">nserrino</a> <span class=\"age\"><a href=\"item?id=27055364\">9 hours ago</a></span> <span id=\"unv_27055364\"></span> | <a href=\"hide?id=27055364&amp;goto=news\">hide</a> | <a href=\"item?id=27055364\">10&nbsp;comments</a>              </td></tr>\n",
            "      <tr class=\"spacer\" style=\"height:5px\"></tr>\n",
            "                <tr class='athing' id='27036626'>\n",
            "      <td align=\"right\" valign=\"top\" class=\"title\"><span class=\"rank\">30.</span></td>      <td valign=\"top\" class=\"votelinks\"><center><a id='up_27036626' href='vote?id=27036626&amp;how=up&amp;goto=news'><div class='votearrow' title='upvote'></div></a></center></td><td class=\"title\"><a href=\"https://github.com/jendrikseipp/vulture\" class=\"storylink\">Vulture: Find Dead Python Code</a><span class=\"sitebit comhead\"> (<a href=\"from?site=github.com/jendrikseipp\"><span class=\"sitestr\">github.com/jendrikseipp</span></a>)</span></td></tr><tr><td colspan=\"2\"></td><td class=\"subtext\">\n",
            "        <span class=\"score\" id=\"score_27036626\">55 points</span> by <a href=\"user?id=polm23\" class=\"hnuser\">polm23</a> <span class=\"age\"><a href=\"item?id=27036626\">9 hours ago</a></span> <span id=\"unv_27036626\"></span> | <a href=\"hide?id=27036626&amp;goto=news\">hide</a> | <a href=\"item?id=27036626\">17&nbsp;comments</a>              </td></tr>\n",
            "      <tr class=\"spacer\" style=\"height:5px\"></tr>\n",
            "            <tr class=\"morespace\" style=\"height:10px\"></tr><tr><td colspan=\"2\"></td><td class=\"title\"><a href=\"news?p=2\" class=\"morelink\" rel=\"next\">More</a></td></tr>\n",
            "  </table>\n",
            "</td></tr>\n",
            "<tr><td><img src=\"s.gif\" height=\"10\" width=\"0\"><table width=\"100%\" cellspacing=\"0\" cellpadding=\"1\"><tr><td bgcolor=\"#ff6600\"></td></tr></table><br><center><span class=\"yclinks\"><a href=\"newsguidelines.html\">Guidelines</a>\n",
            "        | <a href=\"newsfaq.html\">FAQ</a>\n",
            "        | <a href=\"lists\">Lists</a>\n",
            "        | <a href=\"https://github.com/HackerNews/API\">API</a>\n",
            "        | <a href=\"security.html\">Security</a>\n",
            "        | <a href=\"http://www.ycombinator.com/legal/\">Legal</a>\n",
            "        | <a href=\"http://www.ycombinator.com/apply/\">Apply to YC</a>\n",
            "        | <a href=\"mailto:hn@ycombinator.com\">Contact</a></span><br><br><form method=\"get\" action=\"//hn.algolia.com/\">Search:\n",
            "          <input type=\"text\" name=\"q\" value=\"\" size=\"17\" autocorrect=\"off\" spellcheck=\"false\" autocapitalize=\"off\" autocomplete=\"false\"></form>\n",
            "            </center></td></tr>\n",
            "      </table></center></body><script type='text/javascript' src='hn.js?0yi3nOLZfN1JGWbReh9A'></script></html>\n",
            "\n"
          ],
          "name": "stdout"
        }
      ]
    },
    {
      "cell_type": "code",
      "metadata": {
        "colab": {
          "base_uri": "https://localhost:8080/"
        },
        "id": "fL8cm-HiSCs4",
        "outputId": "fa8c5a9d-e7ec-41a9-f201-bda06847c539"
      },
      "source": [
        "soup_obj=BeautifulSoup(res.text,'html.parser')\n",
        "soup_obj"
      ],
      "execution_count": 9,
      "outputs": [
        {
          "output_type": "execute_result",
          "data": {
            "text/plain": [
              "<html lang=\"en\" op=\"news\"><head><meta content=\"origin\" name=\"referrer\"/><meta content=\"width=device-width, initial-scale=1.0\" name=\"viewport\"/><link href=\"news.css?0yi3nOLZfN1JGWbReh9A\" rel=\"stylesheet\" type=\"text/css\"/>\n",
              "<link href=\"favicon.ico\" rel=\"shortcut icon\"/>\n",
              "<link href=\"rss\" rel=\"alternate\" title=\"RSS\" type=\"application/rss+xml\"/>\n",
              "<title>Hacker News</title></head><body><center><table bgcolor=\"#f6f6ef\" border=\"0\" cellpadding=\"0\" cellspacing=\"0\" id=\"hnmain\" width=\"85%\">\n",
              "<tr><td bgcolor=\"#ff6600\"><table border=\"0\" cellpadding=\"0\" cellspacing=\"0\" style=\"padding:2px\" width=\"100%\"><tr><td style=\"width:18px;padding-right:4px\"><a href=\"https://news.ycombinator.com\"><img height=\"18\" src=\"y18.gif\" style=\"border:1px white solid;\" width=\"18\"/></a></td>\n",
              "<td style=\"line-height:12pt; height:10px;\"><span class=\"pagetop\"><b class=\"hnname\"><a href=\"news\">Hacker News</a></b>\n",
              "<a href=\"newest\">new</a> | <a href=\"front\">past</a> | <a href=\"newcomments\">comments</a> | <a href=\"ask\">ask</a> | <a href=\"show\">show</a> | <a href=\"jobs\">jobs</a> | <a href=\"submit\">submit</a> </span></td><td style=\"text-align:right;padding-right:4px;\"><span class=\"pagetop\">\n",
              "<a href=\"login?goto=news\">login</a>\n",
              "</span></td>\n",
              "</tr></table></td></tr>\n",
              "<tr id=\"pagespace\" style=\"height:10px\" title=\"\"></tr><tr><td><table border=\"0\" cellpadding=\"0\" cellspacing=\"0\" class=\"itemlist\">\n",
              "<tr class=\"athing\" id=\"27058178\">\n",
              "<td align=\"right\" class=\"title\" valign=\"top\"><span class=\"rank\">1.</span></td> <td class=\"votelinks\" valign=\"top\"><center><a href=\"vote?id=27058178&amp;how=up&amp;goto=news\" id=\"up_27058178\"><div class=\"votearrow\" title=\"upvote\"></div></a></center></td><td class=\"title\"><a class=\"storylink\" href=\"https://techstartups.com/2021/05/05/liveleak-shuts-15-years-online/\">LiveLeak shuts down after 15 years online</a><span class=\"sitebit comhead\"> (<a href=\"from?site=techstartups.com\"><span class=\"sitestr\">techstartups.com</span></a>)</span></td></tr><tr><td colspan=\"2\"></td><td class=\"subtext\">\n",
              "<span class=\"score\" id=\"score_27058178\">362 points</span> by <a class=\"hnuser\" href=\"user?id=ro_bit\">ro_bit</a> <span class=\"age\"><a href=\"item?id=27058178\">4 hours ago</a></span> <span id=\"unv_27058178\"></span> | <a href=\"hide?id=27058178&amp;goto=news\">hide</a> | <a href=\"item?id=27058178\">223 comments</a> </td></tr>\n",
              "<tr class=\"spacer\" style=\"height:5px\"></tr>\n",
              "<tr class=\"athing\" id=\"27059119\">\n",
              "<td align=\"right\" class=\"title\" valign=\"top\"><span class=\"rank\">2.</span></td> <td class=\"votelinks\" valign=\"top\"><center><a href=\"vote?id=27059119&amp;how=up&amp;goto=news\" id=\"up_27059119\"><div class=\"votearrow\" title=\"upvote\"></div></a></center></td><td class=\"title\"><a class=\"storylink\" href=\"https://blog.pyston.org/2021/05/05/pyston-v2-2-faster-and-open-source/\">Pyston v2.2: faster and open source</a><span class=\"sitebit comhead\"> (<a href=\"from?site=pyston.org\"><span class=\"sitestr\">pyston.org</span></a>)</span></td></tr><tr><td colspan=\"2\"></td><td class=\"subtext\">\n",
              "<span class=\"score\" id=\"score_27059119\">34 points</span> by <a class=\"hnuser\" href=\"user?id=chenzhekl\">chenzhekl</a> <span class=\"age\"><a href=\"item?id=27059119\">1 hour ago</a></span> <span id=\"unv_27059119\"></span> | <a href=\"hide?id=27059119&amp;goto=news\">hide</a> | <a href=\"item?id=27059119\">6 comments</a> </td></tr>\n",
              "<tr class=\"spacer\" style=\"height:5px\"></tr>\n",
              "<tr class=\"athing\" id=\"27052840\">\n",
              "<td align=\"right\" class=\"title\" valign=\"top\"><span class=\"rank\">3.</span></td> <td class=\"votelinks\" valign=\"top\"><center><a href=\"vote?id=27052840&amp;how=up&amp;goto=news\" id=\"up_27052840\"><div class=\"votearrow\" title=\"upvote\"></div></a></center></td><td class=\"title\"><a class=\"storylink\" href=\"https://github.com/timvisee/send\">Send: A Fork of Mozilla's Firefox Send</a><span class=\"sitebit comhead\"> (<a href=\"from?site=github.com/timvisee\"><span class=\"sitestr\">github.com/timvisee</span></a>)</span></td></tr><tr><td colspan=\"2\"></td><td class=\"subtext\">\n",
              "<span class=\"score\" id=\"score_27052840\">517 points</span> by <a class=\"hnuser\" href=\"user?id=andredz\">andredz</a> <span class=\"age\"><a href=\"item?id=27052840\">12 hours ago</a></span> <span id=\"unv_27052840\"></span> | <a href=\"hide?id=27052840&amp;goto=news\">hide</a> | <a href=\"item?id=27052840\">103 comments</a> </td></tr>\n",
              "<tr class=\"spacer\" style=\"height:5px\"></tr>\n",
              "<tr class=\"athing\" id=\"27058914\">\n",
              "<td align=\"right\" class=\"title\" valign=\"top\"><span class=\"rank\">4.</span></td> <td class=\"votelinks\" valign=\"top\"><center><a href=\"vote?id=27058914&amp;how=up&amp;goto=news\" id=\"up_27058914\"><div class=\"votearrow\" title=\"upvote\"></div></a></center></td><td class=\"title\"><a class=\"storylink\" href=\"https://github.com/Sysinternals/ProcMon-for-Linux/\">ProcMon for Linux (Preview)</a><span class=\"sitebit comhead\"> (<a href=\"from?site=github.com/sysinternals\"><span class=\"sitestr\">github.com/sysinternals</span></a>)</span></td></tr><tr><td colspan=\"2\"></td><td class=\"subtext\">\n",
              "<span class=\"score\" id=\"score_27058914\">37 points</span> by <a class=\"hnuser\" href=\"user?id=vmarsy\">vmarsy</a> <span class=\"age\"><a href=\"item?id=27058914\">2 hours ago</a></span> <span id=\"unv_27058914\"></span> | <a href=\"hide?id=27058914&amp;goto=news\">hide</a> | <a href=\"item?id=27058914\">4 comments</a> </td></tr>\n",
              "<tr class=\"spacer\" style=\"height:5px\"></tr>\n",
              "<tr class=\"athing\" id=\"27059194\">\n",
              "<td align=\"right\" class=\"title\" valign=\"top\"><span class=\"rank\">5.</span></td> <td class=\"votelinks\" valign=\"top\"><center><a href=\"vote?id=27059194&amp;how=up&amp;goto=news\" id=\"up_27059194\"><div class=\"votearrow\" title=\"upvote\"></div></a></center></td><td class=\"title\"><a class=\"storylink\" href=\"https://twitter.com/CoinbaseNews/status/1390065013071781889\">Coinbase is closing their SF office and going full remote</a><span class=\"sitebit comhead\"> (<a href=\"from?site=twitter.com/coinbasenews\"><span class=\"sitestr\">twitter.com/coinbasenews</span></a>)</span></td></tr><tr><td colspan=\"2\"></td><td class=\"subtext\">\n",
              "<span class=\"score\" id=\"score_27059194\">53 points</span> by <a class=\"hnuser\" href=\"user?id=ZephyrBlu\">ZephyrBlu</a> <span class=\"age\"><a href=\"item?id=27059194\">1 hour ago</a></span> <span id=\"unv_27059194\"></span> | <a href=\"hide?id=27059194&amp;goto=news\">hide</a> | <a href=\"item?id=27059194\">14 comments</a> </td></tr>\n",
              "<tr class=\"spacer\" style=\"height:5px\"></tr>\n",
              "<tr class=\"athing\" id=\"27054357\">\n",
              "<td align=\"right\" class=\"title\" valign=\"top\"><span class=\"rank\">6.</span></td> <td class=\"votelinks\" valign=\"top\"><center><a href=\"vote?id=27054357&amp;how=up&amp;goto=news\" id=\"up_27054357\"><div class=\"votearrow\" title=\"upvote\"></div></a></center></td><td class=\"title\"><a class=\"storylink\" href=\"https://www.csweapons.com\">Show HN: CS Weapons – Counter-Strike weapon data comparison app</a><span class=\"sitebit comhead\"> (<a href=\"from?site=csweapons.com\"><span class=\"sitestr\">csweapons.com</span></a>)</span></td></tr><tr><td colspan=\"2\"></td><td class=\"subtext\">\n",
              "<span class=\"score\" id=\"score_27054357\">184 points</span> by <a class=\"hnuser\" href=\"user?id=vercadium\">vercadium</a> <span class=\"age\"><a href=\"item?id=27054357\">10 hours ago</a></span> <span id=\"unv_27054357\"></span> | <a href=\"hide?id=27054357&amp;goto=news\">hide</a> | <a href=\"item?id=27054357\">83 comments</a> </td></tr>\n",
              "<tr class=\"spacer\" style=\"height:5px\"></tr>\n",
              "<tr class=\"athing\" id=\"27051468\">\n",
              "<td align=\"right\" class=\"title\" valign=\"top\"><span class=\"rank\">7.</span></td> <td class=\"votelinks\" valign=\"top\"><center><a href=\"vote?id=27051468&amp;how=up&amp;goto=news\" id=\"up_27051468\"><div class=\"votearrow\" title=\"upvote\"></div></a></center></td><td class=\"title\"><a class=\"storylink\" href=\"https://github.com/andymatuschak/orbit\">Orbit: an experimental platform for small tasks repeated over time</a><span class=\"sitebit comhead\"> (<a href=\"from?site=github.com/andymatuschak\"><span class=\"sitestr\">github.com/andymatuschak</span></a>)</span></td></tr><tr><td colspan=\"2\"></td><td class=\"subtext\">\n",
              "<span class=\"score\" id=\"score_27051468\">341 points</span> by <a class=\"hnuser\" href=\"user?id=goerz\">goerz</a> <span class=\"age\"><a href=\"item?id=27051468\">13 hours ago</a></span> <span id=\"unv_27051468\"></span> | <a href=\"hide?id=27051468&amp;goto=news\">hide</a> | <a href=\"item?id=27051468\">52 comments</a> </td></tr>\n",
              "<tr class=\"spacer\" style=\"height:5px\"></tr>\n",
              "<tr class=\"athing\" id=\"27053655\">\n",
              "<td align=\"right\" class=\"title\" valign=\"top\"><span class=\"rank\">8.</span></td> <td class=\"votelinks\" valign=\"top\"><center><a href=\"vote?id=27053655&amp;how=up&amp;goto=news\" id=\"up_27053655\"><div class=\"votearrow\" title=\"upvote\"></div></a></center></td><td class=\"title\"><a class=\"storylink\" href=\"http://www.macflim.com\">MacFlim: Full-motion video on B&amp;W Macs</a><span class=\"sitebit comhead\"> (<a href=\"from?site=macflim.com\"><span class=\"sitestr\">macflim.com</span></a>)</span></td></tr><tr><td colspan=\"2\"></td><td class=\"subtext\">\n",
              "<span class=\"score\" id=\"score_27053655\">167 points</span> by <a class=\"hnuser\" href=\"user?id=smagoun\">smagoun</a> <span class=\"age\"><a href=\"item?id=27053655\">11 hours ago</a></span> <span id=\"unv_27053655\"></span> | <a href=\"hide?id=27053655&amp;goto=news\">hide</a> | <a href=\"item?id=27053655\">53 comments</a> </td></tr>\n",
              "<tr class=\"spacer\" style=\"height:5px\"></tr>\n",
              "<tr class=\"athing\" id=\"27054348\">\n",
              "<td align=\"right\" class=\"title\" valign=\"top\"><span class=\"rank\">9.</span></td> <td class=\"votelinks\" valign=\"top\"><center><a href=\"vote?id=27054348&amp;how=up&amp;goto=news\" id=\"up_27054348\"><div class=\"votearrow\" title=\"upvote\"></div></a></center></td><td class=\"title\"><a class=\"storylink\" href=\"https://markodenic.com/posts/html-tips/\">HTML Tips (2020)</a><span class=\"sitebit comhead\"> (<a href=\"from?site=markodenic.com\"><span class=\"sitestr\">markodenic.com</span></a>)</span></td></tr><tr><td colspan=\"2\"></td><td class=\"subtext\">\n",
              "<span class=\"score\" id=\"score_27054348\">459 points</span> by <a class=\"hnuser\" href=\"user?id=web_master\">web_master</a> <span class=\"age\"><a href=\"item?id=27054348\">10 hours ago</a></span> <span id=\"unv_27054348\"></span> | <a href=\"hide?id=27054348&amp;goto=news\">hide</a> | <a href=\"item?id=27054348\">85 comments</a> </td></tr>\n",
              "<tr class=\"spacer\" style=\"height:5px\"></tr>\n",
              "<tr class=\"athing\" id=\"27050801\">\n",
              "<td align=\"right\" class=\"title\" valign=\"top\"><span class=\"rank\">10.</span></td> <td class=\"votelinks\" valign=\"top\"><center><a href=\"vote?id=27050801&amp;how=up&amp;goto=news\" id=\"up_27050801\"><div class=\"votearrow\" title=\"upvote\"></div></a></center></td><td class=\"title\"><a class=\"storylink\" href=\"http://mobileatscale.com/\">Show HN: I wrote the book Building Mobile Apps at Scale</a><span class=\"sitebit comhead\"> (<a href=\"from?site=mobileatscale.com\"><span class=\"sitestr\">mobileatscale.com</span></a>)</span></td></tr><tr><td colspan=\"2\"></td><td class=\"subtext\">\n",
              "<span class=\"score\" id=\"score_27050801\">300 points</span> by <a class=\"hnuser\" href=\"user?id=gregdoesit\">gregdoesit</a> <span class=\"age\"><a href=\"item?id=27050801\">14 hours ago</a></span> <span id=\"unv_27050801\"></span> | <a href=\"hide?id=27050801&amp;goto=news\">hide</a> | <a href=\"item?id=27050801\">36 comments</a> </td></tr>\n",
              "<tr class=\"spacer\" style=\"height:5px\"></tr>\n",
              "<tr class=\"athing\" id=\"27052313\">\n",
              "<td align=\"right\" class=\"title\" valign=\"top\"><span class=\"rank\">11.</span></td> <td class=\"votelinks\" valign=\"top\"><center><a href=\"vote?id=27052313&amp;how=up&amp;goto=news\" id=\"up_27052313\"><div class=\"votearrow\" title=\"upvote\"></div></a></center></td><td class=\"title\"><a class=\"storylink\" href=\"https://ptsjs.org/\">Pts.js: a modular librairy for visualization and creative coding</a><span class=\"sitebit comhead\"> (<a href=\"from?site=ptsjs.org\"><span class=\"sitestr\">ptsjs.org</span></a>)</span></td></tr><tr><td colspan=\"2\"></td><td class=\"subtext\">\n",
              "<span class=\"score\" id=\"score_27052313\">197 points</span> by <a class=\"hnuser\" href=\"user?id=sctgrhm\">sctgrhm</a> <span class=\"age\"><a href=\"item?id=27052313\">13 hours ago</a></span> <span id=\"unv_27052313\"></span> | <a href=\"hide?id=27052313&amp;goto=news\">hide</a> | <a href=\"item?id=27052313\">21 comments</a> </td></tr>\n",
              "<tr class=\"spacer\" style=\"height:5px\"></tr>\n",
              "<tr class=\"athing\" id=\"27059053\">\n",
              "<td align=\"right\" class=\"title\" valign=\"top\"><span class=\"rank\">12.</span></td> <td class=\"votelinks\" valign=\"top\"><center><a href=\"vote?id=27059053&amp;how=up&amp;goto=news\" id=\"up_27059053\"><div class=\"votearrow\" title=\"upvote\"></div></a></center></td><td class=\"title\"><a class=\"storylink\" href=\"https://www.washingtonpost.com/sports/2021/05/05/japan-ioc-olympic-contract/\">Japan should cut losses and tell the IOC to take its Olympic pillage elsewhere</a><span class=\"sitebit comhead\"> (<a href=\"from?site=washingtonpost.com\"><span class=\"sitestr\">washingtonpost.com</span></a>)</span></td></tr><tr><td colspan=\"2\"></td><td class=\"subtext\">\n",
              "<span class=\"score\" id=\"score_27059053\">41 points</span> by <a class=\"hnuser\" href=\"user?id=Clewza313\">Clewza313</a> <span class=\"age\"><a href=\"item?id=27059053\">1 hour ago</a></span> <span id=\"unv_27059053\"></span> | <a href=\"hide?id=27059053&amp;goto=news\">hide</a> | <a href=\"item?id=27059053\">29 comments</a> </td></tr>\n",
              "<tr class=\"spacer\" style=\"height:5px\"></tr>\n",
              "<tr class=\"athing\" id=\"27045787\">\n",
              "<td align=\"right\" class=\"title\" valign=\"top\"><span class=\"rank\">13.</span></td> <td class=\"votelinks\" valign=\"top\"><center><a href=\"vote?id=27045787&amp;how=up&amp;goto=news\" id=\"up_27045787\"><div class=\"votearrow\" title=\"upvote\"></div></a></center></td><td class=\"title\"><a class=\"storylink\" href=\"https://furbo.org/2013/06/28/the-origin-of-tweet/\">The origin of “tweet” at Twitter (2013)</a><span class=\"sitebit comhead\"> (<a href=\"from?site=furbo.org\"><span class=\"sitestr\">furbo.org</span></a>)</span></td></tr><tr><td colspan=\"2\"></td><td class=\"subtext\">\n",
              "<span class=\"score\" id=\"score_27045787\">97 points</span> by <a class=\"hnuser\" href=\"user?id=pcr910303\">pcr910303</a> <span class=\"age\"><a href=\"item?id=27045787\">11 hours ago</a></span> <span id=\"unv_27045787\"></span> | <a href=\"hide?id=27045787&amp;goto=news\">hide</a> | <a href=\"item?id=27045787\">35 comments</a> </td></tr>\n",
              "<tr class=\"spacer\" style=\"height:5px\"></tr>\n",
              "<tr class=\"athing\" id=\"27058160\">\n",
              "<td align=\"right\" class=\"title\" valign=\"top\"><span class=\"rank\">14.</span></td> <td class=\"votelinks\" valign=\"top\"><center><a href=\"vote?id=27058160&amp;how=up&amp;goto=news\" id=\"up_27058160\"><div class=\"votearrow\" title=\"upvote\"></div></a></center></td><td class=\"title\"><a class=\"storylink\" href=\"https://www.scientificamerican.com/article/major-depressive-disorders-have-an-enormous-economic-impact/\">Major Depressive Disorders Have an Enormous Economic Impact</a><span class=\"sitebit comhead\"> (<a href=\"from?site=scientificamerican.com\"><span class=\"sitestr\">scientificamerican.com</span></a>)</span></td></tr><tr><td colspan=\"2\"></td><td class=\"subtext\">\n",
              "<span class=\"score\" id=\"score_27058160\">105 points</span> by <a class=\"hnuser\" href=\"user?id=pseudolus\">pseudolus</a> <span class=\"age\"><a href=\"item?id=27058160\">4 hours ago</a></span> <span id=\"unv_27058160\"></span> | <a href=\"hide?id=27058160&amp;goto=news\">hide</a> | <a href=\"item?id=27058160\">76 comments</a> </td></tr>\n",
              "<tr class=\"spacer\" style=\"height:5px\"></tr>\n",
              "<tr class=\"athing\" id=\"27051498\">\n",
              "<td align=\"right\" class=\"title\" valign=\"top\"><span class=\"rank\">15.</span></td> <td class=\"votelinks\" valign=\"top\"><center><a href=\"vote?id=27051498&amp;how=up&amp;goto=news\" id=\"up_27051498\"><div class=\"votearrow\" title=\"upvote\"></div></a></center></td><td class=\"title\"><a class=\"storylink\" href=\"https://felleisen.org/matthias/7480-s21/index.html\">History of Programming Languages</a><span class=\"sitebit comhead\"> (<a href=\"from?site=felleisen.org\"><span class=\"sitestr\">felleisen.org</span></a>)</span></td></tr><tr><td colspan=\"2\"></td><td class=\"subtext\">\n",
              "<span class=\"score\" id=\"score_27051498\">130 points</span> by <a class=\"hnuser\" href=\"user?id=ingve\">ingve</a> <span class=\"age\"><a href=\"item?id=27051498\">13 hours ago</a></span> <span id=\"unv_27051498\"></span> | <a href=\"hide?id=27051498&amp;goto=news\">hide</a> | <a href=\"item?id=27051498\">25 comments</a> </td></tr>\n",
              "<tr class=\"spacer\" style=\"height:5px\"></tr>\n",
              "<tr class=\"athing\" id=\"27036572\">\n",
              "<td align=\"right\" class=\"title\" valign=\"top\"><span class=\"rank\">16.</span></td> <td class=\"votelinks\" valign=\"top\"><center><a href=\"vote?id=27036572&amp;how=up&amp;goto=news\" id=\"up_27036572\"><div class=\"votearrow\" title=\"upvote\"></div></a></center></td><td class=\"title\"><a class=\"storylink\" href=\"https://angelhof.github.io/files/papers/shell-2021-hotos.pdf\">The Once and Future Shell [pdf]</a><span class=\"sitebit comhead\"> (<a href=\"from?site=angelhof.github.io\"><span class=\"sitestr\">angelhof.github.io</span></a>)</span></td></tr><tr><td colspan=\"2\"></td><td class=\"subtext\">\n",
              "<span class=\"score\" id=\"score_27036572\">28 points</span> by <a class=\"hnuser\" href=\"user?id=matt_d\">matt_d</a> <span class=\"age\"><a href=\"item?id=27036572\">4 hours ago</a></span> <span id=\"unv_27036572\"></span> | <a href=\"hide?id=27036572&amp;goto=news\">hide</a> | <a href=\"item?id=27036572\">7 comments</a> </td></tr>\n",
              "<tr class=\"spacer\" style=\"height:5px\"></tr>\n",
              "<tr class=\"athing\" id=\"27045463\">\n",
              "<td align=\"right\" class=\"title\" valign=\"top\"><span class=\"rank\">17.</span></td> <td class=\"votelinks\" valign=\"top\"><center><a href=\"vote?id=27045463&amp;how=up&amp;goto=news\" id=\"up_27045463\"><div class=\"votearrow\" title=\"upvote\"></div></a></center></td><td class=\"title\"><a class=\"storylink\" href=\"https://en.wikipedia.org/wiki/1700_Cascadia_earthquake\">1700 Cascadia Earthquake</a><span class=\"sitebit comhead\"> (<a href=\"from?site=wikipedia.org\"><span class=\"sitestr\">wikipedia.org</span></a>)</span></td></tr><tr><td colspan=\"2\"></td><td class=\"subtext\">\n",
              "<span class=\"score\" id=\"score_27045463\">111 points</span> by <a class=\"hnuser\" href=\"user?id=Hooke\">Hooke</a> <span class=\"age\"><a href=\"item?id=27045463\">10 hours ago</a></span> <span id=\"unv_27045463\"></span> | <a href=\"hide?id=27045463&amp;goto=news\">hide</a> | <a href=\"item?id=27045463\">82 comments</a> </td></tr>\n",
              "<tr class=\"spacer\" style=\"height:5px\"></tr>\n",
              "<tr class=\"athing\" id=\"27050731\">\n",
              "<td align=\"right\" class=\"title\" valign=\"top\"><span class=\"rank\">18.</span></td> <td class=\"votelinks\" valign=\"top\"><center><a href=\"vote?id=27050731&amp;how=up&amp;goto=news\" id=\"up_27050731\"><div class=\"votearrow\" title=\"upvote\"></div></a></center></td><td class=\"title\"><a class=\"storylink\" href=\"https://blog.playcanvas.com/introducing-the-anim-state-graph/\">PlayCanvas Launches Node-Based Animation Editor for WebGL</a><span class=\"sitebit comhead\"> (<a href=\"from?site=playcanvas.com\"><span class=\"sitestr\">playcanvas.com</span></a>)</span></td></tr><tr><td colspan=\"2\"></td><td class=\"subtext\">\n",
              "<span class=\"score\" id=\"score_27050731\">130 points</span> by <a class=\"hnuser\" href=\"user?id=ovenchips\">ovenchips</a> <span class=\"age\"><a href=\"item?id=27050731\">14 hours ago</a></span> <span id=\"unv_27050731\"></span> | <a href=\"hide?id=27050731&amp;goto=news\">hide</a> | <a href=\"item?id=27050731\">17 comments</a> </td></tr>\n",
              "<tr class=\"spacer\" style=\"height:5px\"></tr>\n",
              "<tr class=\"athing\" id=\"27052243\">\n",
              "<td align=\"right\" class=\"title\" valign=\"top\"><span class=\"rank\">19.</span></td> <td class=\"votelinks\" valign=\"top\"><center><a href=\"vote?id=27052243&amp;how=up&amp;goto=news\" id=\"up_27052243\"><div class=\"votearrow\" title=\"upvote\"></div></a></center></td><td class=\"title\"><a class=\"storylink\" href=\"https://medium.com/planet-stories/a-handy-introduction-to-cloud-optimized-geotiffs-1f2c9e716ec3\">Learning About the GeoTIFF File Format with a Hex Editor (2018)</a><span class=\"sitebit comhead\"> (<a href=\"from?site=medium.com/planet-stories\"><span class=\"sitestr\">medium.com/planet-stories</span></a>)</span></td></tr><tr><td colspan=\"2\"></td><td class=\"subtext\">\n",
              "<span class=\"score\" id=\"score_27052243\">84 points</span> by <a class=\"hnuser\" href=\"user?id=oldpatricka\">oldpatricka</a> <span class=\"age\"><a href=\"item?id=27052243\">13 hours ago</a></span> <span id=\"unv_27052243\"></span> | <a href=\"hide?id=27052243&amp;goto=news\">hide</a> | <a href=\"item?id=27052243\">18 comments</a> </td></tr>\n",
              "<tr class=\"spacer\" style=\"height:5px\"></tr>\n",
              "<tr class=\"athing\" id=\"27056300\">\n",
              "<td align=\"right\" class=\"title\" valign=\"top\"><span class=\"rank\">20.</span></td> <td class=\"votelinks\" valign=\"top\"><center><a href=\"vote?id=27056300&amp;how=up&amp;goto=news\" id=\"up_27056300\"><div class=\"votearrow\" title=\"upvote\"></div></a></center></td><td class=\"title\"><a class=\"storylink\" href=\"https://pxlnv.com/linklog/california-exception/\">The California Exception</a><span class=\"sitebit comhead\"> (<a href=\"from?site=pxlnv.com\"><span class=\"sitestr\">pxlnv.com</span></a>)</span></td></tr><tr><td colspan=\"2\"></td><td class=\"subtext\">\n",
              "<span class=\"score\" id=\"score_27056300\">157 points</span> by <a class=\"hnuser\" href=\"user?id=MaysonL\">MaysonL</a> <span class=\"age\"><a href=\"item?id=27056300\">7 hours ago</a></span> <span id=\"unv_27056300\"></span> | <a href=\"hide?id=27056300&amp;goto=news\">hide</a> | <a href=\"item?id=27056300\">94 comments</a> </td></tr>\n",
              "<tr class=\"spacer\" style=\"height:5px\"></tr>\n",
              "<tr class=\"athing\" id=\"27055759\">\n",
              "<td align=\"right\" class=\"title\" valign=\"top\"><span class=\"rank\">21.</span></td> <td></td><td class=\"title\"><a class=\"storylink\" href=\"https://www.workatastartup.com/jobs/43771\" rel=\"nofollow\">Zumo Labs (YC W20) Is Hiring a Product Manager</a><span class=\"sitebit comhead\"> (<a href=\"from?site=workatastartup.com\"><span class=\"sitestr\">workatastartup.com</span></a>)</span></td></tr><tr><td colspan=\"2\"></td><td class=\"subtext\">\n",
              "<span class=\"age\"><a href=\"item?id=27055759\">8 hours ago</a></span> | <a href=\"hide?id=27055759&amp;goto=news\">hide</a> </td></tr>\n",
              "<tr class=\"spacer\" style=\"height:5px\"></tr>\n",
              "<tr class=\"athing\" id=\"27050687\">\n",
              "<td align=\"right\" class=\"title\" valign=\"top\"><span class=\"rank\">22.</span></td> <td class=\"votelinks\" valign=\"top\"><center><a href=\"vote?id=27050687&amp;how=up&amp;goto=news\" id=\"up_27050687\"><div class=\"votearrow\" title=\"upvote\"></div></a></center></td><td class=\"title\"><a class=\"storylink\" href=\"https://github.com/slidevjs/slidev\">Slidev – Presentation Slides for Developers</a><span class=\"sitebit comhead\"> (<a href=\"from?site=github.com/slidevjs\"><span class=\"sitestr\">github.com/slidevjs</span></a>)</span></td></tr><tr><td colspan=\"2\"></td><td class=\"subtext\">\n",
              "<span class=\"score\" id=\"score_27050687\">109 points</span> by <a class=\"hnuser\" href=\"user?id=antfu\">antfu</a> <span class=\"age\"><a href=\"item?id=27050687\">14 hours ago</a></span> <span id=\"unv_27050687\"></span> | <a href=\"hide?id=27050687&amp;goto=news\">hide</a> | <a href=\"item?id=27050687\">21 comments</a> </td></tr>\n",
              "<tr class=\"spacer\" style=\"height:5px\"></tr>\n",
              "<tr class=\"athing\" id=\"27047243\">\n",
              "<td align=\"right\" class=\"title\" valign=\"top\"><span class=\"rank\">23.</span></td> <td class=\"votelinks\" valign=\"top\"><center><a href=\"vote?id=27047243&amp;how=up&amp;goto=news\" id=\"up_27047243\"><div class=\"votearrow\" title=\"upvote\"></div></a></center></td><td class=\"title\"><a class=\"storylink\" href=\"https://github.com/ClearURLs/Addon/\">ClearURLs – automatically remove tracking elements from URLs</a><span class=\"sitebit comhead\"> (<a href=\"from?site=github.com/clearurls\"><span class=\"sitestr\">github.com/clearurls</span></a>)</span></td></tr><tr><td colspan=\"2\"></td><td class=\"subtext\">\n",
              "<span class=\"score\" id=\"score_27047243\">707 points</span> by <a class=\"hnuser\" href=\"user?id=stanislavb\">stanislavb</a> <span class=\"age\"><a href=\"item?id=27047243\">22 hours ago</a></span> <span id=\"unv_27047243\"></span> | <a href=\"hide?id=27047243&amp;goto=news\">hide</a> | <a href=\"item?id=27047243\">276 comments</a> </td></tr>\n",
              "<tr class=\"spacer\" style=\"height:5px\"></tr>\n",
              "<tr class=\"athing\" id=\"27048672\">\n",
              "<td align=\"right\" class=\"title\" valign=\"top\"><span class=\"rank\">24.</span></td> <td class=\"votelinks\" valign=\"top\"><center><a href=\"vote?id=27048672&amp;how=up&amp;goto=news\" id=\"up_27048672\"><div class=\"votearrow\" title=\"upvote\"></div></a></center></td><td class=\"title\"><a class=\"storylink\" href=\"https://blubrry.com/microsoftresearch/76856095/120-advancing-excel-as-a-programming-language-with-andy-gordon-and-simon-peyton-jones/\">Advancing Excel as a programming language [audio]</a><span class=\"sitebit comhead\"> (<a href=\"from?site=blubrry.com\"><span class=\"sitestr\">blubrry.com</span></a>)</span></td></tr><tr><td colspan=\"2\"></td><td class=\"subtext\">\n",
              "<span class=\"score\" id=\"score_27048672\">69 points</span> by <a class=\"hnuser\" href=\"user?id=0-_-0\">0-_-0</a> <span class=\"age\"><a href=\"item?id=27048672\">10 hours ago</a></span> <span id=\"unv_27048672\"></span> | <a href=\"hide?id=27048672&amp;goto=news\">hide</a> | <a href=\"item?id=27048672\">74 comments</a> </td></tr>\n",
              "<tr class=\"spacer\" style=\"height:5px\"></tr>\n",
              "<tr class=\"athing\" id=\"27055671\">\n",
              "<td align=\"right\" class=\"title\" valign=\"top\"><span class=\"rank\">25.</span></td> <td class=\"votelinks\" valign=\"top\"><center><a href=\"vote?id=27055671&amp;how=up&amp;goto=news\" id=\"up_27055671\"><div class=\"votearrow\" title=\"upvote\"></div></a></center></td><td class=\"title\"><a class=\"storylink\" href=\"https://blog.google/inside-google/life-at-google/hybrid-approach-work/\">A Hybrid Approach to Work</a><span class=\"sitebit comhead\"> (<a href=\"from?site=blog.google\"><span class=\"sitestr\">blog.google</span></a>)</span></td></tr><tr><td colspan=\"2\"></td><td class=\"subtext\">\n",
              "<span class=\"score\" id=\"score_27055671\">130 points</span> by <a class=\"hnuser\" href=\"user?id=jader201\">jader201</a> <span class=\"age\"><a href=\"item?id=27055671\">8 hours ago</a></span> <span id=\"unv_27055671\"></span> | <a href=\"hide?id=27055671&amp;goto=news\">hide</a> | <a href=\"item?id=27055671\">99 comments</a> </td></tr>\n",
              "<tr class=\"spacer\" style=\"height:5px\"></tr>\n",
              "<tr class=\"athing\" id=\"27057978\">\n",
              "<td align=\"right\" class=\"title\" valign=\"top\"><span class=\"rank\">26.</span></td> <td class=\"votelinks\" valign=\"top\"><center><a href=\"vote?id=27057978&amp;how=up&amp;goto=news\" id=\"up_27057978\"><div class=\"votearrow\" title=\"upvote\"></div></a></center></td><td class=\"title\"><a class=\"storylink\" href=\"item?id=27057978\">Ask HN: How do you generally build a product?</a></td></tr><tr><td colspan=\"2\"></td><td class=\"subtext\">\n",
              "<span class=\"score\" id=\"score_27057978\">65 points</span> by <a class=\"hnuser\" href=\"user?id=tr1ll10nb1ll\">tr1ll10nb1ll</a> <span class=\"age\"><a href=\"item?id=27057978\">4 hours ago</a></span> <span id=\"unv_27057978\"></span> | <a href=\"hide?id=27057978&amp;goto=news\">hide</a> | <a href=\"item?id=27057978\">23 comments</a> </td></tr>\n",
              "<tr class=\"spacer\" style=\"height:5px\"></tr>\n",
              "<tr class=\"athing\" id=\"27051575\">\n",
              "<td align=\"right\" class=\"title\" valign=\"top\"><span class=\"rank\">27.</span></td> <td class=\"votelinks\" valign=\"top\"><center><a href=\"vote?id=27051575&amp;how=up&amp;goto=news\" id=\"up_27051575\"><div class=\"votearrow\" title=\"upvote\"></div></a></center></td><td class=\"title\"><a class=\"storylink\" href=\"https://technicshistory.com/2021/05/05/the-pumping-engine/\" rel=\"nofollow\">The Pumping Engine</a><span class=\"sitebit comhead\"> (<a href=\"from?site=technicshistory.com\"><span class=\"sitestr\">technicshistory.com</span></a>)</span></td></tr><tr><td colspan=\"2\"></td><td class=\"subtext\">\n",
              "<span class=\"score\" id=\"score_27051575\">7 points</span> by <a class=\"hnuser\" href=\"user?id=cfmcdonald\">cfmcdonald</a> <span class=\"age\"><a href=\"item?id=27051575\">3 hours ago</a></span> <span id=\"unv_27051575\"></span> | <a href=\"hide?id=27051575&amp;goto=news\">hide</a> | <a href=\"item?id=27051575\">1 comment</a> </td></tr>\n",
              "<tr class=\"spacer\" style=\"height:5px\"></tr>\n",
              "<tr class=\"athing\" id=\"27053836\">\n",
              "<td align=\"right\" class=\"title\" valign=\"top\"><span class=\"rank\">28.</span></td> <td class=\"votelinks\" valign=\"top\"><center><a href=\"vote?id=27053836&amp;how=up&amp;goto=news\" id=\"up_27053836\"><div class=\"votearrow\" title=\"upvote\"></div></a></center></td><td class=\"title\"><a class=\"storylink\" href=\"https://undark.org/2021/01/25/debate-over-melanoma-diagnosis/\">Are we screening too much for skin cancer? It's complicated</a><span class=\"sitebit comhead\"> (<a href=\"from?site=undark.org\"><span class=\"sitestr\">undark.org</span></a>)</span></td></tr><tr><td colspan=\"2\"></td><td class=\"subtext\">\n",
              "<span class=\"score\" id=\"score_27053836\">18 points</span> by <a class=\"hnuser\" href=\"user?id=laurex\">laurex</a> <span class=\"age\"><a href=\"item?id=27053836\">6 hours ago</a></span> <span id=\"unv_27053836\"></span> | <a href=\"hide?id=27053836&amp;goto=news\">hide</a> | <a href=\"item?id=27053836\">15 comments</a> </td></tr>\n",
              "<tr class=\"spacer\" style=\"height:5px\"></tr>\n",
              "<tr class=\"athing\" id=\"27055364\">\n",
              "<td align=\"right\" class=\"title\" valign=\"top\"><span class=\"rank\">29.</span></td> <td class=\"votelinks\" valign=\"top\"><center><a href=\"vote?id=27055364&amp;how=up&amp;goto=news\" id=\"up_27055364\"><div class=\"votearrow\" title=\"upvote\"></div></a></center></td><td class=\"title\"><a class=\"storylink\" href=\"https://blog.px.dev/open-source-release/\">Open sourcing Pixie under Apache 2.0 license</a><span class=\"sitebit comhead\"> (<a href=\"from?site=px.dev\"><span class=\"sitestr\">px.dev</span></a>)</span></td></tr><tr><td colspan=\"2\"></td><td class=\"subtext\">\n",
              "<span class=\"score\" id=\"score_27055364\">77 points</span> by <a class=\"hnuser\" href=\"user?id=nserrino\">nserrino</a> <span class=\"age\"><a href=\"item?id=27055364\">9 hours ago</a></span> <span id=\"unv_27055364\"></span> | <a href=\"hide?id=27055364&amp;goto=news\">hide</a> | <a href=\"item?id=27055364\">10 comments</a> </td></tr>\n",
              "<tr class=\"spacer\" style=\"height:5px\"></tr>\n",
              "<tr class=\"athing\" id=\"27036626\">\n",
              "<td align=\"right\" class=\"title\" valign=\"top\"><span class=\"rank\">30.</span></td> <td class=\"votelinks\" valign=\"top\"><center><a href=\"vote?id=27036626&amp;how=up&amp;goto=news\" id=\"up_27036626\"><div class=\"votearrow\" title=\"upvote\"></div></a></center></td><td class=\"title\"><a class=\"storylink\" href=\"https://github.com/jendrikseipp/vulture\">Vulture: Find Dead Python Code</a><span class=\"sitebit comhead\"> (<a href=\"from?site=github.com/jendrikseipp\"><span class=\"sitestr\">github.com/jendrikseipp</span></a>)</span></td></tr><tr><td colspan=\"2\"></td><td class=\"subtext\">\n",
              "<span class=\"score\" id=\"score_27036626\">55 points</span> by <a class=\"hnuser\" href=\"user?id=polm23\">polm23</a> <span class=\"age\"><a href=\"item?id=27036626\">9 hours ago</a></span> <span id=\"unv_27036626\"></span> | <a href=\"hide?id=27036626&amp;goto=news\">hide</a> | <a href=\"item?id=27036626\">17 comments</a> </td></tr>\n",
              "<tr class=\"spacer\" style=\"height:5px\"></tr>\n",
              "<tr class=\"morespace\" style=\"height:10px\"></tr><tr><td colspan=\"2\"></td><td class=\"title\"><a class=\"morelink\" href=\"news?p=2\" rel=\"next\">More</a></td></tr>\n",
              "</table>\n",
              "</td></tr>\n",
              "<tr><td><img height=\"10\" src=\"s.gif\" width=\"0\"/><table cellpadding=\"1\" cellspacing=\"0\" width=\"100%\"><tr><td bgcolor=\"#ff6600\"></td></tr></table><br/><center><span class=\"yclinks\"><a href=\"newsguidelines.html\">Guidelines</a>\n",
              "        | <a href=\"newsfaq.html\">FAQ</a>\n",
              "        | <a href=\"lists\">Lists</a>\n",
              "        | <a href=\"https://github.com/HackerNews/API\">API</a>\n",
              "        | <a href=\"security.html\">Security</a>\n",
              "        | <a href=\"http://www.ycombinator.com/legal/\">Legal</a>\n",
              "        | <a href=\"http://www.ycombinator.com/apply/\">Apply to YC</a>\n",
              "        | <a href=\"mailto:hn@ycombinator.com\">Contact</a></span><br/><br/><form action=\"//hn.algolia.com/\" method=\"get\">Search:\n",
              "          <input autocapitalize=\"off\" autocomplete=\"false\" autocorrect=\"off\" name=\"q\" size=\"17\" spellcheck=\"false\" type=\"text\" value=\"\"/></form>\n",
              "</center></td></tr>\n",
              "</table></center></body><script src=\"hn.js?0yi3nOLZfN1JGWbReh9A\" type=\"text/javascript\"></script></html>"
            ]
          },
          "metadata": {
            "tags": []
          },
          "execution_count": 9
        }
      ]
    },
    {
      "cell_type": "code",
      "metadata": {
        "colab": {
          "base_uri": "https://localhost:8080/"
        },
        "id": "VZYWhWdWSTxX",
        "outputId": "5ddf05ad-dc52-49b3-8c36-30eb2acd7984"
      },
      "source": [
        "soup_obj.body"
      ],
      "execution_count": 10,
      "outputs": [
        {
          "output_type": "execute_result",
          "data": {
            "text/plain": [
              "<body><center><table bgcolor=\"#f6f6ef\" border=\"0\" cellpadding=\"0\" cellspacing=\"0\" id=\"hnmain\" width=\"85%\">\n",
              "<tr><td bgcolor=\"#ff6600\"><table border=\"0\" cellpadding=\"0\" cellspacing=\"0\" style=\"padding:2px\" width=\"100%\"><tr><td style=\"width:18px;padding-right:4px\"><a href=\"https://news.ycombinator.com\"><img height=\"18\" src=\"y18.gif\" style=\"border:1px white solid;\" width=\"18\"/></a></td>\n",
              "<td style=\"line-height:12pt; height:10px;\"><span class=\"pagetop\"><b class=\"hnname\"><a href=\"news\">Hacker News</a></b>\n",
              "<a href=\"newest\">new</a> | <a href=\"front\">past</a> | <a href=\"newcomments\">comments</a> | <a href=\"ask\">ask</a> | <a href=\"show\">show</a> | <a href=\"jobs\">jobs</a> | <a href=\"submit\">submit</a> </span></td><td style=\"text-align:right;padding-right:4px;\"><span class=\"pagetop\">\n",
              "<a href=\"login?goto=news\">login</a>\n",
              "</span></td>\n",
              "</tr></table></td></tr>\n",
              "<tr id=\"pagespace\" style=\"height:10px\" title=\"\"></tr><tr><td><table border=\"0\" cellpadding=\"0\" cellspacing=\"0\" class=\"itemlist\">\n",
              "<tr class=\"athing\" id=\"27058178\">\n",
              "<td align=\"right\" class=\"title\" valign=\"top\"><span class=\"rank\">1.</span></td> <td class=\"votelinks\" valign=\"top\"><center><a href=\"vote?id=27058178&amp;how=up&amp;goto=news\" id=\"up_27058178\"><div class=\"votearrow\" title=\"upvote\"></div></a></center></td><td class=\"title\"><a class=\"storylink\" href=\"https://techstartups.com/2021/05/05/liveleak-shuts-15-years-online/\">LiveLeak shuts down after 15 years online</a><span class=\"sitebit comhead\"> (<a href=\"from?site=techstartups.com\"><span class=\"sitestr\">techstartups.com</span></a>)</span></td></tr><tr><td colspan=\"2\"></td><td class=\"subtext\">\n",
              "<span class=\"score\" id=\"score_27058178\">362 points</span> by <a class=\"hnuser\" href=\"user?id=ro_bit\">ro_bit</a> <span class=\"age\"><a href=\"item?id=27058178\">4 hours ago</a></span> <span id=\"unv_27058178\"></span> | <a href=\"hide?id=27058178&amp;goto=news\">hide</a> | <a href=\"item?id=27058178\">223 comments</a> </td></tr>\n",
              "<tr class=\"spacer\" style=\"height:5px\"></tr>\n",
              "<tr class=\"athing\" id=\"27059119\">\n",
              "<td align=\"right\" class=\"title\" valign=\"top\"><span class=\"rank\">2.</span></td> <td class=\"votelinks\" valign=\"top\"><center><a href=\"vote?id=27059119&amp;how=up&amp;goto=news\" id=\"up_27059119\"><div class=\"votearrow\" title=\"upvote\"></div></a></center></td><td class=\"title\"><a class=\"storylink\" href=\"https://blog.pyston.org/2021/05/05/pyston-v2-2-faster-and-open-source/\">Pyston v2.2: faster and open source</a><span class=\"sitebit comhead\"> (<a href=\"from?site=pyston.org\"><span class=\"sitestr\">pyston.org</span></a>)</span></td></tr><tr><td colspan=\"2\"></td><td class=\"subtext\">\n",
              "<span class=\"score\" id=\"score_27059119\">34 points</span> by <a class=\"hnuser\" href=\"user?id=chenzhekl\">chenzhekl</a> <span class=\"age\"><a href=\"item?id=27059119\">1 hour ago</a></span> <span id=\"unv_27059119\"></span> | <a href=\"hide?id=27059119&amp;goto=news\">hide</a> | <a href=\"item?id=27059119\">6 comments</a> </td></tr>\n",
              "<tr class=\"spacer\" style=\"height:5px\"></tr>\n",
              "<tr class=\"athing\" id=\"27052840\">\n",
              "<td align=\"right\" class=\"title\" valign=\"top\"><span class=\"rank\">3.</span></td> <td class=\"votelinks\" valign=\"top\"><center><a href=\"vote?id=27052840&amp;how=up&amp;goto=news\" id=\"up_27052840\"><div class=\"votearrow\" title=\"upvote\"></div></a></center></td><td class=\"title\"><a class=\"storylink\" href=\"https://github.com/timvisee/send\">Send: A Fork of Mozilla's Firefox Send</a><span class=\"sitebit comhead\"> (<a href=\"from?site=github.com/timvisee\"><span class=\"sitestr\">github.com/timvisee</span></a>)</span></td></tr><tr><td colspan=\"2\"></td><td class=\"subtext\">\n",
              "<span class=\"score\" id=\"score_27052840\">517 points</span> by <a class=\"hnuser\" href=\"user?id=andredz\">andredz</a> <span class=\"age\"><a href=\"item?id=27052840\">12 hours ago</a></span> <span id=\"unv_27052840\"></span> | <a href=\"hide?id=27052840&amp;goto=news\">hide</a> | <a href=\"item?id=27052840\">103 comments</a> </td></tr>\n",
              "<tr class=\"spacer\" style=\"height:5px\"></tr>\n",
              "<tr class=\"athing\" id=\"27058914\">\n",
              "<td align=\"right\" class=\"title\" valign=\"top\"><span class=\"rank\">4.</span></td> <td class=\"votelinks\" valign=\"top\"><center><a href=\"vote?id=27058914&amp;how=up&amp;goto=news\" id=\"up_27058914\"><div class=\"votearrow\" title=\"upvote\"></div></a></center></td><td class=\"title\"><a class=\"storylink\" href=\"https://github.com/Sysinternals/ProcMon-for-Linux/\">ProcMon for Linux (Preview)</a><span class=\"sitebit comhead\"> (<a href=\"from?site=github.com/sysinternals\"><span class=\"sitestr\">github.com/sysinternals</span></a>)</span></td></tr><tr><td colspan=\"2\"></td><td class=\"subtext\">\n",
              "<span class=\"score\" id=\"score_27058914\">37 points</span> by <a class=\"hnuser\" href=\"user?id=vmarsy\">vmarsy</a> <span class=\"age\"><a href=\"item?id=27058914\">2 hours ago</a></span> <span id=\"unv_27058914\"></span> | <a href=\"hide?id=27058914&amp;goto=news\">hide</a> | <a href=\"item?id=27058914\">4 comments</a> </td></tr>\n",
              "<tr class=\"spacer\" style=\"height:5px\"></tr>\n",
              "<tr class=\"athing\" id=\"27059194\">\n",
              "<td align=\"right\" class=\"title\" valign=\"top\"><span class=\"rank\">5.</span></td> <td class=\"votelinks\" valign=\"top\"><center><a href=\"vote?id=27059194&amp;how=up&amp;goto=news\" id=\"up_27059194\"><div class=\"votearrow\" title=\"upvote\"></div></a></center></td><td class=\"title\"><a class=\"storylink\" href=\"https://twitter.com/CoinbaseNews/status/1390065013071781889\">Coinbase is closing their SF office and going full remote</a><span class=\"sitebit comhead\"> (<a href=\"from?site=twitter.com/coinbasenews\"><span class=\"sitestr\">twitter.com/coinbasenews</span></a>)</span></td></tr><tr><td colspan=\"2\"></td><td class=\"subtext\">\n",
              "<span class=\"score\" id=\"score_27059194\">53 points</span> by <a class=\"hnuser\" href=\"user?id=ZephyrBlu\">ZephyrBlu</a> <span class=\"age\"><a href=\"item?id=27059194\">1 hour ago</a></span> <span id=\"unv_27059194\"></span> | <a href=\"hide?id=27059194&amp;goto=news\">hide</a> | <a href=\"item?id=27059194\">14 comments</a> </td></tr>\n",
              "<tr class=\"spacer\" style=\"height:5px\"></tr>\n",
              "<tr class=\"athing\" id=\"27054357\">\n",
              "<td align=\"right\" class=\"title\" valign=\"top\"><span class=\"rank\">6.</span></td> <td class=\"votelinks\" valign=\"top\"><center><a href=\"vote?id=27054357&amp;how=up&amp;goto=news\" id=\"up_27054357\"><div class=\"votearrow\" title=\"upvote\"></div></a></center></td><td class=\"title\"><a class=\"storylink\" href=\"https://www.csweapons.com\">Show HN: CS Weapons – Counter-Strike weapon data comparison app</a><span class=\"sitebit comhead\"> (<a href=\"from?site=csweapons.com\"><span class=\"sitestr\">csweapons.com</span></a>)</span></td></tr><tr><td colspan=\"2\"></td><td class=\"subtext\">\n",
              "<span class=\"score\" id=\"score_27054357\">184 points</span> by <a class=\"hnuser\" href=\"user?id=vercadium\">vercadium</a> <span class=\"age\"><a href=\"item?id=27054357\">10 hours ago</a></span> <span id=\"unv_27054357\"></span> | <a href=\"hide?id=27054357&amp;goto=news\">hide</a> | <a href=\"item?id=27054357\">83 comments</a> </td></tr>\n",
              "<tr class=\"spacer\" style=\"height:5px\"></tr>\n",
              "<tr class=\"athing\" id=\"27051468\">\n",
              "<td align=\"right\" class=\"title\" valign=\"top\"><span class=\"rank\">7.</span></td> <td class=\"votelinks\" valign=\"top\"><center><a href=\"vote?id=27051468&amp;how=up&amp;goto=news\" id=\"up_27051468\"><div class=\"votearrow\" title=\"upvote\"></div></a></center></td><td class=\"title\"><a class=\"storylink\" href=\"https://github.com/andymatuschak/orbit\">Orbit: an experimental platform for small tasks repeated over time</a><span class=\"sitebit comhead\"> (<a href=\"from?site=github.com/andymatuschak\"><span class=\"sitestr\">github.com/andymatuschak</span></a>)</span></td></tr><tr><td colspan=\"2\"></td><td class=\"subtext\">\n",
              "<span class=\"score\" id=\"score_27051468\">341 points</span> by <a class=\"hnuser\" href=\"user?id=goerz\">goerz</a> <span class=\"age\"><a href=\"item?id=27051468\">13 hours ago</a></span> <span id=\"unv_27051468\"></span> | <a href=\"hide?id=27051468&amp;goto=news\">hide</a> | <a href=\"item?id=27051468\">52 comments</a> </td></tr>\n",
              "<tr class=\"spacer\" style=\"height:5px\"></tr>\n",
              "<tr class=\"athing\" id=\"27053655\">\n",
              "<td align=\"right\" class=\"title\" valign=\"top\"><span class=\"rank\">8.</span></td> <td class=\"votelinks\" valign=\"top\"><center><a href=\"vote?id=27053655&amp;how=up&amp;goto=news\" id=\"up_27053655\"><div class=\"votearrow\" title=\"upvote\"></div></a></center></td><td class=\"title\"><a class=\"storylink\" href=\"http://www.macflim.com\">MacFlim: Full-motion video on B&amp;W Macs</a><span class=\"sitebit comhead\"> (<a href=\"from?site=macflim.com\"><span class=\"sitestr\">macflim.com</span></a>)</span></td></tr><tr><td colspan=\"2\"></td><td class=\"subtext\">\n",
              "<span class=\"score\" id=\"score_27053655\">167 points</span> by <a class=\"hnuser\" href=\"user?id=smagoun\">smagoun</a> <span class=\"age\"><a href=\"item?id=27053655\">11 hours ago</a></span> <span id=\"unv_27053655\"></span> | <a href=\"hide?id=27053655&amp;goto=news\">hide</a> | <a href=\"item?id=27053655\">53 comments</a> </td></tr>\n",
              "<tr class=\"spacer\" style=\"height:5px\"></tr>\n",
              "<tr class=\"athing\" id=\"27054348\">\n",
              "<td align=\"right\" class=\"title\" valign=\"top\"><span class=\"rank\">9.</span></td> <td class=\"votelinks\" valign=\"top\"><center><a href=\"vote?id=27054348&amp;how=up&amp;goto=news\" id=\"up_27054348\"><div class=\"votearrow\" title=\"upvote\"></div></a></center></td><td class=\"title\"><a class=\"storylink\" href=\"https://markodenic.com/posts/html-tips/\">HTML Tips (2020)</a><span class=\"sitebit comhead\"> (<a href=\"from?site=markodenic.com\"><span class=\"sitestr\">markodenic.com</span></a>)</span></td></tr><tr><td colspan=\"2\"></td><td class=\"subtext\">\n",
              "<span class=\"score\" id=\"score_27054348\">459 points</span> by <a class=\"hnuser\" href=\"user?id=web_master\">web_master</a> <span class=\"age\"><a href=\"item?id=27054348\">10 hours ago</a></span> <span id=\"unv_27054348\"></span> | <a href=\"hide?id=27054348&amp;goto=news\">hide</a> | <a href=\"item?id=27054348\">85 comments</a> </td></tr>\n",
              "<tr class=\"spacer\" style=\"height:5px\"></tr>\n",
              "<tr class=\"athing\" id=\"27050801\">\n",
              "<td align=\"right\" class=\"title\" valign=\"top\"><span class=\"rank\">10.</span></td> <td class=\"votelinks\" valign=\"top\"><center><a href=\"vote?id=27050801&amp;how=up&amp;goto=news\" id=\"up_27050801\"><div class=\"votearrow\" title=\"upvote\"></div></a></center></td><td class=\"title\"><a class=\"storylink\" href=\"http://mobileatscale.com/\">Show HN: I wrote the book Building Mobile Apps at Scale</a><span class=\"sitebit comhead\"> (<a href=\"from?site=mobileatscale.com\"><span class=\"sitestr\">mobileatscale.com</span></a>)</span></td></tr><tr><td colspan=\"2\"></td><td class=\"subtext\">\n",
              "<span class=\"score\" id=\"score_27050801\">300 points</span> by <a class=\"hnuser\" href=\"user?id=gregdoesit\">gregdoesit</a> <span class=\"age\"><a href=\"item?id=27050801\">14 hours ago</a></span> <span id=\"unv_27050801\"></span> | <a href=\"hide?id=27050801&amp;goto=news\">hide</a> | <a href=\"item?id=27050801\">36 comments</a> </td></tr>\n",
              "<tr class=\"spacer\" style=\"height:5px\"></tr>\n",
              "<tr class=\"athing\" id=\"27052313\">\n",
              "<td align=\"right\" class=\"title\" valign=\"top\"><span class=\"rank\">11.</span></td> <td class=\"votelinks\" valign=\"top\"><center><a href=\"vote?id=27052313&amp;how=up&amp;goto=news\" id=\"up_27052313\"><div class=\"votearrow\" title=\"upvote\"></div></a></center></td><td class=\"title\"><a class=\"storylink\" href=\"https://ptsjs.org/\">Pts.js: a modular librairy for visualization and creative coding</a><span class=\"sitebit comhead\"> (<a href=\"from?site=ptsjs.org\"><span class=\"sitestr\">ptsjs.org</span></a>)</span></td></tr><tr><td colspan=\"2\"></td><td class=\"subtext\">\n",
              "<span class=\"score\" id=\"score_27052313\">197 points</span> by <a class=\"hnuser\" href=\"user?id=sctgrhm\">sctgrhm</a> <span class=\"age\"><a href=\"item?id=27052313\">13 hours ago</a></span> <span id=\"unv_27052313\"></span> | <a href=\"hide?id=27052313&amp;goto=news\">hide</a> | <a href=\"item?id=27052313\">21 comments</a> </td></tr>\n",
              "<tr class=\"spacer\" style=\"height:5px\"></tr>\n",
              "<tr class=\"athing\" id=\"27059053\">\n",
              "<td align=\"right\" class=\"title\" valign=\"top\"><span class=\"rank\">12.</span></td> <td class=\"votelinks\" valign=\"top\"><center><a href=\"vote?id=27059053&amp;how=up&amp;goto=news\" id=\"up_27059053\"><div class=\"votearrow\" title=\"upvote\"></div></a></center></td><td class=\"title\"><a class=\"storylink\" href=\"https://www.washingtonpost.com/sports/2021/05/05/japan-ioc-olympic-contract/\">Japan should cut losses and tell the IOC to take its Olympic pillage elsewhere</a><span class=\"sitebit comhead\"> (<a href=\"from?site=washingtonpost.com\"><span class=\"sitestr\">washingtonpost.com</span></a>)</span></td></tr><tr><td colspan=\"2\"></td><td class=\"subtext\">\n",
              "<span class=\"score\" id=\"score_27059053\">41 points</span> by <a class=\"hnuser\" href=\"user?id=Clewza313\">Clewza313</a> <span class=\"age\"><a href=\"item?id=27059053\">1 hour ago</a></span> <span id=\"unv_27059053\"></span> | <a href=\"hide?id=27059053&amp;goto=news\">hide</a> | <a href=\"item?id=27059053\">29 comments</a> </td></tr>\n",
              "<tr class=\"spacer\" style=\"height:5px\"></tr>\n",
              "<tr class=\"athing\" id=\"27045787\">\n",
              "<td align=\"right\" class=\"title\" valign=\"top\"><span class=\"rank\">13.</span></td> <td class=\"votelinks\" valign=\"top\"><center><a href=\"vote?id=27045787&amp;how=up&amp;goto=news\" id=\"up_27045787\"><div class=\"votearrow\" title=\"upvote\"></div></a></center></td><td class=\"title\"><a class=\"storylink\" href=\"https://furbo.org/2013/06/28/the-origin-of-tweet/\">The origin of “tweet” at Twitter (2013)</a><span class=\"sitebit comhead\"> (<a href=\"from?site=furbo.org\"><span class=\"sitestr\">furbo.org</span></a>)</span></td></tr><tr><td colspan=\"2\"></td><td class=\"subtext\">\n",
              "<span class=\"score\" id=\"score_27045787\">97 points</span> by <a class=\"hnuser\" href=\"user?id=pcr910303\">pcr910303</a> <span class=\"age\"><a href=\"item?id=27045787\">11 hours ago</a></span> <span id=\"unv_27045787\"></span> | <a href=\"hide?id=27045787&amp;goto=news\">hide</a> | <a href=\"item?id=27045787\">35 comments</a> </td></tr>\n",
              "<tr class=\"spacer\" style=\"height:5px\"></tr>\n",
              "<tr class=\"athing\" id=\"27058160\">\n",
              "<td align=\"right\" class=\"title\" valign=\"top\"><span class=\"rank\">14.</span></td> <td class=\"votelinks\" valign=\"top\"><center><a href=\"vote?id=27058160&amp;how=up&amp;goto=news\" id=\"up_27058160\"><div class=\"votearrow\" title=\"upvote\"></div></a></center></td><td class=\"title\"><a class=\"storylink\" href=\"https://www.scientificamerican.com/article/major-depressive-disorders-have-an-enormous-economic-impact/\">Major Depressive Disorders Have an Enormous Economic Impact</a><span class=\"sitebit comhead\"> (<a href=\"from?site=scientificamerican.com\"><span class=\"sitestr\">scientificamerican.com</span></a>)</span></td></tr><tr><td colspan=\"2\"></td><td class=\"subtext\">\n",
              "<span class=\"score\" id=\"score_27058160\">105 points</span> by <a class=\"hnuser\" href=\"user?id=pseudolus\">pseudolus</a> <span class=\"age\"><a href=\"item?id=27058160\">4 hours ago</a></span> <span id=\"unv_27058160\"></span> | <a href=\"hide?id=27058160&amp;goto=news\">hide</a> | <a href=\"item?id=27058160\">76 comments</a> </td></tr>\n",
              "<tr class=\"spacer\" style=\"height:5px\"></tr>\n",
              "<tr class=\"athing\" id=\"27051498\">\n",
              "<td align=\"right\" class=\"title\" valign=\"top\"><span class=\"rank\">15.</span></td> <td class=\"votelinks\" valign=\"top\"><center><a href=\"vote?id=27051498&amp;how=up&amp;goto=news\" id=\"up_27051498\"><div class=\"votearrow\" title=\"upvote\"></div></a></center></td><td class=\"title\"><a class=\"storylink\" href=\"https://felleisen.org/matthias/7480-s21/index.html\">History of Programming Languages</a><span class=\"sitebit comhead\"> (<a href=\"from?site=felleisen.org\"><span class=\"sitestr\">felleisen.org</span></a>)</span></td></tr><tr><td colspan=\"2\"></td><td class=\"subtext\">\n",
              "<span class=\"score\" id=\"score_27051498\">130 points</span> by <a class=\"hnuser\" href=\"user?id=ingve\">ingve</a> <span class=\"age\"><a href=\"item?id=27051498\">13 hours ago</a></span> <span id=\"unv_27051498\"></span> | <a href=\"hide?id=27051498&amp;goto=news\">hide</a> | <a href=\"item?id=27051498\">25 comments</a> </td></tr>\n",
              "<tr class=\"spacer\" style=\"height:5px\"></tr>\n",
              "<tr class=\"athing\" id=\"27036572\">\n",
              "<td align=\"right\" class=\"title\" valign=\"top\"><span class=\"rank\">16.</span></td> <td class=\"votelinks\" valign=\"top\"><center><a href=\"vote?id=27036572&amp;how=up&amp;goto=news\" id=\"up_27036572\"><div class=\"votearrow\" title=\"upvote\"></div></a></center></td><td class=\"title\"><a class=\"storylink\" href=\"https://angelhof.github.io/files/papers/shell-2021-hotos.pdf\">The Once and Future Shell [pdf]</a><span class=\"sitebit comhead\"> (<a href=\"from?site=angelhof.github.io\"><span class=\"sitestr\">angelhof.github.io</span></a>)</span></td></tr><tr><td colspan=\"2\"></td><td class=\"subtext\">\n",
              "<span class=\"score\" id=\"score_27036572\">28 points</span> by <a class=\"hnuser\" href=\"user?id=matt_d\">matt_d</a> <span class=\"age\"><a href=\"item?id=27036572\">4 hours ago</a></span> <span id=\"unv_27036572\"></span> | <a href=\"hide?id=27036572&amp;goto=news\">hide</a> | <a href=\"item?id=27036572\">7 comments</a> </td></tr>\n",
              "<tr class=\"spacer\" style=\"height:5px\"></tr>\n",
              "<tr class=\"athing\" id=\"27045463\">\n",
              "<td align=\"right\" class=\"title\" valign=\"top\"><span class=\"rank\">17.</span></td> <td class=\"votelinks\" valign=\"top\"><center><a href=\"vote?id=27045463&amp;how=up&amp;goto=news\" id=\"up_27045463\"><div class=\"votearrow\" title=\"upvote\"></div></a></center></td><td class=\"title\"><a class=\"storylink\" href=\"https://en.wikipedia.org/wiki/1700_Cascadia_earthquake\">1700 Cascadia Earthquake</a><span class=\"sitebit comhead\"> (<a href=\"from?site=wikipedia.org\"><span class=\"sitestr\">wikipedia.org</span></a>)</span></td></tr><tr><td colspan=\"2\"></td><td class=\"subtext\">\n",
              "<span class=\"score\" id=\"score_27045463\">111 points</span> by <a class=\"hnuser\" href=\"user?id=Hooke\">Hooke</a> <span class=\"age\"><a href=\"item?id=27045463\">10 hours ago</a></span> <span id=\"unv_27045463\"></span> | <a href=\"hide?id=27045463&amp;goto=news\">hide</a> | <a href=\"item?id=27045463\">82 comments</a> </td></tr>\n",
              "<tr class=\"spacer\" style=\"height:5px\"></tr>\n",
              "<tr class=\"athing\" id=\"27050731\">\n",
              "<td align=\"right\" class=\"title\" valign=\"top\"><span class=\"rank\">18.</span></td> <td class=\"votelinks\" valign=\"top\"><center><a href=\"vote?id=27050731&amp;how=up&amp;goto=news\" id=\"up_27050731\"><div class=\"votearrow\" title=\"upvote\"></div></a></center></td><td class=\"title\"><a class=\"storylink\" href=\"https://blog.playcanvas.com/introducing-the-anim-state-graph/\">PlayCanvas Launches Node-Based Animation Editor for WebGL</a><span class=\"sitebit comhead\"> (<a href=\"from?site=playcanvas.com\"><span class=\"sitestr\">playcanvas.com</span></a>)</span></td></tr><tr><td colspan=\"2\"></td><td class=\"subtext\">\n",
              "<span class=\"score\" id=\"score_27050731\">130 points</span> by <a class=\"hnuser\" href=\"user?id=ovenchips\">ovenchips</a> <span class=\"age\"><a href=\"item?id=27050731\">14 hours ago</a></span> <span id=\"unv_27050731\"></span> | <a href=\"hide?id=27050731&amp;goto=news\">hide</a> | <a href=\"item?id=27050731\">17 comments</a> </td></tr>\n",
              "<tr class=\"spacer\" style=\"height:5px\"></tr>\n",
              "<tr class=\"athing\" id=\"27052243\">\n",
              "<td align=\"right\" class=\"title\" valign=\"top\"><span class=\"rank\">19.</span></td> <td class=\"votelinks\" valign=\"top\"><center><a href=\"vote?id=27052243&amp;how=up&amp;goto=news\" id=\"up_27052243\"><div class=\"votearrow\" title=\"upvote\"></div></a></center></td><td class=\"title\"><a class=\"storylink\" href=\"https://medium.com/planet-stories/a-handy-introduction-to-cloud-optimized-geotiffs-1f2c9e716ec3\">Learning About the GeoTIFF File Format with a Hex Editor (2018)</a><span class=\"sitebit comhead\"> (<a href=\"from?site=medium.com/planet-stories\"><span class=\"sitestr\">medium.com/planet-stories</span></a>)</span></td></tr><tr><td colspan=\"2\"></td><td class=\"subtext\">\n",
              "<span class=\"score\" id=\"score_27052243\">84 points</span> by <a class=\"hnuser\" href=\"user?id=oldpatricka\">oldpatricka</a> <span class=\"age\"><a href=\"item?id=27052243\">13 hours ago</a></span> <span id=\"unv_27052243\"></span> | <a href=\"hide?id=27052243&amp;goto=news\">hide</a> | <a href=\"item?id=27052243\">18 comments</a> </td></tr>\n",
              "<tr class=\"spacer\" style=\"height:5px\"></tr>\n",
              "<tr class=\"athing\" id=\"27056300\">\n",
              "<td align=\"right\" class=\"title\" valign=\"top\"><span class=\"rank\">20.</span></td> <td class=\"votelinks\" valign=\"top\"><center><a href=\"vote?id=27056300&amp;how=up&amp;goto=news\" id=\"up_27056300\"><div class=\"votearrow\" title=\"upvote\"></div></a></center></td><td class=\"title\"><a class=\"storylink\" href=\"https://pxlnv.com/linklog/california-exception/\">The California Exception</a><span class=\"sitebit comhead\"> (<a href=\"from?site=pxlnv.com\"><span class=\"sitestr\">pxlnv.com</span></a>)</span></td></tr><tr><td colspan=\"2\"></td><td class=\"subtext\">\n",
              "<span class=\"score\" id=\"score_27056300\">157 points</span> by <a class=\"hnuser\" href=\"user?id=MaysonL\">MaysonL</a> <span class=\"age\"><a href=\"item?id=27056300\">7 hours ago</a></span> <span id=\"unv_27056300\"></span> | <a href=\"hide?id=27056300&amp;goto=news\">hide</a> | <a href=\"item?id=27056300\">94 comments</a> </td></tr>\n",
              "<tr class=\"spacer\" style=\"height:5px\"></tr>\n",
              "<tr class=\"athing\" id=\"27055759\">\n",
              "<td align=\"right\" class=\"title\" valign=\"top\"><span class=\"rank\">21.</span></td> <td></td><td class=\"title\"><a class=\"storylink\" href=\"https://www.workatastartup.com/jobs/43771\" rel=\"nofollow\">Zumo Labs (YC W20) Is Hiring a Product Manager</a><span class=\"sitebit comhead\"> (<a href=\"from?site=workatastartup.com\"><span class=\"sitestr\">workatastartup.com</span></a>)</span></td></tr><tr><td colspan=\"2\"></td><td class=\"subtext\">\n",
              "<span class=\"age\"><a href=\"item?id=27055759\">8 hours ago</a></span> | <a href=\"hide?id=27055759&amp;goto=news\">hide</a> </td></tr>\n",
              "<tr class=\"spacer\" style=\"height:5px\"></tr>\n",
              "<tr class=\"athing\" id=\"27050687\">\n",
              "<td align=\"right\" class=\"title\" valign=\"top\"><span class=\"rank\">22.</span></td> <td class=\"votelinks\" valign=\"top\"><center><a href=\"vote?id=27050687&amp;how=up&amp;goto=news\" id=\"up_27050687\"><div class=\"votearrow\" title=\"upvote\"></div></a></center></td><td class=\"title\"><a class=\"storylink\" href=\"https://github.com/slidevjs/slidev\">Slidev – Presentation Slides for Developers</a><span class=\"sitebit comhead\"> (<a href=\"from?site=github.com/slidevjs\"><span class=\"sitestr\">github.com/slidevjs</span></a>)</span></td></tr><tr><td colspan=\"2\"></td><td class=\"subtext\">\n",
              "<span class=\"score\" id=\"score_27050687\">109 points</span> by <a class=\"hnuser\" href=\"user?id=antfu\">antfu</a> <span class=\"age\"><a href=\"item?id=27050687\">14 hours ago</a></span> <span id=\"unv_27050687\"></span> | <a href=\"hide?id=27050687&amp;goto=news\">hide</a> | <a href=\"item?id=27050687\">21 comments</a> </td></tr>\n",
              "<tr class=\"spacer\" style=\"height:5px\"></tr>\n",
              "<tr class=\"athing\" id=\"27047243\">\n",
              "<td align=\"right\" class=\"title\" valign=\"top\"><span class=\"rank\">23.</span></td> <td class=\"votelinks\" valign=\"top\"><center><a href=\"vote?id=27047243&amp;how=up&amp;goto=news\" id=\"up_27047243\"><div class=\"votearrow\" title=\"upvote\"></div></a></center></td><td class=\"title\"><a class=\"storylink\" href=\"https://github.com/ClearURLs/Addon/\">ClearURLs – automatically remove tracking elements from URLs</a><span class=\"sitebit comhead\"> (<a href=\"from?site=github.com/clearurls\"><span class=\"sitestr\">github.com/clearurls</span></a>)</span></td></tr><tr><td colspan=\"2\"></td><td class=\"subtext\">\n",
              "<span class=\"score\" id=\"score_27047243\">707 points</span> by <a class=\"hnuser\" href=\"user?id=stanislavb\">stanislavb</a> <span class=\"age\"><a href=\"item?id=27047243\">22 hours ago</a></span> <span id=\"unv_27047243\"></span> | <a href=\"hide?id=27047243&amp;goto=news\">hide</a> | <a href=\"item?id=27047243\">276 comments</a> </td></tr>\n",
              "<tr class=\"spacer\" style=\"height:5px\"></tr>\n",
              "<tr class=\"athing\" id=\"27048672\">\n",
              "<td align=\"right\" class=\"title\" valign=\"top\"><span class=\"rank\">24.</span></td> <td class=\"votelinks\" valign=\"top\"><center><a href=\"vote?id=27048672&amp;how=up&amp;goto=news\" id=\"up_27048672\"><div class=\"votearrow\" title=\"upvote\"></div></a></center></td><td class=\"title\"><a class=\"storylink\" href=\"https://blubrry.com/microsoftresearch/76856095/120-advancing-excel-as-a-programming-language-with-andy-gordon-and-simon-peyton-jones/\">Advancing Excel as a programming language [audio]</a><span class=\"sitebit comhead\"> (<a href=\"from?site=blubrry.com\"><span class=\"sitestr\">blubrry.com</span></a>)</span></td></tr><tr><td colspan=\"2\"></td><td class=\"subtext\">\n",
              "<span class=\"score\" id=\"score_27048672\">69 points</span> by <a class=\"hnuser\" href=\"user?id=0-_-0\">0-_-0</a> <span class=\"age\"><a href=\"item?id=27048672\">10 hours ago</a></span> <span id=\"unv_27048672\"></span> | <a href=\"hide?id=27048672&amp;goto=news\">hide</a> | <a href=\"item?id=27048672\">74 comments</a> </td></tr>\n",
              "<tr class=\"spacer\" style=\"height:5px\"></tr>\n",
              "<tr class=\"athing\" id=\"27055671\">\n",
              "<td align=\"right\" class=\"title\" valign=\"top\"><span class=\"rank\">25.</span></td> <td class=\"votelinks\" valign=\"top\"><center><a href=\"vote?id=27055671&amp;how=up&amp;goto=news\" id=\"up_27055671\"><div class=\"votearrow\" title=\"upvote\"></div></a></center></td><td class=\"title\"><a class=\"storylink\" href=\"https://blog.google/inside-google/life-at-google/hybrid-approach-work/\">A Hybrid Approach to Work</a><span class=\"sitebit comhead\"> (<a href=\"from?site=blog.google\"><span class=\"sitestr\">blog.google</span></a>)</span></td></tr><tr><td colspan=\"2\"></td><td class=\"subtext\">\n",
              "<span class=\"score\" id=\"score_27055671\">130 points</span> by <a class=\"hnuser\" href=\"user?id=jader201\">jader201</a> <span class=\"age\"><a href=\"item?id=27055671\">8 hours ago</a></span> <span id=\"unv_27055671\"></span> | <a href=\"hide?id=27055671&amp;goto=news\">hide</a> | <a href=\"item?id=27055671\">99 comments</a> </td></tr>\n",
              "<tr class=\"spacer\" style=\"height:5px\"></tr>\n",
              "<tr class=\"athing\" id=\"27057978\">\n",
              "<td align=\"right\" class=\"title\" valign=\"top\"><span class=\"rank\">26.</span></td> <td class=\"votelinks\" valign=\"top\"><center><a href=\"vote?id=27057978&amp;how=up&amp;goto=news\" id=\"up_27057978\"><div class=\"votearrow\" title=\"upvote\"></div></a></center></td><td class=\"title\"><a class=\"storylink\" href=\"item?id=27057978\">Ask HN: How do you generally build a product?</a></td></tr><tr><td colspan=\"2\"></td><td class=\"subtext\">\n",
              "<span class=\"score\" id=\"score_27057978\">65 points</span> by <a class=\"hnuser\" href=\"user?id=tr1ll10nb1ll\">tr1ll10nb1ll</a> <span class=\"age\"><a href=\"item?id=27057978\">4 hours ago</a></span> <span id=\"unv_27057978\"></span> | <a href=\"hide?id=27057978&amp;goto=news\">hide</a> | <a href=\"item?id=27057978\">23 comments</a> </td></tr>\n",
              "<tr class=\"spacer\" style=\"height:5px\"></tr>\n",
              "<tr class=\"athing\" id=\"27051575\">\n",
              "<td align=\"right\" class=\"title\" valign=\"top\"><span class=\"rank\">27.</span></td> <td class=\"votelinks\" valign=\"top\"><center><a href=\"vote?id=27051575&amp;how=up&amp;goto=news\" id=\"up_27051575\"><div class=\"votearrow\" title=\"upvote\"></div></a></center></td><td class=\"title\"><a class=\"storylink\" href=\"https://technicshistory.com/2021/05/05/the-pumping-engine/\" rel=\"nofollow\">The Pumping Engine</a><span class=\"sitebit comhead\"> (<a href=\"from?site=technicshistory.com\"><span class=\"sitestr\">technicshistory.com</span></a>)</span></td></tr><tr><td colspan=\"2\"></td><td class=\"subtext\">\n",
              "<span class=\"score\" id=\"score_27051575\">7 points</span> by <a class=\"hnuser\" href=\"user?id=cfmcdonald\">cfmcdonald</a> <span class=\"age\"><a href=\"item?id=27051575\">3 hours ago</a></span> <span id=\"unv_27051575\"></span> | <a href=\"hide?id=27051575&amp;goto=news\">hide</a> | <a href=\"item?id=27051575\">1 comment</a> </td></tr>\n",
              "<tr class=\"spacer\" style=\"height:5px\"></tr>\n",
              "<tr class=\"athing\" id=\"27053836\">\n",
              "<td align=\"right\" class=\"title\" valign=\"top\"><span class=\"rank\">28.</span></td> <td class=\"votelinks\" valign=\"top\"><center><a href=\"vote?id=27053836&amp;how=up&amp;goto=news\" id=\"up_27053836\"><div class=\"votearrow\" title=\"upvote\"></div></a></center></td><td class=\"title\"><a class=\"storylink\" href=\"https://undark.org/2021/01/25/debate-over-melanoma-diagnosis/\">Are we screening too much for skin cancer? It's complicated</a><span class=\"sitebit comhead\"> (<a href=\"from?site=undark.org\"><span class=\"sitestr\">undark.org</span></a>)</span></td></tr><tr><td colspan=\"2\"></td><td class=\"subtext\">\n",
              "<span class=\"score\" id=\"score_27053836\">18 points</span> by <a class=\"hnuser\" href=\"user?id=laurex\">laurex</a> <span class=\"age\"><a href=\"item?id=27053836\">6 hours ago</a></span> <span id=\"unv_27053836\"></span> | <a href=\"hide?id=27053836&amp;goto=news\">hide</a> | <a href=\"item?id=27053836\">15 comments</a> </td></tr>\n",
              "<tr class=\"spacer\" style=\"height:5px\"></tr>\n",
              "<tr class=\"athing\" id=\"27055364\">\n",
              "<td align=\"right\" class=\"title\" valign=\"top\"><span class=\"rank\">29.</span></td> <td class=\"votelinks\" valign=\"top\"><center><a href=\"vote?id=27055364&amp;how=up&amp;goto=news\" id=\"up_27055364\"><div class=\"votearrow\" title=\"upvote\"></div></a></center></td><td class=\"title\"><a class=\"storylink\" href=\"https://blog.px.dev/open-source-release/\">Open sourcing Pixie under Apache 2.0 license</a><span class=\"sitebit comhead\"> (<a href=\"from?site=px.dev\"><span class=\"sitestr\">px.dev</span></a>)</span></td></tr><tr><td colspan=\"2\"></td><td class=\"subtext\">\n",
              "<span class=\"score\" id=\"score_27055364\">77 points</span> by <a class=\"hnuser\" href=\"user?id=nserrino\">nserrino</a> <span class=\"age\"><a href=\"item?id=27055364\">9 hours ago</a></span> <span id=\"unv_27055364\"></span> | <a href=\"hide?id=27055364&amp;goto=news\">hide</a> | <a href=\"item?id=27055364\">10 comments</a> </td></tr>\n",
              "<tr class=\"spacer\" style=\"height:5px\"></tr>\n",
              "<tr class=\"athing\" id=\"27036626\">\n",
              "<td align=\"right\" class=\"title\" valign=\"top\"><span class=\"rank\">30.</span></td> <td class=\"votelinks\" valign=\"top\"><center><a href=\"vote?id=27036626&amp;how=up&amp;goto=news\" id=\"up_27036626\"><div class=\"votearrow\" title=\"upvote\"></div></a></center></td><td class=\"title\"><a class=\"storylink\" href=\"https://github.com/jendrikseipp/vulture\">Vulture: Find Dead Python Code</a><span class=\"sitebit comhead\"> (<a href=\"from?site=github.com/jendrikseipp\"><span class=\"sitestr\">github.com/jendrikseipp</span></a>)</span></td></tr><tr><td colspan=\"2\"></td><td class=\"subtext\">\n",
              "<span class=\"score\" id=\"score_27036626\">55 points</span> by <a class=\"hnuser\" href=\"user?id=polm23\">polm23</a> <span class=\"age\"><a href=\"item?id=27036626\">9 hours ago</a></span> <span id=\"unv_27036626\"></span> | <a href=\"hide?id=27036626&amp;goto=news\">hide</a> | <a href=\"item?id=27036626\">17 comments</a> </td></tr>\n",
              "<tr class=\"spacer\" style=\"height:5px\"></tr>\n",
              "<tr class=\"morespace\" style=\"height:10px\"></tr><tr><td colspan=\"2\"></td><td class=\"title\"><a class=\"morelink\" href=\"news?p=2\" rel=\"next\">More</a></td></tr>\n",
              "</table>\n",
              "</td></tr>\n",
              "<tr><td><img height=\"10\" src=\"s.gif\" width=\"0\"/><table cellpadding=\"1\" cellspacing=\"0\" width=\"100%\"><tr><td bgcolor=\"#ff6600\"></td></tr></table><br/><center><span class=\"yclinks\"><a href=\"newsguidelines.html\">Guidelines</a>\n",
              "        | <a href=\"newsfaq.html\">FAQ</a>\n",
              "        | <a href=\"lists\">Lists</a>\n",
              "        | <a href=\"https://github.com/HackerNews/API\">API</a>\n",
              "        | <a href=\"security.html\">Security</a>\n",
              "        | <a href=\"http://www.ycombinator.com/legal/\">Legal</a>\n",
              "        | <a href=\"http://www.ycombinator.com/apply/\">Apply to YC</a>\n",
              "        | <a href=\"mailto:hn@ycombinator.com\">Contact</a></span><br/><br/><form action=\"//hn.algolia.com/\" method=\"get\">Search:\n",
              "          <input autocapitalize=\"off\" autocomplete=\"false\" autocorrect=\"off\" name=\"q\" size=\"17\" spellcheck=\"false\" type=\"text\" value=\"\"/></form>\n",
              "</center></td></tr>\n",
              "</table></center></body>"
            ]
          },
          "metadata": {
            "tags": []
          },
          "execution_count": 10
        }
      ]
    },
    {
      "cell_type": "code",
      "metadata": {
        "colab": {
          "base_uri": "https://localhost:8080/"
        },
        "id": "OMtlU7JYSZBw",
        "outputId": "4231e610-3073-465d-8fcc-c1fb8bcec500"
      },
      "source": [
        "soup_obj.body.contents"
      ],
      "execution_count": 11,
      "outputs": [
        {
          "output_type": "execute_result",
          "data": {
            "text/plain": [
              "[<center><table bgcolor=\"#f6f6ef\" border=\"0\" cellpadding=\"0\" cellspacing=\"0\" id=\"hnmain\" width=\"85%\">\n",
              " <tr><td bgcolor=\"#ff6600\"><table border=\"0\" cellpadding=\"0\" cellspacing=\"0\" style=\"padding:2px\" width=\"100%\"><tr><td style=\"width:18px;padding-right:4px\"><a href=\"https://news.ycombinator.com\"><img height=\"18\" src=\"y18.gif\" style=\"border:1px white solid;\" width=\"18\"/></a></td>\n",
              " <td style=\"line-height:12pt; height:10px;\"><span class=\"pagetop\"><b class=\"hnname\"><a href=\"news\">Hacker News</a></b>\n",
              " <a href=\"newest\">new</a> | <a href=\"front\">past</a> | <a href=\"newcomments\">comments</a> | <a href=\"ask\">ask</a> | <a href=\"show\">show</a> | <a href=\"jobs\">jobs</a> | <a href=\"submit\">submit</a> </span></td><td style=\"text-align:right;padding-right:4px;\"><span class=\"pagetop\">\n",
              " <a href=\"login?goto=news\">login</a>\n",
              " </span></td>\n",
              " </tr></table></td></tr>\n",
              " <tr id=\"pagespace\" style=\"height:10px\" title=\"\"></tr><tr><td><table border=\"0\" cellpadding=\"0\" cellspacing=\"0\" class=\"itemlist\">\n",
              " <tr class=\"athing\" id=\"27058178\">\n",
              " <td align=\"right\" class=\"title\" valign=\"top\"><span class=\"rank\">1.</span></td> <td class=\"votelinks\" valign=\"top\"><center><a href=\"vote?id=27058178&amp;how=up&amp;goto=news\" id=\"up_27058178\"><div class=\"votearrow\" title=\"upvote\"></div></a></center></td><td class=\"title\"><a class=\"storylink\" href=\"https://techstartups.com/2021/05/05/liveleak-shuts-15-years-online/\">LiveLeak shuts down after 15 years online</a><span class=\"sitebit comhead\"> (<a href=\"from?site=techstartups.com\"><span class=\"sitestr\">techstartups.com</span></a>)</span></td></tr><tr><td colspan=\"2\"></td><td class=\"subtext\">\n",
              " <span class=\"score\" id=\"score_27058178\">362 points</span> by <a class=\"hnuser\" href=\"user?id=ro_bit\">ro_bit</a> <span class=\"age\"><a href=\"item?id=27058178\">4 hours ago</a></span> <span id=\"unv_27058178\"></span> | <a href=\"hide?id=27058178&amp;goto=news\">hide</a> | <a href=\"item?id=27058178\">223 comments</a> </td></tr>\n",
              " <tr class=\"spacer\" style=\"height:5px\"></tr>\n",
              " <tr class=\"athing\" id=\"27059119\">\n",
              " <td align=\"right\" class=\"title\" valign=\"top\"><span class=\"rank\">2.</span></td> <td class=\"votelinks\" valign=\"top\"><center><a href=\"vote?id=27059119&amp;how=up&amp;goto=news\" id=\"up_27059119\"><div class=\"votearrow\" title=\"upvote\"></div></a></center></td><td class=\"title\"><a class=\"storylink\" href=\"https://blog.pyston.org/2021/05/05/pyston-v2-2-faster-and-open-source/\">Pyston v2.2: faster and open source</a><span class=\"sitebit comhead\"> (<a href=\"from?site=pyston.org\"><span class=\"sitestr\">pyston.org</span></a>)</span></td></tr><tr><td colspan=\"2\"></td><td class=\"subtext\">\n",
              " <span class=\"score\" id=\"score_27059119\">34 points</span> by <a class=\"hnuser\" href=\"user?id=chenzhekl\">chenzhekl</a> <span class=\"age\"><a href=\"item?id=27059119\">1 hour ago</a></span> <span id=\"unv_27059119\"></span> | <a href=\"hide?id=27059119&amp;goto=news\">hide</a> | <a href=\"item?id=27059119\">6 comments</a> </td></tr>\n",
              " <tr class=\"spacer\" style=\"height:5px\"></tr>\n",
              " <tr class=\"athing\" id=\"27052840\">\n",
              " <td align=\"right\" class=\"title\" valign=\"top\"><span class=\"rank\">3.</span></td> <td class=\"votelinks\" valign=\"top\"><center><a href=\"vote?id=27052840&amp;how=up&amp;goto=news\" id=\"up_27052840\"><div class=\"votearrow\" title=\"upvote\"></div></a></center></td><td class=\"title\"><a class=\"storylink\" href=\"https://github.com/timvisee/send\">Send: A Fork of Mozilla's Firefox Send</a><span class=\"sitebit comhead\"> (<a href=\"from?site=github.com/timvisee\"><span class=\"sitestr\">github.com/timvisee</span></a>)</span></td></tr><tr><td colspan=\"2\"></td><td class=\"subtext\">\n",
              " <span class=\"score\" id=\"score_27052840\">517 points</span> by <a class=\"hnuser\" href=\"user?id=andredz\">andredz</a> <span class=\"age\"><a href=\"item?id=27052840\">12 hours ago</a></span> <span id=\"unv_27052840\"></span> | <a href=\"hide?id=27052840&amp;goto=news\">hide</a> | <a href=\"item?id=27052840\">103 comments</a> </td></tr>\n",
              " <tr class=\"spacer\" style=\"height:5px\"></tr>\n",
              " <tr class=\"athing\" id=\"27058914\">\n",
              " <td align=\"right\" class=\"title\" valign=\"top\"><span class=\"rank\">4.</span></td> <td class=\"votelinks\" valign=\"top\"><center><a href=\"vote?id=27058914&amp;how=up&amp;goto=news\" id=\"up_27058914\"><div class=\"votearrow\" title=\"upvote\"></div></a></center></td><td class=\"title\"><a class=\"storylink\" href=\"https://github.com/Sysinternals/ProcMon-for-Linux/\">ProcMon for Linux (Preview)</a><span class=\"sitebit comhead\"> (<a href=\"from?site=github.com/sysinternals\"><span class=\"sitestr\">github.com/sysinternals</span></a>)</span></td></tr><tr><td colspan=\"2\"></td><td class=\"subtext\">\n",
              " <span class=\"score\" id=\"score_27058914\">37 points</span> by <a class=\"hnuser\" href=\"user?id=vmarsy\">vmarsy</a> <span class=\"age\"><a href=\"item?id=27058914\">2 hours ago</a></span> <span id=\"unv_27058914\"></span> | <a href=\"hide?id=27058914&amp;goto=news\">hide</a> | <a href=\"item?id=27058914\">4 comments</a> </td></tr>\n",
              " <tr class=\"spacer\" style=\"height:5px\"></tr>\n",
              " <tr class=\"athing\" id=\"27059194\">\n",
              " <td align=\"right\" class=\"title\" valign=\"top\"><span class=\"rank\">5.</span></td> <td class=\"votelinks\" valign=\"top\"><center><a href=\"vote?id=27059194&amp;how=up&amp;goto=news\" id=\"up_27059194\"><div class=\"votearrow\" title=\"upvote\"></div></a></center></td><td class=\"title\"><a class=\"storylink\" href=\"https://twitter.com/CoinbaseNews/status/1390065013071781889\">Coinbase is closing their SF office and going full remote</a><span class=\"sitebit comhead\"> (<a href=\"from?site=twitter.com/coinbasenews\"><span class=\"sitestr\">twitter.com/coinbasenews</span></a>)</span></td></tr><tr><td colspan=\"2\"></td><td class=\"subtext\">\n",
              " <span class=\"score\" id=\"score_27059194\">53 points</span> by <a class=\"hnuser\" href=\"user?id=ZephyrBlu\">ZephyrBlu</a> <span class=\"age\"><a href=\"item?id=27059194\">1 hour ago</a></span> <span id=\"unv_27059194\"></span> | <a href=\"hide?id=27059194&amp;goto=news\">hide</a> | <a href=\"item?id=27059194\">14 comments</a> </td></tr>\n",
              " <tr class=\"spacer\" style=\"height:5px\"></tr>\n",
              " <tr class=\"athing\" id=\"27054357\">\n",
              " <td align=\"right\" class=\"title\" valign=\"top\"><span class=\"rank\">6.</span></td> <td class=\"votelinks\" valign=\"top\"><center><a href=\"vote?id=27054357&amp;how=up&amp;goto=news\" id=\"up_27054357\"><div class=\"votearrow\" title=\"upvote\"></div></a></center></td><td class=\"title\"><a class=\"storylink\" href=\"https://www.csweapons.com\">Show HN: CS Weapons – Counter-Strike weapon data comparison app</a><span class=\"sitebit comhead\"> (<a href=\"from?site=csweapons.com\"><span class=\"sitestr\">csweapons.com</span></a>)</span></td></tr><tr><td colspan=\"2\"></td><td class=\"subtext\">\n",
              " <span class=\"score\" id=\"score_27054357\">184 points</span> by <a class=\"hnuser\" href=\"user?id=vercadium\">vercadium</a> <span class=\"age\"><a href=\"item?id=27054357\">10 hours ago</a></span> <span id=\"unv_27054357\"></span> | <a href=\"hide?id=27054357&amp;goto=news\">hide</a> | <a href=\"item?id=27054357\">83 comments</a> </td></tr>\n",
              " <tr class=\"spacer\" style=\"height:5px\"></tr>\n",
              " <tr class=\"athing\" id=\"27051468\">\n",
              " <td align=\"right\" class=\"title\" valign=\"top\"><span class=\"rank\">7.</span></td> <td class=\"votelinks\" valign=\"top\"><center><a href=\"vote?id=27051468&amp;how=up&amp;goto=news\" id=\"up_27051468\"><div class=\"votearrow\" title=\"upvote\"></div></a></center></td><td class=\"title\"><a class=\"storylink\" href=\"https://github.com/andymatuschak/orbit\">Orbit: an experimental platform for small tasks repeated over time</a><span class=\"sitebit comhead\"> (<a href=\"from?site=github.com/andymatuschak\"><span class=\"sitestr\">github.com/andymatuschak</span></a>)</span></td></tr><tr><td colspan=\"2\"></td><td class=\"subtext\">\n",
              " <span class=\"score\" id=\"score_27051468\">341 points</span> by <a class=\"hnuser\" href=\"user?id=goerz\">goerz</a> <span class=\"age\"><a href=\"item?id=27051468\">13 hours ago</a></span> <span id=\"unv_27051468\"></span> | <a href=\"hide?id=27051468&amp;goto=news\">hide</a> | <a href=\"item?id=27051468\">52 comments</a> </td></tr>\n",
              " <tr class=\"spacer\" style=\"height:5px\"></tr>\n",
              " <tr class=\"athing\" id=\"27053655\">\n",
              " <td align=\"right\" class=\"title\" valign=\"top\"><span class=\"rank\">8.</span></td> <td class=\"votelinks\" valign=\"top\"><center><a href=\"vote?id=27053655&amp;how=up&amp;goto=news\" id=\"up_27053655\"><div class=\"votearrow\" title=\"upvote\"></div></a></center></td><td class=\"title\"><a class=\"storylink\" href=\"http://www.macflim.com\">MacFlim: Full-motion video on B&amp;W Macs</a><span class=\"sitebit comhead\"> (<a href=\"from?site=macflim.com\"><span class=\"sitestr\">macflim.com</span></a>)</span></td></tr><tr><td colspan=\"2\"></td><td class=\"subtext\">\n",
              " <span class=\"score\" id=\"score_27053655\">167 points</span> by <a class=\"hnuser\" href=\"user?id=smagoun\">smagoun</a> <span class=\"age\"><a href=\"item?id=27053655\">11 hours ago</a></span> <span id=\"unv_27053655\"></span> | <a href=\"hide?id=27053655&amp;goto=news\">hide</a> | <a href=\"item?id=27053655\">53 comments</a> </td></tr>\n",
              " <tr class=\"spacer\" style=\"height:5px\"></tr>\n",
              " <tr class=\"athing\" id=\"27054348\">\n",
              " <td align=\"right\" class=\"title\" valign=\"top\"><span class=\"rank\">9.</span></td> <td class=\"votelinks\" valign=\"top\"><center><a href=\"vote?id=27054348&amp;how=up&amp;goto=news\" id=\"up_27054348\"><div class=\"votearrow\" title=\"upvote\"></div></a></center></td><td class=\"title\"><a class=\"storylink\" href=\"https://markodenic.com/posts/html-tips/\">HTML Tips (2020)</a><span class=\"sitebit comhead\"> (<a href=\"from?site=markodenic.com\"><span class=\"sitestr\">markodenic.com</span></a>)</span></td></tr><tr><td colspan=\"2\"></td><td class=\"subtext\">\n",
              " <span class=\"score\" id=\"score_27054348\">459 points</span> by <a class=\"hnuser\" href=\"user?id=web_master\">web_master</a> <span class=\"age\"><a href=\"item?id=27054348\">10 hours ago</a></span> <span id=\"unv_27054348\"></span> | <a href=\"hide?id=27054348&amp;goto=news\">hide</a> | <a href=\"item?id=27054348\">85 comments</a> </td></tr>\n",
              " <tr class=\"spacer\" style=\"height:5px\"></tr>\n",
              " <tr class=\"athing\" id=\"27050801\">\n",
              " <td align=\"right\" class=\"title\" valign=\"top\"><span class=\"rank\">10.</span></td> <td class=\"votelinks\" valign=\"top\"><center><a href=\"vote?id=27050801&amp;how=up&amp;goto=news\" id=\"up_27050801\"><div class=\"votearrow\" title=\"upvote\"></div></a></center></td><td class=\"title\"><a class=\"storylink\" href=\"http://mobileatscale.com/\">Show HN: I wrote the book Building Mobile Apps at Scale</a><span class=\"sitebit comhead\"> (<a href=\"from?site=mobileatscale.com\"><span class=\"sitestr\">mobileatscale.com</span></a>)</span></td></tr><tr><td colspan=\"2\"></td><td class=\"subtext\">\n",
              " <span class=\"score\" id=\"score_27050801\">300 points</span> by <a class=\"hnuser\" href=\"user?id=gregdoesit\">gregdoesit</a> <span class=\"age\"><a href=\"item?id=27050801\">14 hours ago</a></span> <span id=\"unv_27050801\"></span> | <a href=\"hide?id=27050801&amp;goto=news\">hide</a> | <a href=\"item?id=27050801\">36 comments</a> </td></tr>\n",
              " <tr class=\"spacer\" style=\"height:5px\"></tr>\n",
              " <tr class=\"athing\" id=\"27052313\">\n",
              " <td align=\"right\" class=\"title\" valign=\"top\"><span class=\"rank\">11.</span></td> <td class=\"votelinks\" valign=\"top\"><center><a href=\"vote?id=27052313&amp;how=up&amp;goto=news\" id=\"up_27052313\"><div class=\"votearrow\" title=\"upvote\"></div></a></center></td><td class=\"title\"><a class=\"storylink\" href=\"https://ptsjs.org/\">Pts.js: a modular librairy for visualization and creative coding</a><span class=\"sitebit comhead\"> (<a href=\"from?site=ptsjs.org\"><span class=\"sitestr\">ptsjs.org</span></a>)</span></td></tr><tr><td colspan=\"2\"></td><td class=\"subtext\">\n",
              " <span class=\"score\" id=\"score_27052313\">197 points</span> by <a class=\"hnuser\" href=\"user?id=sctgrhm\">sctgrhm</a> <span class=\"age\"><a href=\"item?id=27052313\">13 hours ago</a></span> <span id=\"unv_27052313\"></span> | <a href=\"hide?id=27052313&amp;goto=news\">hide</a> | <a href=\"item?id=27052313\">21 comments</a> </td></tr>\n",
              " <tr class=\"spacer\" style=\"height:5px\"></tr>\n",
              " <tr class=\"athing\" id=\"27059053\">\n",
              " <td align=\"right\" class=\"title\" valign=\"top\"><span class=\"rank\">12.</span></td> <td class=\"votelinks\" valign=\"top\"><center><a href=\"vote?id=27059053&amp;how=up&amp;goto=news\" id=\"up_27059053\"><div class=\"votearrow\" title=\"upvote\"></div></a></center></td><td class=\"title\"><a class=\"storylink\" href=\"https://www.washingtonpost.com/sports/2021/05/05/japan-ioc-olympic-contract/\">Japan should cut losses and tell the IOC to take its Olympic pillage elsewhere</a><span class=\"sitebit comhead\"> (<a href=\"from?site=washingtonpost.com\"><span class=\"sitestr\">washingtonpost.com</span></a>)</span></td></tr><tr><td colspan=\"2\"></td><td class=\"subtext\">\n",
              " <span class=\"score\" id=\"score_27059053\">41 points</span> by <a class=\"hnuser\" href=\"user?id=Clewza313\">Clewza313</a> <span class=\"age\"><a href=\"item?id=27059053\">1 hour ago</a></span> <span id=\"unv_27059053\"></span> | <a href=\"hide?id=27059053&amp;goto=news\">hide</a> | <a href=\"item?id=27059053\">29 comments</a> </td></tr>\n",
              " <tr class=\"spacer\" style=\"height:5px\"></tr>\n",
              " <tr class=\"athing\" id=\"27045787\">\n",
              " <td align=\"right\" class=\"title\" valign=\"top\"><span class=\"rank\">13.</span></td> <td class=\"votelinks\" valign=\"top\"><center><a href=\"vote?id=27045787&amp;how=up&amp;goto=news\" id=\"up_27045787\"><div class=\"votearrow\" title=\"upvote\"></div></a></center></td><td class=\"title\"><a class=\"storylink\" href=\"https://furbo.org/2013/06/28/the-origin-of-tweet/\">The origin of “tweet” at Twitter (2013)</a><span class=\"sitebit comhead\"> (<a href=\"from?site=furbo.org\"><span class=\"sitestr\">furbo.org</span></a>)</span></td></tr><tr><td colspan=\"2\"></td><td class=\"subtext\">\n",
              " <span class=\"score\" id=\"score_27045787\">97 points</span> by <a class=\"hnuser\" href=\"user?id=pcr910303\">pcr910303</a> <span class=\"age\"><a href=\"item?id=27045787\">11 hours ago</a></span> <span id=\"unv_27045787\"></span> | <a href=\"hide?id=27045787&amp;goto=news\">hide</a> | <a href=\"item?id=27045787\">35 comments</a> </td></tr>\n",
              " <tr class=\"spacer\" style=\"height:5px\"></tr>\n",
              " <tr class=\"athing\" id=\"27058160\">\n",
              " <td align=\"right\" class=\"title\" valign=\"top\"><span class=\"rank\">14.</span></td> <td class=\"votelinks\" valign=\"top\"><center><a href=\"vote?id=27058160&amp;how=up&amp;goto=news\" id=\"up_27058160\"><div class=\"votearrow\" title=\"upvote\"></div></a></center></td><td class=\"title\"><a class=\"storylink\" href=\"https://www.scientificamerican.com/article/major-depressive-disorders-have-an-enormous-economic-impact/\">Major Depressive Disorders Have an Enormous Economic Impact</a><span class=\"sitebit comhead\"> (<a href=\"from?site=scientificamerican.com\"><span class=\"sitestr\">scientificamerican.com</span></a>)</span></td></tr><tr><td colspan=\"2\"></td><td class=\"subtext\">\n",
              " <span class=\"score\" id=\"score_27058160\">105 points</span> by <a class=\"hnuser\" href=\"user?id=pseudolus\">pseudolus</a> <span class=\"age\"><a href=\"item?id=27058160\">4 hours ago</a></span> <span id=\"unv_27058160\"></span> | <a href=\"hide?id=27058160&amp;goto=news\">hide</a> | <a href=\"item?id=27058160\">76 comments</a> </td></tr>\n",
              " <tr class=\"spacer\" style=\"height:5px\"></tr>\n",
              " <tr class=\"athing\" id=\"27051498\">\n",
              " <td align=\"right\" class=\"title\" valign=\"top\"><span class=\"rank\">15.</span></td> <td class=\"votelinks\" valign=\"top\"><center><a href=\"vote?id=27051498&amp;how=up&amp;goto=news\" id=\"up_27051498\"><div class=\"votearrow\" title=\"upvote\"></div></a></center></td><td class=\"title\"><a class=\"storylink\" href=\"https://felleisen.org/matthias/7480-s21/index.html\">History of Programming Languages</a><span class=\"sitebit comhead\"> (<a href=\"from?site=felleisen.org\"><span class=\"sitestr\">felleisen.org</span></a>)</span></td></tr><tr><td colspan=\"2\"></td><td class=\"subtext\">\n",
              " <span class=\"score\" id=\"score_27051498\">130 points</span> by <a class=\"hnuser\" href=\"user?id=ingve\">ingve</a> <span class=\"age\"><a href=\"item?id=27051498\">13 hours ago</a></span> <span id=\"unv_27051498\"></span> | <a href=\"hide?id=27051498&amp;goto=news\">hide</a> | <a href=\"item?id=27051498\">25 comments</a> </td></tr>\n",
              " <tr class=\"spacer\" style=\"height:5px\"></tr>\n",
              " <tr class=\"athing\" id=\"27036572\">\n",
              " <td align=\"right\" class=\"title\" valign=\"top\"><span class=\"rank\">16.</span></td> <td class=\"votelinks\" valign=\"top\"><center><a href=\"vote?id=27036572&amp;how=up&amp;goto=news\" id=\"up_27036572\"><div class=\"votearrow\" title=\"upvote\"></div></a></center></td><td class=\"title\"><a class=\"storylink\" href=\"https://angelhof.github.io/files/papers/shell-2021-hotos.pdf\">The Once and Future Shell [pdf]</a><span class=\"sitebit comhead\"> (<a href=\"from?site=angelhof.github.io\"><span class=\"sitestr\">angelhof.github.io</span></a>)</span></td></tr><tr><td colspan=\"2\"></td><td class=\"subtext\">\n",
              " <span class=\"score\" id=\"score_27036572\">28 points</span> by <a class=\"hnuser\" href=\"user?id=matt_d\">matt_d</a> <span class=\"age\"><a href=\"item?id=27036572\">4 hours ago</a></span> <span id=\"unv_27036572\"></span> | <a href=\"hide?id=27036572&amp;goto=news\">hide</a> | <a href=\"item?id=27036572\">7 comments</a> </td></tr>\n",
              " <tr class=\"spacer\" style=\"height:5px\"></tr>\n",
              " <tr class=\"athing\" id=\"27045463\">\n",
              " <td align=\"right\" class=\"title\" valign=\"top\"><span class=\"rank\">17.</span></td> <td class=\"votelinks\" valign=\"top\"><center><a href=\"vote?id=27045463&amp;how=up&amp;goto=news\" id=\"up_27045463\"><div class=\"votearrow\" title=\"upvote\"></div></a></center></td><td class=\"title\"><a class=\"storylink\" href=\"https://en.wikipedia.org/wiki/1700_Cascadia_earthquake\">1700 Cascadia Earthquake</a><span class=\"sitebit comhead\"> (<a href=\"from?site=wikipedia.org\"><span class=\"sitestr\">wikipedia.org</span></a>)</span></td></tr><tr><td colspan=\"2\"></td><td class=\"subtext\">\n",
              " <span class=\"score\" id=\"score_27045463\">111 points</span> by <a class=\"hnuser\" href=\"user?id=Hooke\">Hooke</a> <span class=\"age\"><a href=\"item?id=27045463\">10 hours ago</a></span> <span id=\"unv_27045463\"></span> | <a href=\"hide?id=27045463&amp;goto=news\">hide</a> | <a href=\"item?id=27045463\">82 comments</a> </td></tr>\n",
              " <tr class=\"spacer\" style=\"height:5px\"></tr>\n",
              " <tr class=\"athing\" id=\"27050731\">\n",
              " <td align=\"right\" class=\"title\" valign=\"top\"><span class=\"rank\">18.</span></td> <td class=\"votelinks\" valign=\"top\"><center><a href=\"vote?id=27050731&amp;how=up&amp;goto=news\" id=\"up_27050731\"><div class=\"votearrow\" title=\"upvote\"></div></a></center></td><td class=\"title\"><a class=\"storylink\" href=\"https://blog.playcanvas.com/introducing-the-anim-state-graph/\">PlayCanvas Launches Node-Based Animation Editor for WebGL</a><span class=\"sitebit comhead\"> (<a href=\"from?site=playcanvas.com\"><span class=\"sitestr\">playcanvas.com</span></a>)</span></td></tr><tr><td colspan=\"2\"></td><td class=\"subtext\">\n",
              " <span class=\"score\" id=\"score_27050731\">130 points</span> by <a class=\"hnuser\" href=\"user?id=ovenchips\">ovenchips</a> <span class=\"age\"><a href=\"item?id=27050731\">14 hours ago</a></span> <span id=\"unv_27050731\"></span> | <a href=\"hide?id=27050731&amp;goto=news\">hide</a> | <a href=\"item?id=27050731\">17 comments</a> </td></tr>\n",
              " <tr class=\"spacer\" style=\"height:5px\"></tr>\n",
              " <tr class=\"athing\" id=\"27052243\">\n",
              " <td align=\"right\" class=\"title\" valign=\"top\"><span class=\"rank\">19.</span></td> <td class=\"votelinks\" valign=\"top\"><center><a href=\"vote?id=27052243&amp;how=up&amp;goto=news\" id=\"up_27052243\"><div class=\"votearrow\" title=\"upvote\"></div></a></center></td><td class=\"title\"><a class=\"storylink\" href=\"https://medium.com/planet-stories/a-handy-introduction-to-cloud-optimized-geotiffs-1f2c9e716ec3\">Learning About the GeoTIFF File Format with a Hex Editor (2018)</a><span class=\"sitebit comhead\"> (<a href=\"from?site=medium.com/planet-stories\"><span class=\"sitestr\">medium.com/planet-stories</span></a>)</span></td></tr><tr><td colspan=\"2\"></td><td class=\"subtext\">\n",
              " <span class=\"score\" id=\"score_27052243\">84 points</span> by <a class=\"hnuser\" href=\"user?id=oldpatricka\">oldpatricka</a> <span class=\"age\"><a href=\"item?id=27052243\">13 hours ago</a></span> <span id=\"unv_27052243\"></span> | <a href=\"hide?id=27052243&amp;goto=news\">hide</a> | <a href=\"item?id=27052243\">18 comments</a> </td></tr>\n",
              " <tr class=\"spacer\" style=\"height:5px\"></tr>\n",
              " <tr class=\"athing\" id=\"27056300\">\n",
              " <td align=\"right\" class=\"title\" valign=\"top\"><span class=\"rank\">20.</span></td> <td class=\"votelinks\" valign=\"top\"><center><a href=\"vote?id=27056300&amp;how=up&amp;goto=news\" id=\"up_27056300\"><div class=\"votearrow\" title=\"upvote\"></div></a></center></td><td class=\"title\"><a class=\"storylink\" href=\"https://pxlnv.com/linklog/california-exception/\">The California Exception</a><span class=\"sitebit comhead\"> (<a href=\"from?site=pxlnv.com\"><span class=\"sitestr\">pxlnv.com</span></a>)</span></td></tr><tr><td colspan=\"2\"></td><td class=\"subtext\">\n",
              " <span class=\"score\" id=\"score_27056300\">157 points</span> by <a class=\"hnuser\" href=\"user?id=MaysonL\">MaysonL</a> <span class=\"age\"><a href=\"item?id=27056300\">7 hours ago</a></span> <span id=\"unv_27056300\"></span> | <a href=\"hide?id=27056300&amp;goto=news\">hide</a> | <a href=\"item?id=27056300\">94 comments</a> </td></tr>\n",
              " <tr class=\"spacer\" style=\"height:5px\"></tr>\n",
              " <tr class=\"athing\" id=\"27055759\">\n",
              " <td align=\"right\" class=\"title\" valign=\"top\"><span class=\"rank\">21.</span></td> <td></td><td class=\"title\"><a class=\"storylink\" href=\"https://www.workatastartup.com/jobs/43771\" rel=\"nofollow\">Zumo Labs (YC W20) Is Hiring a Product Manager</a><span class=\"sitebit comhead\"> (<a href=\"from?site=workatastartup.com\"><span class=\"sitestr\">workatastartup.com</span></a>)</span></td></tr><tr><td colspan=\"2\"></td><td class=\"subtext\">\n",
              " <span class=\"age\"><a href=\"item?id=27055759\">8 hours ago</a></span> | <a href=\"hide?id=27055759&amp;goto=news\">hide</a> </td></tr>\n",
              " <tr class=\"spacer\" style=\"height:5px\"></tr>\n",
              " <tr class=\"athing\" id=\"27050687\">\n",
              " <td align=\"right\" class=\"title\" valign=\"top\"><span class=\"rank\">22.</span></td> <td class=\"votelinks\" valign=\"top\"><center><a href=\"vote?id=27050687&amp;how=up&amp;goto=news\" id=\"up_27050687\"><div class=\"votearrow\" title=\"upvote\"></div></a></center></td><td class=\"title\"><a class=\"storylink\" href=\"https://github.com/slidevjs/slidev\">Slidev – Presentation Slides for Developers</a><span class=\"sitebit comhead\"> (<a href=\"from?site=github.com/slidevjs\"><span class=\"sitestr\">github.com/slidevjs</span></a>)</span></td></tr><tr><td colspan=\"2\"></td><td class=\"subtext\">\n",
              " <span class=\"score\" id=\"score_27050687\">109 points</span> by <a class=\"hnuser\" href=\"user?id=antfu\">antfu</a> <span class=\"age\"><a href=\"item?id=27050687\">14 hours ago</a></span> <span id=\"unv_27050687\"></span> | <a href=\"hide?id=27050687&amp;goto=news\">hide</a> | <a href=\"item?id=27050687\">21 comments</a> </td></tr>\n",
              " <tr class=\"spacer\" style=\"height:5px\"></tr>\n",
              " <tr class=\"athing\" id=\"27047243\">\n",
              " <td align=\"right\" class=\"title\" valign=\"top\"><span class=\"rank\">23.</span></td> <td class=\"votelinks\" valign=\"top\"><center><a href=\"vote?id=27047243&amp;how=up&amp;goto=news\" id=\"up_27047243\"><div class=\"votearrow\" title=\"upvote\"></div></a></center></td><td class=\"title\"><a class=\"storylink\" href=\"https://github.com/ClearURLs/Addon/\">ClearURLs – automatically remove tracking elements from URLs</a><span class=\"sitebit comhead\"> (<a href=\"from?site=github.com/clearurls\"><span class=\"sitestr\">github.com/clearurls</span></a>)</span></td></tr><tr><td colspan=\"2\"></td><td class=\"subtext\">\n",
              " <span class=\"score\" id=\"score_27047243\">707 points</span> by <a class=\"hnuser\" href=\"user?id=stanislavb\">stanislavb</a> <span class=\"age\"><a href=\"item?id=27047243\">22 hours ago</a></span> <span id=\"unv_27047243\"></span> | <a href=\"hide?id=27047243&amp;goto=news\">hide</a> | <a href=\"item?id=27047243\">276 comments</a> </td></tr>\n",
              " <tr class=\"spacer\" style=\"height:5px\"></tr>\n",
              " <tr class=\"athing\" id=\"27048672\">\n",
              " <td align=\"right\" class=\"title\" valign=\"top\"><span class=\"rank\">24.</span></td> <td class=\"votelinks\" valign=\"top\"><center><a href=\"vote?id=27048672&amp;how=up&amp;goto=news\" id=\"up_27048672\"><div class=\"votearrow\" title=\"upvote\"></div></a></center></td><td class=\"title\"><a class=\"storylink\" href=\"https://blubrry.com/microsoftresearch/76856095/120-advancing-excel-as-a-programming-language-with-andy-gordon-and-simon-peyton-jones/\">Advancing Excel as a programming language [audio]</a><span class=\"sitebit comhead\"> (<a href=\"from?site=blubrry.com\"><span class=\"sitestr\">blubrry.com</span></a>)</span></td></tr><tr><td colspan=\"2\"></td><td class=\"subtext\">\n",
              " <span class=\"score\" id=\"score_27048672\">69 points</span> by <a class=\"hnuser\" href=\"user?id=0-_-0\">0-_-0</a> <span class=\"age\"><a href=\"item?id=27048672\">10 hours ago</a></span> <span id=\"unv_27048672\"></span> | <a href=\"hide?id=27048672&amp;goto=news\">hide</a> | <a href=\"item?id=27048672\">74 comments</a> </td></tr>\n",
              " <tr class=\"spacer\" style=\"height:5px\"></tr>\n",
              " <tr class=\"athing\" id=\"27055671\">\n",
              " <td align=\"right\" class=\"title\" valign=\"top\"><span class=\"rank\">25.</span></td> <td class=\"votelinks\" valign=\"top\"><center><a href=\"vote?id=27055671&amp;how=up&amp;goto=news\" id=\"up_27055671\"><div class=\"votearrow\" title=\"upvote\"></div></a></center></td><td class=\"title\"><a class=\"storylink\" href=\"https://blog.google/inside-google/life-at-google/hybrid-approach-work/\">A Hybrid Approach to Work</a><span class=\"sitebit comhead\"> (<a href=\"from?site=blog.google\"><span class=\"sitestr\">blog.google</span></a>)</span></td></tr><tr><td colspan=\"2\"></td><td class=\"subtext\">\n",
              " <span class=\"score\" id=\"score_27055671\">130 points</span> by <a class=\"hnuser\" href=\"user?id=jader201\">jader201</a> <span class=\"age\"><a href=\"item?id=27055671\">8 hours ago</a></span> <span id=\"unv_27055671\"></span> | <a href=\"hide?id=27055671&amp;goto=news\">hide</a> | <a href=\"item?id=27055671\">99 comments</a> </td></tr>\n",
              " <tr class=\"spacer\" style=\"height:5px\"></tr>\n",
              " <tr class=\"athing\" id=\"27057978\">\n",
              " <td align=\"right\" class=\"title\" valign=\"top\"><span class=\"rank\">26.</span></td> <td class=\"votelinks\" valign=\"top\"><center><a href=\"vote?id=27057978&amp;how=up&amp;goto=news\" id=\"up_27057978\"><div class=\"votearrow\" title=\"upvote\"></div></a></center></td><td class=\"title\"><a class=\"storylink\" href=\"item?id=27057978\">Ask HN: How do you generally build a product?</a></td></tr><tr><td colspan=\"2\"></td><td class=\"subtext\">\n",
              " <span class=\"score\" id=\"score_27057978\">65 points</span> by <a class=\"hnuser\" href=\"user?id=tr1ll10nb1ll\">tr1ll10nb1ll</a> <span class=\"age\"><a href=\"item?id=27057978\">4 hours ago</a></span> <span id=\"unv_27057978\"></span> | <a href=\"hide?id=27057978&amp;goto=news\">hide</a> | <a href=\"item?id=27057978\">23 comments</a> </td></tr>\n",
              " <tr class=\"spacer\" style=\"height:5px\"></tr>\n",
              " <tr class=\"athing\" id=\"27051575\">\n",
              " <td align=\"right\" class=\"title\" valign=\"top\"><span class=\"rank\">27.</span></td> <td class=\"votelinks\" valign=\"top\"><center><a href=\"vote?id=27051575&amp;how=up&amp;goto=news\" id=\"up_27051575\"><div class=\"votearrow\" title=\"upvote\"></div></a></center></td><td class=\"title\"><a class=\"storylink\" href=\"https://technicshistory.com/2021/05/05/the-pumping-engine/\" rel=\"nofollow\">The Pumping Engine</a><span class=\"sitebit comhead\"> (<a href=\"from?site=technicshistory.com\"><span class=\"sitestr\">technicshistory.com</span></a>)</span></td></tr><tr><td colspan=\"2\"></td><td class=\"subtext\">\n",
              " <span class=\"score\" id=\"score_27051575\">7 points</span> by <a class=\"hnuser\" href=\"user?id=cfmcdonald\">cfmcdonald</a> <span class=\"age\"><a href=\"item?id=27051575\">3 hours ago</a></span> <span id=\"unv_27051575\"></span> | <a href=\"hide?id=27051575&amp;goto=news\">hide</a> | <a href=\"item?id=27051575\">1 comment</a> </td></tr>\n",
              " <tr class=\"spacer\" style=\"height:5px\"></tr>\n",
              " <tr class=\"athing\" id=\"27053836\">\n",
              " <td align=\"right\" class=\"title\" valign=\"top\"><span class=\"rank\">28.</span></td> <td class=\"votelinks\" valign=\"top\"><center><a href=\"vote?id=27053836&amp;how=up&amp;goto=news\" id=\"up_27053836\"><div class=\"votearrow\" title=\"upvote\"></div></a></center></td><td class=\"title\"><a class=\"storylink\" href=\"https://undark.org/2021/01/25/debate-over-melanoma-diagnosis/\">Are we screening too much for skin cancer? It's complicated</a><span class=\"sitebit comhead\"> (<a href=\"from?site=undark.org\"><span class=\"sitestr\">undark.org</span></a>)</span></td></tr><tr><td colspan=\"2\"></td><td class=\"subtext\">\n",
              " <span class=\"score\" id=\"score_27053836\">18 points</span> by <a class=\"hnuser\" href=\"user?id=laurex\">laurex</a> <span class=\"age\"><a href=\"item?id=27053836\">6 hours ago</a></span> <span id=\"unv_27053836\"></span> | <a href=\"hide?id=27053836&amp;goto=news\">hide</a> | <a href=\"item?id=27053836\">15 comments</a> </td></tr>\n",
              " <tr class=\"spacer\" style=\"height:5px\"></tr>\n",
              " <tr class=\"athing\" id=\"27055364\">\n",
              " <td align=\"right\" class=\"title\" valign=\"top\"><span class=\"rank\">29.</span></td> <td class=\"votelinks\" valign=\"top\"><center><a href=\"vote?id=27055364&amp;how=up&amp;goto=news\" id=\"up_27055364\"><div class=\"votearrow\" title=\"upvote\"></div></a></center></td><td class=\"title\"><a class=\"storylink\" href=\"https://blog.px.dev/open-source-release/\">Open sourcing Pixie under Apache 2.0 license</a><span class=\"sitebit comhead\"> (<a href=\"from?site=px.dev\"><span class=\"sitestr\">px.dev</span></a>)</span></td></tr><tr><td colspan=\"2\"></td><td class=\"subtext\">\n",
              " <span class=\"score\" id=\"score_27055364\">77 points</span> by <a class=\"hnuser\" href=\"user?id=nserrino\">nserrino</a> <span class=\"age\"><a href=\"item?id=27055364\">9 hours ago</a></span> <span id=\"unv_27055364\"></span> | <a href=\"hide?id=27055364&amp;goto=news\">hide</a> | <a href=\"item?id=27055364\">10 comments</a> </td></tr>\n",
              " <tr class=\"spacer\" style=\"height:5px\"></tr>\n",
              " <tr class=\"athing\" id=\"27036626\">\n",
              " <td align=\"right\" class=\"title\" valign=\"top\"><span class=\"rank\">30.</span></td> <td class=\"votelinks\" valign=\"top\"><center><a href=\"vote?id=27036626&amp;how=up&amp;goto=news\" id=\"up_27036626\"><div class=\"votearrow\" title=\"upvote\"></div></a></center></td><td class=\"title\"><a class=\"storylink\" href=\"https://github.com/jendrikseipp/vulture\">Vulture: Find Dead Python Code</a><span class=\"sitebit comhead\"> (<a href=\"from?site=github.com/jendrikseipp\"><span class=\"sitestr\">github.com/jendrikseipp</span></a>)</span></td></tr><tr><td colspan=\"2\"></td><td class=\"subtext\">\n",
              " <span class=\"score\" id=\"score_27036626\">55 points</span> by <a class=\"hnuser\" href=\"user?id=polm23\">polm23</a> <span class=\"age\"><a href=\"item?id=27036626\">9 hours ago</a></span> <span id=\"unv_27036626\"></span> | <a href=\"hide?id=27036626&amp;goto=news\">hide</a> | <a href=\"item?id=27036626\">17 comments</a> </td></tr>\n",
              " <tr class=\"spacer\" style=\"height:5px\"></tr>\n",
              " <tr class=\"morespace\" style=\"height:10px\"></tr><tr><td colspan=\"2\"></td><td class=\"title\"><a class=\"morelink\" href=\"news?p=2\" rel=\"next\">More</a></td></tr>\n",
              " </table>\n",
              " </td></tr>\n",
              " <tr><td><img height=\"10\" src=\"s.gif\" width=\"0\"/><table cellpadding=\"1\" cellspacing=\"0\" width=\"100%\"><tr><td bgcolor=\"#ff6600\"></td></tr></table><br/><center><span class=\"yclinks\"><a href=\"newsguidelines.html\">Guidelines</a>\n",
              "         | <a href=\"newsfaq.html\">FAQ</a>\n",
              "         | <a href=\"lists\">Lists</a>\n",
              "         | <a href=\"https://github.com/HackerNews/API\">API</a>\n",
              "         | <a href=\"security.html\">Security</a>\n",
              "         | <a href=\"http://www.ycombinator.com/legal/\">Legal</a>\n",
              "         | <a href=\"http://www.ycombinator.com/apply/\">Apply to YC</a>\n",
              "         | <a href=\"mailto:hn@ycombinator.com\">Contact</a></span><br/><br/><form action=\"//hn.algolia.com/\" method=\"get\">Search:\n",
              "           <input autocapitalize=\"off\" autocomplete=\"false\" autocorrect=\"off\" name=\"q\" size=\"17\" spellcheck=\"false\" type=\"text\" value=\"\"/></form>\n",
              " </center></td></tr>\n",
              " </table></center>]"
            ]
          },
          "metadata": {
            "tags": []
          },
          "execution_count": 11
        }
      ]
    },
    {
      "cell_type": "code",
      "metadata": {
        "colab": {
          "base_uri": "https://localhost:8080/"
        },
        "id": "OBAvME1nSm_u",
        "outputId": "f4b813d2-4c3e-4e86-d7b4-b2ff89562002"
      },
      "source": [
        "soup_obj.title"
      ],
      "execution_count": 12,
      "outputs": [
        {
          "output_type": "execute_result",
          "data": {
            "text/plain": [
              "<title>Hacker News</title>"
            ]
          },
          "metadata": {
            "tags": []
          },
          "execution_count": 12
        }
      ]
    },
    {
      "cell_type": "code",
      "metadata": {
        "colab": {
          "base_uri": "https://localhost:8080/"
        },
        "id": "ugii7rj2S4It",
        "outputId": "cd805590-8bfd-4830-a690-652d7dee70f4"
      },
      "source": [
        "soup_obj.find_all('a')"
      ],
      "execution_count": 13,
      "outputs": [
        {
          "output_type": "execute_result",
          "data": {
            "text/plain": [
              "[<a href=\"https://news.ycombinator.com\"><img height=\"18\" src=\"y18.gif\" style=\"border:1px white solid;\" width=\"18\"/></a>,\n",
              " <a href=\"news\">Hacker News</a>,\n",
              " <a href=\"newest\">new</a>,\n",
              " <a href=\"front\">past</a>,\n",
              " <a href=\"newcomments\">comments</a>,\n",
              " <a href=\"ask\">ask</a>,\n",
              " <a href=\"show\">show</a>,\n",
              " <a href=\"jobs\">jobs</a>,\n",
              " <a href=\"submit\">submit</a>,\n",
              " <a href=\"login?goto=news\">login</a>,\n",
              " <a href=\"vote?id=27058178&amp;how=up&amp;goto=news\" id=\"up_27058178\"><div class=\"votearrow\" title=\"upvote\"></div></a>,\n",
              " <a class=\"storylink\" href=\"https://techstartups.com/2021/05/05/liveleak-shuts-15-years-online/\">LiveLeak shuts down after 15 years online</a>,\n",
              " <a href=\"from?site=techstartups.com\"><span class=\"sitestr\">techstartups.com</span></a>,\n",
              " <a class=\"hnuser\" href=\"user?id=ro_bit\">ro_bit</a>,\n",
              " <a href=\"item?id=27058178\">4 hours ago</a>,\n",
              " <a href=\"hide?id=27058178&amp;goto=news\">hide</a>,\n",
              " <a href=\"item?id=27058178\">223 comments</a>,\n",
              " <a href=\"vote?id=27059119&amp;how=up&amp;goto=news\" id=\"up_27059119\"><div class=\"votearrow\" title=\"upvote\"></div></a>,\n",
              " <a class=\"storylink\" href=\"https://blog.pyston.org/2021/05/05/pyston-v2-2-faster-and-open-source/\">Pyston v2.2: faster and open source</a>,\n",
              " <a href=\"from?site=pyston.org\"><span class=\"sitestr\">pyston.org</span></a>,\n",
              " <a class=\"hnuser\" href=\"user?id=chenzhekl\">chenzhekl</a>,\n",
              " <a href=\"item?id=27059119\">1 hour ago</a>,\n",
              " <a href=\"hide?id=27059119&amp;goto=news\">hide</a>,\n",
              " <a href=\"item?id=27059119\">6 comments</a>,\n",
              " <a href=\"vote?id=27052840&amp;how=up&amp;goto=news\" id=\"up_27052840\"><div class=\"votearrow\" title=\"upvote\"></div></a>,\n",
              " <a class=\"storylink\" href=\"https://github.com/timvisee/send\">Send: A Fork of Mozilla's Firefox Send</a>,\n",
              " <a href=\"from?site=github.com/timvisee\"><span class=\"sitestr\">github.com/timvisee</span></a>,\n",
              " <a class=\"hnuser\" href=\"user?id=andredz\">andredz</a>,\n",
              " <a href=\"item?id=27052840\">12 hours ago</a>,\n",
              " <a href=\"hide?id=27052840&amp;goto=news\">hide</a>,\n",
              " <a href=\"item?id=27052840\">103 comments</a>,\n",
              " <a href=\"vote?id=27058914&amp;how=up&amp;goto=news\" id=\"up_27058914\"><div class=\"votearrow\" title=\"upvote\"></div></a>,\n",
              " <a class=\"storylink\" href=\"https://github.com/Sysinternals/ProcMon-for-Linux/\">ProcMon for Linux (Preview)</a>,\n",
              " <a href=\"from?site=github.com/sysinternals\"><span class=\"sitestr\">github.com/sysinternals</span></a>,\n",
              " <a class=\"hnuser\" href=\"user?id=vmarsy\">vmarsy</a>,\n",
              " <a href=\"item?id=27058914\">2 hours ago</a>,\n",
              " <a href=\"hide?id=27058914&amp;goto=news\">hide</a>,\n",
              " <a href=\"item?id=27058914\">4 comments</a>,\n",
              " <a href=\"vote?id=27059194&amp;how=up&amp;goto=news\" id=\"up_27059194\"><div class=\"votearrow\" title=\"upvote\"></div></a>,\n",
              " <a class=\"storylink\" href=\"https://twitter.com/CoinbaseNews/status/1390065013071781889\">Coinbase is closing their SF office and going full remote</a>,\n",
              " <a href=\"from?site=twitter.com/coinbasenews\"><span class=\"sitestr\">twitter.com/coinbasenews</span></a>,\n",
              " <a class=\"hnuser\" href=\"user?id=ZephyrBlu\">ZephyrBlu</a>,\n",
              " <a href=\"item?id=27059194\">1 hour ago</a>,\n",
              " <a href=\"hide?id=27059194&amp;goto=news\">hide</a>,\n",
              " <a href=\"item?id=27059194\">14 comments</a>,\n",
              " <a href=\"vote?id=27054357&amp;how=up&amp;goto=news\" id=\"up_27054357\"><div class=\"votearrow\" title=\"upvote\"></div></a>,\n",
              " <a class=\"storylink\" href=\"https://www.csweapons.com\">Show HN: CS Weapons – Counter-Strike weapon data comparison app</a>,\n",
              " <a href=\"from?site=csweapons.com\"><span class=\"sitestr\">csweapons.com</span></a>,\n",
              " <a class=\"hnuser\" href=\"user?id=vercadium\">vercadium</a>,\n",
              " <a href=\"item?id=27054357\">10 hours ago</a>,\n",
              " <a href=\"hide?id=27054357&amp;goto=news\">hide</a>,\n",
              " <a href=\"item?id=27054357\">83 comments</a>,\n",
              " <a href=\"vote?id=27051468&amp;how=up&amp;goto=news\" id=\"up_27051468\"><div class=\"votearrow\" title=\"upvote\"></div></a>,\n",
              " <a class=\"storylink\" href=\"https://github.com/andymatuschak/orbit\">Orbit: an experimental platform for small tasks repeated over time</a>,\n",
              " <a href=\"from?site=github.com/andymatuschak\"><span class=\"sitestr\">github.com/andymatuschak</span></a>,\n",
              " <a class=\"hnuser\" href=\"user?id=goerz\">goerz</a>,\n",
              " <a href=\"item?id=27051468\">13 hours ago</a>,\n",
              " <a href=\"hide?id=27051468&amp;goto=news\">hide</a>,\n",
              " <a href=\"item?id=27051468\">52 comments</a>,\n",
              " <a href=\"vote?id=27053655&amp;how=up&amp;goto=news\" id=\"up_27053655\"><div class=\"votearrow\" title=\"upvote\"></div></a>,\n",
              " <a class=\"storylink\" href=\"http://www.macflim.com\">MacFlim: Full-motion video on B&amp;W Macs</a>,\n",
              " <a href=\"from?site=macflim.com\"><span class=\"sitestr\">macflim.com</span></a>,\n",
              " <a class=\"hnuser\" href=\"user?id=smagoun\">smagoun</a>,\n",
              " <a href=\"item?id=27053655\">11 hours ago</a>,\n",
              " <a href=\"hide?id=27053655&amp;goto=news\">hide</a>,\n",
              " <a href=\"item?id=27053655\">53 comments</a>,\n",
              " <a href=\"vote?id=27054348&amp;how=up&amp;goto=news\" id=\"up_27054348\"><div class=\"votearrow\" title=\"upvote\"></div></a>,\n",
              " <a class=\"storylink\" href=\"https://markodenic.com/posts/html-tips/\">HTML Tips (2020)</a>,\n",
              " <a href=\"from?site=markodenic.com\"><span class=\"sitestr\">markodenic.com</span></a>,\n",
              " <a class=\"hnuser\" href=\"user?id=web_master\">web_master</a>,\n",
              " <a href=\"item?id=27054348\">10 hours ago</a>,\n",
              " <a href=\"hide?id=27054348&amp;goto=news\">hide</a>,\n",
              " <a href=\"item?id=27054348\">85 comments</a>,\n",
              " <a href=\"vote?id=27050801&amp;how=up&amp;goto=news\" id=\"up_27050801\"><div class=\"votearrow\" title=\"upvote\"></div></a>,\n",
              " <a class=\"storylink\" href=\"http://mobileatscale.com/\">Show HN: I wrote the book Building Mobile Apps at Scale</a>,\n",
              " <a href=\"from?site=mobileatscale.com\"><span class=\"sitestr\">mobileatscale.com</span></a>,\n",
              " <a class=\"hnuser\" href=\"user?id=gregdoesit\">gregdoesit</a>,\n",
              " <a href=\"item?id=27050801\">14 hours ago</a>,\n",
              " <a href=\"hide?id=27050801&amp;goto=news\">hide</a>,\n",
              " <a href=\"item?id=27050801\">36 comments</a>,\n",
              " <a href=\"vote?id=27052313&amp;how=up&amp;goto=news\" id=\"up_27052313\"><div class=\"votearrow\" title=\"upvote\"></div></a>,\n",
              " <a class=\"storylink\" href=\"https://ptsjs.org/\">Pts.js: a modular librairy for visualization and creative coding</a>,\n",
              " <a href=\"from?site=ptsjs.org\"><span class=\"sitestr\">ptsjs.org</span></a>,\n",
              " <a class=\"hnuser\" href=\"user?id=sctgrhm\">sctgrhm</a>,\n",
              " <a href=\"item?id=27052313\">13 hours ago</a>,\n",
              " <a href=\"hide?id=27052313&amp;goto=news\">hide</a>,\n",
              " <a href=\"item?id=27052313\">21 comments</a>,\n",
              " <a href=\"vote?id=27059053&amp;how=up&amp;goto=news\" id=\"up_27059053\"><div class=\"votearrow\" title=\"upvote\"></div></a>,\n",
              " <a class=\"storylink\" href=\"https://www.washingtonpost.com/sports/2021/05/05/japan-ioc-olympic-contract/\">Japan should cut losses and tell the IOC to take its Olympic pillage elsewhere</a>,\n",
              " <a href=\"from?site=washingtonpost.com\"><span class=\"sitestr\">washingtonpost.com</span></a>,\n",
              " <a class=\"hnuser\" href=\"user?id=Clewza313\">Clewza313</a>,\n",
              " <a href=\"item?id=27059053\">1 hour ago</a>,\n",
              " <a href=\"hide?id=27059053&amp;goto=news\">hide</a>,\n",
              " <a href=\"item?id=27059053\">29 comments</a>,\n",
              " <a href=\"vote?id=27045787&amp;how=up&amp;goto=news\" id=\"up_27045787\"><div class=\"votearrow\" title=\"upvote\"></div></a>,\n",
              " <a class=\"storylink\" href=\"https://furbo.org/2013/06/28/the-origin-of-tweet/\">The origin of “tweet” at Twitter (2013)</a>,\n",
              " <a href=\"from?site=furbo.org\"><span class=\"sitestr\">furbo.org</span></a>,\n",
              " <a class=\"hnuser\" href=\"user?id=pcr910303\">pcr910303</a>,\n",
              " <a href=\"item?id=27045787\">11 hours ago</a>,\n",
              " <a href=\"hide?id=27045787&amp;goto=news\">hide</a>,\n",
              " <a href=\"item?id=27045787\">35 comments</a>,\n",
              " <a href=\"vote?id=27058160&amp;how=up&amp;goto=news\" id=\"up_27058160\"><div class=\"votearrow\" title=\"upvote\"></div></a>,\n",
              " <a class=\"storylink\" href=\"https://www.scientificamerican.com/article/major-depressive-disorders-have-an-enormous-economic-impact/\">Major Depressive Disorders Have an Enormous Economic Impact</a>,\n",
              " <a href=\"from?site=scientificamerican.com\"><span class=\"sitestr\">scientificamerican.com</span></a>,\n",
              " <a class=\"hnuser\" href=\"user?id=pseudolus\">pseudolus</a>,\n",
              " <a href=\"item?id=27058160\">4 hours ago</a>,\n",
              " <a href=\"hide?id=27058160&amp;goto=news\">hide</a>,\n",
              " <a href=\"item?id=27058160\">76 comments</a>,\n",
              " <a href=\"vote?id=27051498&amp;how=up&amp;goto=news\" id=\"up_27051498\"><div class=\"votearrow\" title=\"upvote\"></div></a>,\n",
              " <a class=\"storylink\" href=\"https://felleisen.org/matthias/7480-s21/index.html\">History of Programming Languages</a>,\n",
              " <a href=\"from?site=felleisen.org\"><span class=\"sitestr\">felleisen.org</span></a>,\n",
              " <a class=\"hnuser\" href=\"user?id=ingve\">ingve</a>,\n",
              " <a href=\"item?id=27051498\">13 hours ago</a>,\n",
              " <a href=\"hide?id=27051498&amp;goto=news\">hide</a>,\n",
              " <a href=\"item?id=27051498\">25 comments</a>,\n",
              " <a href=\"vote?id=27036572&amp;how=up&amp;goto=news\" id=\"up_27036572\"><div class=\"votearrow\" title=\"upvote\"></div></a>,\n",
              " <a class=\"storylink\" href=\"https://angelhof.github.io/files/papers/shell-2021-hotos.pdf\">The Once and Future Shell [pdf]</a>,\n",
              " <a href=\"from?site=angelhof.github.io\"><span class=\"sitestr\">angelhof.github.io</span></a>,\n",
              " <a class=\"hnuser\" href=\"user?id=matt_d\">matt_d</a>,\n",
              " <a href=\"item?id=27036572\">4 hours ago</a>,\n",
              " <a href=\"hide?id=27036572&amp;goto=news\">hide</a>,\n",
              " <a href=\"item?id=27036572\">7 comments</a>,\n",
              " <a href=\"vote?id=27045463&amp;how=up&amp;goto=news\" id=\"up_27045463\"><div class=\"votearrow\" title=\"upvote\"></div></a>,\n",
              " <a class=\"storylink\" href=\"https://en.wikipedia.org/wiki/1700_Cascadia_earthquake\">1700 Cascadia Earthquake</a>,\n",
              " <a href=\"from?site=wikipedia.org\"><span class=\"sitestr\">wikipedia.org</span></a>,\n",
              " <a class=\"hnuser\" href=\"user?id=Hooke\">Hooke</a>,\n",
              " <a href=\"item?id=27045463\">10 hours ago</a>,\n",
              " <a href=\"hide?id=27045463&amp;goto=news\">hide</a>,\n",
              " <a href=\"item?id=27045463\">82 comments</a>,\n",
              " <a href=\"vote?id=27050731&amp;how=up&amp;goto=news\" id=\"up_27050731\"><div class=\"votearrow\" title=\"upvote\"></div></a>,\n",
              " <a class=\"storylink\" href=\"https://blog.playcanvas.com/introducing-the-anim-state-graph/\">PlayCanvas Launches Node-Based Animation Editor for WebGL</a>,\n",
              " <a href=\"from?site=playcanvas.com\"><span class=\"sitestr\">playcanvas.com</span></a>,\n",
              " <a class=\"hnuser\" href=\"user?id=ovenchips\">ovenchips</a>,\n",
              " <a href=\"item?id=27050731\">14 hours ago</a>,\n",
              " <a href=\"hide?id=27050731&amp;goto=news\">hide</a>,\n",
              " <a href=\"item?id=27050731\">17 comments</a>,\n",
              " <a href=\"vote?id=27052243&amp;how=up&amp;goto=news\" id=\"up_27052243\"><div class=\"votearrow\" title=\"upvote\"></div></a>,\n",
              " <a class=\"storylink\" href=\"https://medium.com/planet-stories/a-handy-introduction-to-cloud-optimized-geotiffs-1f2c9e716ec3\">Learning About the GeoTIFF File Format with a Hex Editor (2018)</a>,\n",
              " <a href=\"from?site=medium.com/planet-stories\"><span class=\"sitestr\">medium.com/planet-stories</span></a>,\n",
              " <a class=\"hnuser\" href=\"user?id=oldpatricka\">oldpatricka</a>,\n",
              " <a href=\"item?id=27052243\">13 hours ago</a>,\n",
              " <a href=\"hide?id=27052243&amp;goto=news\">hide</a>,\n",
              " <a href=\"item?id=27052243\">18 comments</a>,\n",
              " <a href=\"vote?id=27056300&amp;how=up&amp;goto=news\" id=\"up_27056300\"><div class=\"votearrow\" title=\"upvote\"></div></a>,\n",
              " <a class=\"storylink\" href=\"https://pxlnv.com/linklog/california-exception/\">The California Exception</a>,\n",
              " <a href=\"from?site=pxlnv.com\"><span class=\"sitestr\">pxlnv.com</span></a>,\n",
              " <a class=\"hnuser\" href=\"user?id=MaysonL\">MaysonL</a>,\n",
              " <a href=\"item?id=27056300\">7 hours ago</a>,\n",
              " <a href=\"hide?id=27056300&amp;goto=news\">hide</a>,\n",
              " <a href=\"item?id=27056300\">94 comments</a>,\n",
              " <a class=\"storylink\" href=\"https://www.workatastartup.com/jobs/43771\" rel=\"nofollow\">Zumo Labs (YC W20) Is Hiring a Product Manager</a>,\n",
              " <a href=\"from?site=workatastartup.com\"><span class=\"sitestr\">workatastartup.com</span></a>,\n",
              " <a href=\"item?id=27055759\">8 hours ago</a>,\n",
              " <a href=\"hide?id=27055759&amp;goto=news\">hide</a>,\n",
              " <a href=\"vote?id=27050687&amp;how=up&amp;goto=news\" id=\"up_27050687\"><div class=\"votearrow\" title=\"upvote\"></div></a>,\n",
              " <a class=\"storylink\" href=\"https://github.com/slidevjs/slidev\">Slidev – Presentation Slides for Developers</a>,\n",
              " <a href=\"from?site=github.com/slidevjs\"><span class=\"sitestr\">github.com/slidevjs</span></a>,\n",
              " <a class=\"hnuser\" href=\"user?id=antfu\">antfu</a>,\n",
              " <a href=\"item?id=27050687\">14 hours ago</a>,\n",
              " <a href=\"hide?id=27050687&amp;goto=news\">hide</a>,\n",
              " <a href=\"item?id=27050687\">21 comments</a>,\n",
              " <a href=\"vote?id=27047243&amp;how=up&amp;goto=news\" id=\"up_27047243\"><div class=\"votearrow\" title=\"upvote\"></div></a>,\n",
              " <a class=\"storylink\" href=\"https://github.com/ClearURLs/Addon/\">ClearURLs – automatically remove tracking elements from URLs</a>,\n",
              " <a href=\"from?site=github.com/clearurls\"><span class=\"sitestr\">github.com/clearurls</span></a>,\n",
              " <a class=\"hnuser\" href=\"user?id=stanislavb\">stanislavb</a>,\n",
              " <a href=\"item?id=27047243\">22 hours ago</a>,\n",
              " <a href=\"hide?id=27047243&amp;goto=news\">hide</a>,\n",
              " <a href=\"item?id=27047243\">276 comments</a>,\n",
              " <a href=\"vote?id=27048672&amp;how=up&amp;goto=news\" id=\"up_27048672\"><div class=\"votearrow\" title=\"upvote\"></div></a>,\n",
              " <a class=\"storylink\" href=\"https://blubrry.com/microsoftresearch/76856095/120-advancing-excel-as-a-programming-language-with-andy-gordon-and-simon-peyton-jones/\">Advancing Excel as a programming language [audio]</a>,\n",
              " <a href=\"from?site=blubrry.com\"><span class=\"sitestr\">blubrry.com</span></a>,\n",
              " <a class=\"hnuser\" href=\"user?id=0-_-0\">0-_-0</a>,\n",
              " <a href=\"item?id=27048672\">10 hours ago</a>,\n",
              " <a href=\"hide?id=27048672&amp;goto=news\">hide</a>,\n",
              " <a href=\"item?id=27048672\">74 comments</a>,\n",
              " <a href=\"vote?id=27055671&amp;how=up&amp;goto=news\" id=\"up_27055671\"><div class=\"votearrow\" title=\"upvote\"></div></a>,\n",
              " <a class=\"storylink\" href=\"https://blog.google/inside-google/life-at-google/hybrid-approach-work/\">A Hybrid Approach to Work</a>,\n",
              " <a href=\"from?site=blog.google\"><span class=\"sitestr\">blog.google</span></a>,\n",
              " <a class=\"hnuser\" href=\"user?id=jader201\">jader201</a>,\n",
              " <a href=\"item?id=27055671\">8 hours ago</a>,\n",
              " <a href=\"hide?id=27055671&amp;goto=news\">hide</a>,\n",
              " <a href=\"item?id=27055671\">99 comments</a>,\n",
              " <a href=\"vote?id=27057978&amp;how=up&amp;goto=news\" id=\"up_27057978\"><div class=\"votearrow\" title=\"upvote\"></div></a>,\n",
              " <a class=\"storylink\" href=\"item?id=27057978\">Ask HN: How do you generally build a product?</a>,\n",
              " <a class=\"hnuser\" href=\"user?id=tr1ll10nb1ll\">tr1ll10nb1ll</a>,\n",
              " <a href=\"item?id=27057978\">4 hours ago</a>,\n",
              " <a href=\"hide?id=27057978&amp;goto=news\">hide</a>,\n",
              " <a href=\"item?id=27057978\">23 comments</a>,\n",
              " <a href=\"vote?id=27051575&amp;how=up&amp;goto=news\" id=\"up_27051575\"><div class=\"votearrow\" title=\"upvote\"></div></a>,\n",
              " <a class=\"storylink\" href=\"https://technicshistory.com/2021/05/05/the-pumping-engine/\" rel=\"nofollow\">The Pumping Engine</a>,\n",
              " <a href=\"from?site=technicshistory.com\"><span class=\"sitestr\">technicshistory.com</span></a>,\n",
              " <a class=\"hnuser\" href=\"user?id=cfmcdonald\">cfmcdonald</a>,\n",
              " <a href=\"item?id=27051575\">3 hours ago</a>,\n",
              " <a href=\"hide?id=27051575&amp;goto=news\">hide</a>,\n",
              " <a href=\"item?id=27051575\">1 comment</a>,\n",
              " <a href=\"vote?id=27053836&amp;how=up&amp;goto=news\" id=\"up_27053836\"><div class=\"votearrow\" title=\"upvote\"></div></a>,\n",
              " <a class=\"storylink\" href=\"https://undark.org/2021/01/25/debate-over-melanoma-diagnosis/\">Are we screening too much for skin cancer? It's complicated</a>,\n",
              " <a href=\"from?site=undark.org\"><span class=\"sitestr\">undark.org</span></a>,\n",
              " <a class=\"hnuser\" href=\"user?id=laurex\">laurex</a>,\n",
              " <a href=\"item?id=27053836\">6 hours ago</a>,\n",
              " <a href=\"hide?id=27053836&amp;goto=news\">hide</a>,\n",
              " <a href=\"item?id=27053836\">15 comments</a>,\n",
              " <a href=\"vote?id=27055364&amp;how=up&amp;goto=news\" id=\"up_27055364\"><div class=\"votearrow\" title=\"upvote\"></div></a>,\n",
              " <a class=\"storylink\" href=\"https://blog.px.dev/open-source-release/\">Open sourcing Pixie under Apache 2.0 license</a>,\n",
              " <a href=\"from?site=px.dev\"><span class=\"sitestr\">px.dev</span></a>,\n",
              " <a class=\"hnuser\" href=\"user?id=nserrino\">nserrino</a>,\n",
              " <a href=\"item?id=27055364\">9 hours ago</a>,\n",
              " <a href=\"hide?id=27055364&amp;goto=news\">hide</a>,\n",
              " <a href=\"item?id=27055364\">10 comments</a>,\n",
              " <a href=\"vote?id=27036626&amp;how=up&amp;goto=news\" id=\"up_27036626\"><div class=\"votearrow\" title=\"upvote\"></div></a>,\n",
              " <a class=\"storylink\" href=\"https://github.com/jendrikseipp/vulture\">Vulture: Find Dead Python Code</a>,\n",
              " <a href=\"from?site=github.com/jendrikseipp\"><span class=\"sitestr\">github.com/jendrikseipp</span></a>,\n",
              " <a class=\"hnuser\" href=\"user?id=polm23\">polm23</a>,\n",
              " <a href=\"item?id=27036626\">9 hours ago</a>,\n",
              " <a href=\"hide?id=27036626&amp;goto=news\">hide</a>,\n",
              " <a href=\"item?id=27036626\">17 comments</a>,\n",
              " <a class=\"morelink\" href=\"news?p=2\" rel=\"next\">More</a>,\n",
              " <a href=\"newsguidelines.html\">Guidelines</a>,\n",
              " <a href=\"newsfaq.html\">FAQ</a>,\n",
              " <a href=\"lists\">Lists</a>,\n",
              " <a href=\"https://github.com/HackerNews/API\">API</a>,\n",
              " <a href=\"security.html\">Security</a>,\n",
              " <a href=\"http://www.ycombinator.com/legal/\">Legal</a>,\n",
              " <a href=\"http://www.ycombinator.com/apply/\">Apply to YC</a>,\n",
              " <a href=\"mailto:hn@ycombinator.com\">Contact</a>]"
            ]
          },
          "metadata": {
            "tags": []
          },
          "execution_count": 13
        }
      ]
    },
    {
      "cell_type": "code",
      "metadata": {
        "colab": {
          "base_uri": "https://localhost:8080/"
        },
        "id": "9rqjxBO2S_2j",
        "outputId": "e7738d13-b6e6-4afc-9206-9af304dc3166"
      },
      "source": [
        "soup_obj.find_all('div')"
      ],
      "execution_count": 14,
      "outputs": [
        {
          "output_type": "execute_result",
          "data": {
            "text/plain": [
              "[<div class=\"votearrow\" title=\"upvote\"></div>,\n",
              " <div class=\"votearrow\" title=\"upvote\"></div>,\n",
              " <div class=\"votearrow\" title=\"upvote\"></div>,\n",
              " <div class=\"votearrow\" title=\"upvote\"></div>,\n",
              " <div class=\"votearrow\" title=\"upvote\"></div>,\n",
              " <div class=\"votearrow\" title=\"upvote\"></div>,\n",
              " <div class=\"votearrow\" title=\"upvote\"></div>,\n",
              " <div class=\"votearrow\" title=\"upvote\"></div>,\n",
              " <div class=\"votearrow\" title=\"upvote\"></div>,\n",
              " <div class=\"votearrow\" title=\"upvote\"></div>,\n",
              " <div class=\"votearrow\" title=\"upvote\"></div>,\n",
              " <div class=\"votearrow\" title=\"upvote\"></div>,\n",
              " <div class=\"votearrow\" title=\"upvote\"></div>,\n",
              " <div class=\"votearrow\" title=\"upvote\"></div>,\n",
              " <div class=\"votearrow\" title=\"upvote\"></div>,\n",
              " <div class=\"votearrow\" title=\"upvote\"></div>,\n",
              " <div class=\"votearrow\" title=\"upvote\"></div>,\n",
              " <div class=\"votearrow\" title=\"upvote\"></div>,\n",
              " <div class=\"votearrow\" title=\"upvote\"></div>,\n",
              " <div class=\"votearrow\" title=\"upvote\"></div>,\n",
              " <div class=\"votearrow\" title=\"upvote\"></div>,\n",
              " <div class=\"votearrow\" title=\"upvote\"></div>,\n",
              " <div class=\"votearrow\" title=\"upvote\"></div>,\n",
              " <div class=\"votearrow\" title=\"upvote\"></div>,\n",
              " <div class=\"votearrow\" title=\"upvote\"></div>,\n",
              " <div class=\"votearrow\" title=\"upvote\"></div>,\n",
              " <div class=\"votearrow\" title=\"upvote\"></div>,\n",
              " <div class=\"votearrow\" title=\"upvote\"></div>,\n",
              " <div class=\"votearrow\" title=\"upvote\"></div>]"
            ]
          },
          "metadata": {
            "tags": []
          },
          "execution_count": 14
        }
      ]
    },
    {
      "cell_type": "code",
      "metadata": {
        "colab": {
          "base_uri": "https://localhost:8080/"
        },
        "id": "fn59xZNOTEuh",
        "outputId": "8f59a714-e61f-4280-e650-7f7c13998dd1"
      },
      "source": [
        "soup_obj.b"
      ],
      "execution_count": 15,
      "outputs": [
        {
          "output_type": "execute_result",
          "data": {
            "text/plain": [
              "<b class=\"hnname\"><a href=\"news\">Hacker News</a></b>"
            ]
          },
          "metadata": {
            "tags": []
          },
          "execution_count": 15
        }
      ]
    },
    {
      "cell_type": "code",
      "metadata": {
        "colab": {
          "base_uri": "https://localhost:8080/"
        },
        "id": "l4FuWFOkTOF2",
        "outputId": "819d505a-88fe-4b68-f2a7-f5349ded7c36"
      },
      "source": [
        "soup_obj.find('b') #work same as above give the first b"
      ],
      "execution_count": 16,
      "outputs": [
        {
          "output_type": "execute_result",
          "data": {
            "text/plain": [
              "<b class=\"hnname\"><a href=\"news\">Hacker News</a></b>"
            ]
          },
          "metadata": {
            "tags": []
          },
          "execution_count": 16
        }
      ]
    },
    {
      "cell_type": "code",
      "metadata": {
        "colab": {
          "base_uri": "https://localhost:8080/"
        },
        "id": "MnCkiL1pUIq1",
        "outputId": "dde670f9-5e24-4399-80f2-c4692ae1a39d"
      },
      "source": [
        "soup_obj.find(style=\"height:10px\")"
      ],
      "execution_count": 19,
      "outputs": [
        {
          "output_type": "execute_result",
          "data": {
            "text/plain": [
              "<tr id=\"pagespace\" style=\"height:10px\" title=\"\"></tr>"
            ]
          },
          "metadata": {
            "tags": []
          },
          "execution_count": 19
        }
      ]
    },
    {
      "cell_type": "code",
      "metadata": {
        "colab": {
          "base_uri": "https://localhost:8080/"
        },
        "id": "uN8Y6Ib7dIIm",
        "outputId": "ed7dbfb3-8328-459a-860b-3a7d5319a04c"
      },
      "source": [
        "soup_obj.select('.score') #css selector help to get particular thing # .score dot means class"
      ],
      "execution_count": 20,
      "outputs": [
        {
          "output_type": "execute_result",
          "data": {
            "text/plain": [
              "[<span class=\"score\" id=\"score_27058178\">362 points</span>,\n",
              " <span class=\"score\" id=\"score_27059119\">34 points</span>,\n",
              " <span class=\"score\" id=\"score_27052840\">517 points</span>,\n",
              " <span class=\"score\" id=\"score_27058914\">37 points</span>,\n",
              " <span class=\"score\" id=\"score_27059194\">53 points</span>,\n",
              " <span class=\"score\" id=\"score_27054357\">184 points</span>,\n",
              " <span class=\"score\" id=\"score_27051468\">341 points</span>,\n",
              " <span class=\"score\" id=\"score_27053655\">167 points</span>,\n",
              " <span class=\"score\" id=\"score_27054348\">459 points</span>,\n",
              " <span class=\"score\" id=\"score_27050801\">300 points</span>,\n",
              " <span class=\"score\" id=\"score_27052313\">197 points</span>,\n",
              " <span class=\"score\" id=\"score_27059053\">41 points</span>,\n",
              " <span class=\"score\" id=\"score_27045787\">97 points</span>,\n",
              " <span class=\"score\" id=\"score_27058160\">105 points</span>,\n",
              " <span class=\"score\" id=\"score_27051498\">130 points</span>,\n",
              " <span class=\"score\" id=\"score_27036572\">28 points</span>,\n",
              " <span class=\"score\" id=\"score_27045463\">111 points</span>,\n",
              " <span class=\"score\" id=\"score_27050731\">130 points</span>,\n",
              " <span class=\"score\" id=\"score_27052243\">84 points</span>,\n",
              " <span class=\"score\" id=\"score_27056300\">157 points</span>,\n",
              " <span class=\"score\" id=\"score_27050687\">109 points</span>,\n",
              " <span class=\"score\" id=\"score_27047243\">707 points</span>,\n",
              " <span class=\"score\" id=\"score_27048672\">69 points</span>,\n",
              " <span class=\"score\" id=\"score_27055671\">130 points</span>,\n",
              " <span class=\"score\" id=\"score_27057978\">65 points</span>,\n",
              " <span class=\"score\" id=\"score_27051575\">7 points</span>,\n",
              " <span class=\"score\" id=\"score_27053836\">18 points</span>,\n",
              " <span class=\"score\" id=\"score_27055364\">77 points</span>,\n",
              " <span class=\"score\" id=\"score_27036626\">55 points</span>]"
            ]
          },
          "metadata": {
            "tags": []
          },
          "execution_count": 20
        }
      ]
    },
    {
      "cell_type": "code",
      "metadata": {
        "colab": {
          "base_uri": "https://localhost:8080/"
        },
        "id": "alxSnDv9dpU2",
        "outputId": "893c13ee-e3c5-4675-acbd-873ea103fd42"
      },
      "source": [
        "soup_obj.select('#score_27036626')"
      ],
      "execution_count": 21,
      "outputs": [
        {
          "output_type": "execute_result",
          "data": {
            "text/plain": [
              "[<span class=\"score\" id=\"score_27036626\">55 points</span>]"
            ]
          },
          "metadata": {
            "tags": []
          },
          "execution_count": 21
        }
      ]
    },
    {
      "cell_type": "code",
      "metadata": {
        "colab": {
          "base_uri": "https://localhost:8080/"
        },
        "id": "AqgtZBmbe5v0",
        "outputId": "6f24f013-ae94-4ab2-cec8-f399c7966718"
      },
      "source": [
        "print(soup_obj.select('.storylink')[0])"
      ],
      "execution_count": 22,
      "outputs": [
        {
          "output_type": "stream",
          "text": [
            "<a class=\"storylink\" href=\"https://techstartups.com/2021/05/05/liveleak-shuts-15-years-online/\">LiveLeak shuts down after 15 years online</a>\n"
          ],
          "name": "stdout"
        }
      ]
    },
    {
      "cell_type": "code",
      "metadata": {
        "id": "lS27oaHhfd9y"
      },
      "source": [
        "links=soup_obj.select('.storylink')"
      ],
      "execution_count": 23,
      "outputs": []
    },
    {
      "cell_type": "code",
      "metadata": {
        "colab": {
          "base_uri": "https://localhost:8080/"
        },
        "id": "kFhVSlHZfmrn",
        "outputId": "e33d939c-c89f-4927-95f8-1b0b16dd35ae"
      },
      "source": [
        "votes=soup_obj.select('.score')\n",
        "votes"
      ],
      "execution_count": 33,
      "outputs": [
        {
          "output_type": "execute_result",
          "data": {
            "text/plain": [
              "[<span class=\"score\" id=\"score_27058178\">362 points</span>,\n",
              " <span class=\"score\" id=\"score_27059119\">34 points</span>,\n",
              " <span class=\"score\" id=\"score_27052840\">517 points</span>,\n",
              " <span class=\"score\" id=\"score_27058914\">37 points</span>,\n",
              " <span class=\"score\" id=\"score_27059194\">53 points</span>,\n",
              " <span class=\"score\" id=\"score_27054357\">184 points</span>,\n",
              " <span class=\"score\" id=\"score_27051468\">341 points</span>,\n",
              " <span class=\"score\" id=\"score_27053655\">167 points</span>,\n",
              " <span class=\"score\" id=\"score_27054348\">459 points</span>,\n",
              " <span class=\"score\" id=\"score_27050801\">300 points</span>,\n",
              " <span class=\"score\" id=\"score_27052313\">197 points</span>,\n",
              " <span class=\"score\" id=\"score_27059053\">41 points</span>,\n",
              " <span class=\"score\" id=\"score_27045787\">97 points</span>,\n",
              " <span class=\"score\" id=\"score_27058160\">105 points</span>,\n",
              " <span class=\"score\" id=\"score_27051498\">130 points</span>,\n",
              " <span class=\"score\" id=\"score_27036572\">28 points</span>,\n",
              " <span class=\"score\" id=\"score_27045463\">111 points</span>,\n",
              " <span class=\"score\" id=\"score_27050731\">130 points</span>,\n",
              " <span class=\"score\" id=\"score_27052243\">84 points</span>,\n",
              " <span class=\"score\" id=\"score_27056300\">157 points</span>,\n",
              " <span class=\"score\" id=\"score_27050687\">109 points</span>,\n",
              " <span class=\"score\" id=\"score_27047243\">707 points</span>,\n",
              " <span class=\"score\" id=\"score_27048672\">69 points</span>,\n",
              " <span class=\"score\" id=\"score_27055671\">130 points</span>,\n",
              " <span class=\"score\" id=\"score_27057978\">65 points</span>,\n",
              " <span class=\"score\" id=\"score_27051575\">7 points</span>,\n",
              " <span class=\"score\" id=\"score_27053836\">18 points</span>,\n",
              " <span class=\"score\" id=\"score_27055364\">77 points</span>,\n",
              " <span class=\"score\" id=\"score_27036626\">55 points</span>]"
            ]
          },
          "metadata": {
            "tags": []
          },
          "execution_count": 33
        }
      ]
    },
    {
      "cell_type": "code",
      "metadata": {
        "id": "OZtsv1SAodfs"
      },
      "source": [
        "subtext=soup_obj.select('.subtext')"
      ],
      "execution_count": 48,
      "outputs": []
    },
    {
      "cell_type": "code",
      "metadata": {
        "id": "QVNr2OrHiRjT"
      },
      "source": [
        "#create function to get imp text only\n",
        "def sortr(hint):\n",
        "  return sorted(hint,key= lambda x:x['points'],reverse=True)\n",
        "\n",
        "def imp(links,subtext):\n",
        "  hn=[] \n",
        "  for id,text in enumerate(links):\n",
        "    title=links[id].getText()\n",
        "    href=links[id].get('href',None)\n",
        "    vote=subtext[id].select('.score')\n",
        "    if len(vote):\n",
        "      points=int(vote[0].getText().replace(' points',\"\"))\n",
        "      #print(points)\n",
        "      if points>99:\n",
        "        hn.append({'title':title ,'link':href,'points':points})\n",
        "  return sortr(hn)"
      ],
      "execution_count": 61,
      "outputs": []
    },
    {
      "cell_type": "code",
      "metadata": {
        "colab": {
          "base_uri": "https://localhost:8080/"
        },
        "id": "3qvnI9H-jKsv",
        "outputId": "c660b9f0-a7a5-474c-abd3-3ba12b07c29a"
      },
      "source": [
        "print(imp(links,subtext))"
      ],
      "execution_count": 56,
      "outputs": [
        {
          "output_type": "stream",
          "text": [
            "[{'title': 'LiveLeak shuts down after 15 years online', 'link': 'https://techstartups.com/2021/05/05/liveleak-shuts-15-years-online/', 'points': 362}, {'title': \"Send: A Fork of Mozilla's Firefox Send\", 'link': 'https://github.com/timvisee/send', 'points': 517}, {'title': 'Show HN: CS Weapons – Counter-Strike weapon data comparison app', 'link': 'https://www.csweapons.com', 'points': 184}, {'title': 'Orbit: an experimental platform for small tasks repeated over time', 'link': 'https://github.com/andymatuschak/orbit', 'points': 341}, {'title': 'MacFlim: Full-motion video on B&W Macs', 'link': 'http://www.macflim.com', 'points': 167}, {'title': 'HTML Tips (2020)', 'link': 'https://markodenic.com/posts/html-tips/', 'points': 459}, {'title': 'Show HN: I wrote the book Building Mobile Apps at Scale', 'link': 'http://mobileatscale.com/', 'points': 300}, {'title': 'Pts.js: a modular librairy for visualization and creative coding', 'link': 'https://ptsjs.org/', 'points': 197}, {'title': 'Major Depressive Disorders Have an Enormous Economic Impact', 'link': 'https://www.scientificamerican.com/article/major-depressive-disorders-have-an-enormous-economic-impact/', 'points': 105}, {'title': 'History of Programming Languages', 'link': 'https://felleisen.org/matthias/7480-s21/index.html', 'points': 130}, {'title': '1700 Cascadia Earthquake', 'link': 'https://en.wikipedia.org/wiki/1700_Cascadia_earthquake', 'points': 111}, {'title': 'PlayCanvas Launches Node-Based Animation Editor for WebGL', 'link': 'https://blog.playcanvas.com/introducing-the-anim-state-graph/', 'points': 130}, {'title': 'The California Exception', 'link': 'https://pxlnv.com/linklog/california-exception/', 'points': 157}, {'title': 'Slidev – Presentation Slides for Developers', 'link': 'https://github.com/slidevjs/slidev', 'points': 109}, {'title': 'ClearURLs – automatically remove tracking elements from URLs', 'link': 'https://github.com/ClearURLs/Addon/', 'points': 707}, {'title': 'A Hybrid Approach to Work', 'link': 'https://blog.google/inside-google/life-at-google/hybrid-approach-work/', 'points': 130}]\n"
          ],
          "name": "stdout"
        }
      ]
    },
    {
      "cell_type": "code",
      "metadata": {
        "id": "2XsmlTmBqrJ-"
      },
      "source": [
        "import pprint"
      ],
      "execution_count": 57,
      "outputs": []
    },
    {
      "cell_type": "code",
      "metadata": {
        "colab": {
          "base_uri": "https://localhost:8080/"
        },
        "id": "TEVYWcssqtmS",
        "outputId": "d4f148d6-ea66-47ec-8c81-55ade784ff0a"
      },
      "source": [
        "pprint.pprint(imp(links,subtext))"
      ],
      "execution_count": 62,
      "outputs": [
        {
          "output_type": "stream",
          "text": [
            "[{'link': 'https://github.com/ClearURLs/Addon/',\n",
            "  'points': 707,\n",
            "  'title': 'ClearURLs – automatically remove tracking elements from URLs'},\n",
            " {'link': 'https://github.com/timvisee/send',\n",
            "  'points': 517,\n",
            "  'title': \"Send: A Fork of Mozilla's Firefox Send\"},\n",
            " {'link': 'https://markodenic.com/posts/html-tips/',\n",
            "  'points': 459,\n",
            "  'title': 'HTML Tips (2020)'},\n",
            " {'link': 'https://techstartups.com/2021/05/05/liveleak-shuts-15-years-online/',\n",
            "  'points': 362,\n",
            "  'title': 'LiveLeak shuts down after 15 years online'},\n",
            " {'link': 'https://github.com/andymatuschak/orbit',\n",
            "  'points': 341,\n",
            "  'title': 'Orbit: an experimental platform for small tasks repeated over '\n",
            "           'time'},\n",
            " {'link': 'http://mobileatscale.com/',\n",
            "  'points': 300,\n",
            "  'title': 'Show HN: I wrote the book Building Mobile Apps at Scale'},\n",
            " {'link': 'https://ptsjs.org/',\n",
            "  'points': 197,\n",
            "  'title': 'Pts.js: a modular librairy for visualization and creative coding'},\n",
            " {'link': 'https://www.csweapons.com',\n",
            "  'points': 184,\n",
            "  'title': 'Show HN: CS Weapons – Counter-Strike weapon data comparison app'},\n",
            " {'link': 'http://www.macflim.com',\n",
            "  'points': 167,\n",
            "  'title': 'MacFlim: Full-motion video on B&W Macs'},\n",
            " {'link': 'https://pxlnv.com/linklog/california-exception/',\n",
            "  'points': 157,\n",
            "  'title': 'The California Exception'},\n",
            " {'link': 'https://felleisen.org/matthias/7480-s21/index.html',\n",
            "  'points': 130,\n",
            "  'title': 'History of Programming Languages'},\n",
            " {'link': 'https://blog.playcanvas.com/introducing-the-anim-state-graph/',\n",
            "  'points': 130,\n",
            "  'title': 'PlayCanvas Launches Node-Based Animation Editor for WebGL'},\n",
            " {'link': 'https://blog.google/inside-google/life-at-google/hybrid-approach-work/',\n",
            "  'points': 130,\n",
            "  'title': 'A Hybrid Approach to Work'},\n",
            " {'link': 'https://en.wikipedia.org/wiki/1700_Cascadia_earthquake',\n",
            "  'points': 111,\n",
            "  'title': '1700 Cascadia Earthquake'},\n",
            " {'link': 'https://github.com/slidevjs/slidev',\n",
            "  'points': 109,\n",
            "  'title': 'Slidev – Presentation Slides for Developers'},\n",
            " {'link': 'https://www.scientificamerican.com/article/major-depressive-disorders-have-an-enormous-economic-impact/',\n",
            "  'points': 105,\n",
            "  'title': 'Major Depressive Disorders Have an Enormous Economic Impact'}]\n"
          ],
          "name": "stdout"
        }
      ]
    },
    {
      "cell_type": "markdown",
      "metadata": {
        "id": "014hovNox_vq"
      },
      "source": [
        "you can also use scrapy frame work for massive data "
      ]
    },
    {
      "cell_type": "markdown",
      "metadata": {
        "id": "BuvXy54pyNy_"
      },
      "source": [
        ""
      ]
    }
  ]
}